{
 "cells": [
  {
   "cell_type": "code",
   "execution_count": 1,
   "id": "e385ac48",
   "metadata": {},
   "outputs": [],
   "source": [
    "import gurobipy as gp\n",
    "from gurobipy import GRB\n",
    "import numpy as np"
   ]
  },
  {
   "cell_type": "code",
   "execution_count": 2,
   "id": "fdb6f1d0",
   "metadata": {},
   "outputs": [],
   "source": [
    "from gurobipy import *"
   ]
  },
  {
   "cell_type": "code",
   "execution_count": 3,
   "id": "b4fe2de1",
   "metadata": {},
   "outputs": [],
   "source": [
    "import matplotlib.pyplot as plt\n",
    "import numpy as np"
   ]
  },
  {
   "cell_type": "markdown",
   "id": "ac5e5307",
   "metadata": {},
   "source": [
    "# L = 35"
   ]
  },
  {
   "cell_type": "code",
   "execution_count": 4,
   "id": "dce2f90b",
   "metadata": {},
   "outputs": [
    {
     "name": "stdout",
     "output_type": "stream",
     "text": [
      "Set parameter Username\n",
      "Academic license - for non-commercial use only - expires 2023-03-15\n"
     ]
    }
   ],
   "source": [
    "p1_35 = Model (\"p1_L=35\")\n"
   ]
  },
  {
   "cell_type": "code",
   "execution_count": 5,
   "id": "60ba3315",
   "metadata": {},
   "outputs": [],
   "source": [
    "L = 35\n",
    "#25 / 35"
   ]
  },
  {
   "cell_type": "code",
   "execution_count": 6,
   "id": "52ddf5d2",
   "metadata": {},
   "outputs": [],
   "source": [
    "x = {}\n",
    "y = {}\n",
    "for i in range(4):\n",
    "    x[i] = p1_35.addVar(lb = 0, vtype = GRB.CONTINUOUS, name = \"x\"+ str(i+1))\n",
    "    y[i] = p1_35.addVar(lb = 0, vtype = GRB.CONTINUOUS, name = \"y\"+ str(i+1))"
   ]
  },
  {
   "cell_type": "code",
   "execution_count": 7,
   "id": "a7051178",
   "metadata": {},
   "outputs": [],
   "source": [
    "p1_35.setObjective(y[0] + y[1] + y[2] + y[3], GRB.MINIMIZE)"
   ]
  },
  {
   "cell_type": "code",
   "execution_count": 8,
   "id": "579e7f89",
   "metadata": {},
   "outputs": [
    {
     "name": "stdout",
     "output_type": "stream",
     "text": [
      "0\n",
      "1\n",
      "2\n"
     ]
    }
   ],
   "source": [
    "p1_35.addConstr(x[len(x)-1] <= 100, \"width constraint between x4 and right point\")\n",
    "for i in range(3):\n",
    "    print(i)\n",
    "    p1_35.addConstr(x[i] <= x[i+1], \"width constraint between\" + str(i+1) + \" , \", str(i+2))"
   ]
  },
  {
   "cell_type": "code",
   "execution_count": 9,
   "id": "2539a484",
   "metadata": {},
   "outputs": [
    {
     "data": {
      "text/plain": [
       "<gurobi.QConstr Not Yet Added>"
      ]
     },
     "execution_count": 9,
     "metadata": {},
     "output_type": "execute_result"
    }
   ],
   "source": [
    "p1_35.addConstr(pow(x[0],2) + pow((y[0]-100),2) == pow(L,2), \"distance constraint between x1 and left point\")\n"
   ]
  },
  {
   "cell_type": "code",
   "execution_count": 10,
   "id": "9f0ac7ae",
   "metadata": {},
   "outputs": [],
   "source": [
    "for i in range(3):\n",
    "    p1_35.addConstr(pow(x[i]-x[i+1], 2) + pow(y[i]-y[i+1], 2) == pow(L,2), \"height constraint between\" + str(i+1) + \" , \", str(i+2))"
   ]
  },
  {
   "cell_type": "code",
   "execution_count": 11,
   "id": "86689084",
   "metadata": {},
   "outputs": [
    {
     "data": {
      "text/plain": [
       "<gurobi.QConstr Not Yet Added>"
      ]
     },
     "execution_count": 11,
     "metadata": {},
     "output_type": "execute_result"
    }
   ],
   "source": [
    "p1_35.addConstr(pow(x[len(x)-1]-100, 2) + pow(y[len(y)-1]-150, 2) == pow(L,2), \"height constraint between x4 and right point\")"
   ]
  },
  {
   "cell_type": "code",
   "execution_count": 12,
   "id": "415e8cf6",
   "metadata": {},
   "outputs": [],
   "source": [
    "p1_35.update()"
   ]
  },
  {
   "cell_type": "code",
   "execution_count": 13,
   "id": "5fe42130",
   "metadata": {},
   "outputs": [
    {
     "name": "stdout",
     "output_type": "stream",
     "text": [
      "Set parameter NonConvex to value 2\n"
     ]
    }
   ],
   "source": [
    "p1_35.Params.NonConvex = 2"
   ]
  },
  {
   "cell_type": "code",
   "execution_count": 14,
   "id": "6c3206a0",
   "metadata": {},
   "outputs": [
    {
     "name": "stdout",
     "output_type": "stream",
     "text": [
      "Gurobi Optimizer version 9.5.1 build v9.5.1rc2 (win64)\n",
      "Thread count: 4 physical cores, 8 logical processors, using up to 8 threads\n",
      "Optimize a model with 4 rows, 8 columns and 7 nonzeros\n",
      "Model fingerprint: 0x578588a4\n",
      "Model has 5 quadratic constraints\n",
      "Coefficient statistics:\n",
      "  Matrix range     [1e+00, 1e+00]\n",
      "  QMatrix range    [1e+00, 2e+00]\n",
      "  QLMatrix range   [2e+02, 3e+02]\n",
      "  Objective range  [1e+00, 1e+00]\n",
      "  Bounds range     [0e+00, 0e+00]\n",
      "  RHS range        [1e+02, 1e+02]\n",
      "  QRHS range       [1e+03, 3e+04]\n",
      "Presolve removed 1 rows and 0 columns\n",
      "\n",
      "Continuous model is non-convex -- solving as a MIP\n",
      "\n",
      "Presolve removed 1 rows and 0 columns\n",
      "Presolve time: 0.00s\n",
      "Presolved: 56 rows, 22 columns, 125 nonzeros\n",
      "Presolved model has 14 bilinear constraint(s)\n",
      "Variable types: 22 continuous, 0 integer (0 binary)\n",
      "\n",
      "Root relaxation: objective 1.562448e+02, 10 iterations, 0.00 seconds (0.00 work units)\n",
      "\n",
      "    Nodes    |    Current Node    |     Objective Bounds      |     Work\n",
      " Expl Unexpl |  Obj  Depth IntInf | Incumbent    BestBd   Gap | It/Node Time\n",
      "\n",
      "     0     0  156.24482    0    8          -  156.24482      -     -    0s\n",
      "H    0     0                     330.2925740  156.24482  52.7%     -    0s\n",
      "     0     0  215.16032    0   14  330.29257  215.16032  34.9%     -    0s\n",
      "     0     0  223.27933    0    8  330.29257  223.27933  32.4%     -    0s\n",
      "     0     0  230.45416    0   10  330.29257  230.45416  30.2%     -    0s\n",
      "     0     0  230.45444    0   10  330.29257  230.45444  30.2%     -    0s\n",
      "     0     0  248.87395    0    6  330.29257  248.87395  24.7%     -    0s\n",
      "     0     0  252.88140    0   14  330.29257  252.88140  23.4%     -    0s\n",
      "     0     0  255.33962    0   12  330.29257  255.33962  22.7%     -    0s\n",
      "     0     0  259.45185    0   14  330.29257  259.45185  21.4%     -    0s\n",
      "     0     0  259.47219    0   14  330.29257  259.47219  21.4%     -    0s\n",
      "     0     0  259.47252    0   14  330.29257  259.47252  21.4%     -    0s\n",
      "     0     0  259.47261    0   14  330.29257  259.47261  21.4%     -    0s\n",
      "     0     0  282.60039    0   14  330.29257  282.60039  14.4%     -    0s\n",
      "     0     2  282.60039    0   14  330.29257  282.60039  14.4%     -    0s\n",
      "\n",
      "Cutting planes:\n",
      "  RLT: 1\n",
      "  PSD: 8\n",
      "\n",
      "Explored 2491 nodes (9599 simplex iterations) in 0.22 seconds (0.06 work units)\n",
      "Thread count was 8 (of 8 available processors)\n",
      "\n",
      "Solution count 1: 330.293 \n",
      "\n",
      "Optimal solution found (tolerance 1.00e-04)\n",
      "Best objective 3.302925740231e+02, best bound 3.302600732898e+02, gap 0.0098%\n"
     ]
    }
   ],
   "source": [
    "p1_35.optimize()"
   ]
  },
  {
   "cell_type": "code",
   "execution_count": 15,
   "id": "0b4bd8b1",
   "metadata": {},
   "outputs": [
    {
     "name": "stdout",
     "output_type": "stream",
     "text": [
      "x1  =  18.364168696515847\n",
      "y1  =  70.2047435304559\n",
      "x2  =  51.72203519386264\n",
      "y2  =  59.60980404288967\n",
      "x3  =  76.62919367795483\n",
      "y3  =  84.19909960515244\n",
      "x4  =  90.62507465364659\n",
      "y4  =  116.27892684462284\n",
      "objective value = 330.2925740231209\n"
     ]
    }
   ],
   "source": [
    "ans = {}\n",
    "for var in p1_35.getVars():\n",
    "    print(var.varName, \" = \", var.x) \n",
    "    ans[var.varName] = var.x\n",
    "print(\"objective value =\", p1_35.objVal)\n"
   ]
  },
  {
   "cell_type": "code",
   "execution_count": 16,
   "id": "43616ae7",
   "metadata": {
    "scrolled": true
   },
   "outputs": [
    {
     "name": "stdout",
     "output_type": "stream",
     "text": [
      "1225.0000000000016\n",
      "1225.0000000000014\n",
      "1224.999999999998\n"
     ]
    }
   ],
   "source": [
    "for i in range(3):\n",
    "    val = pow(ans['x'+str(i+1)] - ans['x'+str(i+2)], 2) + pow(ans['y'+str(i+1)] - ans['y'+str(i+2)], 2)\n",
    "    print(val)"
   ]
  },
  {
   "cell_type": "code",
   "execution_count": 17,
   "id": "d7e694aa",
   "metadata": {},
   "outputs": [],
   "source": [
    "x_graph = []\n",
    "y_graph = []\n",
    "x_graph.append(0)\n",
    "y_graph.append(100)"
   ]
  },
  {
   "cell_type": "code",
   "execution_count": 18,
   "id": "807e98bc",
   "metadata": {},
   "outputs": [
    {
     "name": "stdout",
     "output_type": "stream",
     "text": [
      "1225.0000000000016\n",
      "1225.0000000000014\n",
      "1224.999999999998\n"
     ]
    }
   ],
   "source": [
    "for i in range(3):\n",
    "    val = pow(ans['x'+str(i+1)] - ans['x'+str(i+2)], 2) + pow(ans['y'+str(i+1)] - ans['y'+str(i+2)], 2)\n",
    "    print(val)\n",
    "    x_graph.append(ans['x'+str(i+1)])\n",
    "    y_graph.append(ans['y'+str(i+1)])"
   ]
  },
  {
   "cell_type": "code",
   "execution_count": 19,
   "id": "4554a344",
   "metadata": {},
   "outputs": [],
   "source": [
    "x_graph.append(ans['x4'])\n",
    "y_graph.append(ans['y4'])\n",
    "x_graph.append(100)\n",
    "y_graph.append(150)"
   ]
  },
  {
   "cell_type": "code",
   "execution_count": 20,
   "id": "4f9868da",
   "metadata": {},
   "outputs": [
    {
     "data": {
      "image/png": "[encoded data removed]",
      "text/plain": [
       "<Figure size 432x288 with 1 Axes>"
      ]
     },
     "metadata": {
      "needs_background": "light"
     },
     "output_type": "display_data"
    }
   ],
   "source": [
    "x = np.array(x_graph)\n",
    "y = np.array(y_graph)\n",
    "\n",
    "fig = plt.figure()\n",
    "ax = fig.gca()\n",
    "plt.scatter(x, y)\n",
    "plt.grid()\n",
    "plt.show()\n"
   ]
  },
  {
   "cell_type": "markdown",
   "id": "9eb37a4b",
   "metadata": {},
   "source": [
    "# L = 25"
   ]
  },
  {
   "cell_type": "code",
   "execution_count": 21,
   "id": "3f5bd419",
   "metadata": {},
   "outputs": [],
   "source": [
    "p1_25 = Model (\"p1_L=25\")\n"
   ]
  },
  {
   "cell_type": "code",
   "execution_count": 22,
   "id": "b54e4a9d",
   "metadata": {},
   "outputs": [],
   "source": [
    "L = 25\n",
    "#25 / 35"
   ]
  },
  {
   "cell_type": "code",
   "execution_count": 23,
   "id": "b6559f38",
   "metadata": {},
   "outputs": [],
   "source": [
    "x = {}\n",
    "y = {}\n",
    "for i in range(4):\n",
    "    x[i] = p1_25.addVar(lb = 0, vtype = GRB.CONTINUOUS, name = \"x\"+ str(i+1))\n",
    "    y[i] = p1_25.addVar(lb = 0, vtype = GRB.CONTINUOUS, name = \"y\"+ str(i+1))"
   ]
  },
  {
   "cell_type": "code",
   "execution_count": 24,
   "id": "f78e74fd",
   "metadata": {},
   "outputs": [],
   "source": [
    "p1_25.setObjective(y[0] + y[1] + y[2] + y[3], GRB.MINIMIZE)"
   ]
  },
  {
   "cell_type": "code",
   "execution_count": 25,
   "id": "4f443fe9",
   "metadata": {},
   "outputs": [
    {
     "name": "stdout",
     "output_type": "stream",
     "text": [
      "0\n",
      "1\n",
      "2\n"
     ]
    }
   ],
   "source": [
    "p1_25.addConstr(x[len(x)-1] <= 100, \"width constraint between x4 and right point\")\n",
    "for i in range(3):\n",
    "    print(i)\n",
    "    p1_25.addConstr(x[i] <= x[i+1], \"width constraint between\" + str(i+1) + \" , \", str(i+2))"
   ]
  },
  {
   "cell_type": "code",
   "execution_count": 26,
   "id": "c5e04442",
   "metadata": {},
   "outputs": [
    {
     "data": {
      "text/plain": [
       "<gurobi.QConstr Not Yet Added>"
      ]
     },
     "execution_count": 26,
     "metadata": {},
     "output_type": "execute_result"
    }
   ],
   "source": [
    "p1_25.addConstr(pow(x[0],2) + pow((y[0]-100),2) == pow(L,2), \"distance constraint between x1 and left point\")\n"
   ]
  },
  {
   "cell_type": "code",
   "execution_count": 27,
   "id": "457a2247",
   "metadata": {},
   "outputs": [],
   "source": [
    "for i in range(3):\n",
    "    p1_25.addConstr(pow(x[i]-x[i+1], 2) + pow(y[i]-y[i+1], 2) == pow(L,2), \"height constraint between\" + str(i+1) + \" , \", str(i+2))"
   ]
  },
  {
   "cell_type": "code",
   "execution_count": 28,
   "id": "c8d0a649",
   "metadata": {},
   "outputs": [
    {
     "data": {
      "text/plain": [
       "<gurobi.QConstr Not Yet Added>"
      ]
     },
     "execution_count": 28,
     "metadata": {},
     "output_type": "execute_result"
    }
   ],
   "source": [
    "p1_25.addConstr(pow(x[len(x)-1]-100, 2) + pow(y[len(y)-1]-150, 2) == pow(L,2), \"height constraint between x4 and right point\")"
   ]
  },
  {
   "cell_type": "code",
   "execution_count": 29,
   "id": "dfd47348",
   "metadata": {},
   "outputs": [],
   "source": [
    "p1_25.update()"
   ]
  },
  {
   "cell_type": "code",
   "execution_count": 30,
   "id": "9f177c32",
   "metadata": {},
   "outputs": [
    {
     "name": "stdout",
     "output_type": "stream",
     "text": [
      "Set parameter NonConvex to value 2\n"
     ]
    }
   ],
   "source": [
    "p1_25.Params.NonConvex = 2"
   ]
  },
  {
   "cell_type": "code",
   "execution_count": 31,
   "id": "e54df133",
   "metadata": {},
   "outputs": [
    {
     "name": "stdout",
     "output_type": "stream",
     "text": [
      "Gurobi Optimizer version 9.5.1 build v9.5.1rc2 (win64)\n",
      "Thread count: 4 physical cores, 8 logical processors, using up to 8 threads\n",
      "Optimize a model with 4 rows, 8 columns and 7 nonzeros\n",
      "Model fingerprint: 0x5d667a89\n",
      "Model has 5 quadratic constraints\n",
      "Coefficient statistics:\n",
      "  Matrix range     [1e+00, 1e+00]\n",
      "  QMatrix range    [1e+00, 2e+00]\n",
      "  QLMatrix range   [2e+02, 3e+02]\n",
      "  Objective range  [1e+00, 1e+00]\n",
      "  Bounds range     [0e+00, 0e+00]\n",
      "  RHS range        [1e+02, 1e+02]\n",
      "  QRHS range       [6e+02, 3e+04]\n",
      "Presolve removed 1 rows and 0 columns\n",
      "\n",
      "Continuous model is non-convex -- solving as a MIP\n",
      "\n",
      "Presolve removed 1 rows and 0 columns\n",
      "Presolve time: 0.00s\n",
      "Presolved: 56 rows, 22 columns, 125 nonzeros\n",
      "Presolved model has 14 bilinear constraint(s)\n",
      "Variable types: 22 continuous, 0 integer (0 binary)\n",
      "\n",
      "Root relaxation: objective 1.704295e+02, 10 iterations, 0.00 seconds (0.00 work units)\n",
      "\n",
      "    Nodes    |    Current Node    |     Objective Bounds      |     Work\n",
      " Expl Unexpl |  Obj  Depth IntInf | Incumbent    BestBd   Gap | It/Node Time\n",
      "\n",
      "     0     0  170.42948    0    8          -  170.42948      -     -    0s\n",
      "H    0     0                     429.2826382  170.42948  60.3%     -    0s\n",
      "     0     0  244.19825    0   14  429.28264  244.19825  43.1%     -    0s\n",
      "     0     0  259.83758    0   14  429.28264  259.83758  39.5%     -    0s\n",
      "     0     0  262.15250    0   14  429.28264  262.15250  38.9%     -    0s\n",
      "     0     0  262.98442    0   14  429.28264  262.98442  38.7%     -    0s\n",
      "     0     0  263.09237    0   14  429.28264  263.09237  38.7%     -    0s\n",
      "     0     0  263.09791    0   14  429.28264  263.09791  38.7%     -    0s\n",
      "     0     0  280.53382    0   14  429.28264  280.53382  34.7%     -    0s\n",
      "     0     2  280.53382    0   14  429.28264  280.53382  34.7%     -    0s\n",
      "\n",
      "Cutting planes:\n",
      "  RLT: 6\n",
      "  PSD: 2\n",
      "\n",
      "Explored 4426 nodes (16282 simplex iterations) in 0.26 seconds (0.09 work units)\n",
      "Thread count was 8 (of 8 available processors)\n",
      "\n",
      "Solution count 1: 429.283 \n",
      "\n",
      "Optimal solution found (tolerance 1.00e-04)\n",
      "Best objective 4.292826381911e+02, best bound 4.292736632147e+02, gap 0.0021%\n"
     ]
    }
   ],
   "source": [
    "p1_25.optimize()"
   ]
  },
  {
   "cell_type": "code",
   "execution_count": 32,
   "id": "6d994bbc",
   "metadata": {},
   "outputs": [
    {
     "name": "stdout",
     "output_type": "stream",
     "text": [
      "x1  =  23.965112240295337\n",
      "y1  =  92.88147520127616\n",
      "x2  =  48.61691815093399\n",
      "y2  =  97.03941523742402\n",
      "x3  =  69.7274922072922\n",
      "y3  =  110.43134052884551\n",
      "x4  =  86.5436906904659\n",
      "y4  =  128.93040722353322\n",
      "objective value = 429.2826381910789\n"
     ]
    }
   ],
   "source": [
    "\n",
    "ans = {}\n",
    "for var in p1_25.getVars():\n",
    "    print(var.varName, \" = \", var.x) \n",
    "    ans[var.varName] = var.x\n",
    "print(\"objective value =\", p1_25.objVal)\n"
   ]
  },
  {
   "cell_type": "code",
   "execution_count": 33,
   "id": "6b79122c",
   "metadata": {},
   "outputs": [],
   "source": [
    "x_graph = []\n",
    "y_graph = []\n",
    "x_graph.append(0)\n",
    "y_graph.append(100)"
   ]
  },
  {
   "cell_type": "code",
   "execution_count": 34,
   "id": "1fd310f7",
   "metadata": {},
   "outputs": [
    {
     "name": "stdout",
     "output_type": "stream",
     "text": [
      "625.0000000000002\n",
      "624.9999999999987\n",
      "624.9999999999975\n"
     ]
    }
   ],
   "source": [
    "for i in range(3):\n",
    "    val = pow(ans['x'+str(i+1)] - ans['x'+str(i+2)], 2) + pow(ans['y'+str(i+1)] - ans['y'+str(i+2)], 2)\n",
    "    print(val)\n",
    "    x_graph.append(ans['x'+str(i+1)])\n",
    "    y_graph.append(ans['y'+str(i+1)])"
   ]
  },
  {
   "cell_type": "code",
   "execution_count": 35,
   "id": "d3d77d8f",
   "metadata": {},
   "outputs": [],
   "source": [
    "x_graph.append(ans['x4'])\n",
    "y_graph.append(ans['y4'])\n",
    "x_graph.append(100)\n",
    "y_graph.append(150)"
   ]
  },
  {
   "cell_type": "code",
   "execution_count": 36,
   "id": "51339e2a",
   "metadata": {},
   "outputs": [
    {
     "data": {
      "text/plain": [
       "[0,\n",
       " 23.965112240295337,\n",
       " 48.61691815093399,\n",
       " 69.7274922072922,\n",
       " 86.5436906904659,\n",
       " 100]"
      ]
     },
     "execution_count": 36,
     "metadata": {},
     "output_type": "execute_result"
    }
   ],
   "source": [
    "x_graph"
   ]
  },
  {
   "cell_type": "code",
   "execution_count": 37,
   "id": "f416f1ad",
   "metadata": {},
   "outputs": [
    {
     "data": {
      "image/png": "[encoded data removed]",
      "text/plain": [
       "<Figure size 432x288 with 1 Axes>"
      ]
     },
     "metadata": {
      "needs_background": "light"
     },
     "output_type": "display_data"
    }
   ],
   "source": [
    "x = np.array(x_graph)\n",
    "y = np.array(y_graph)\n",
    "\n",
    "fig = plt.figure()\n",
    "ax = fig.gca()\n",
    "plt.scatter(x, y)\n",
    "plt.grid()\n",
    "plt.show()\n"
   ]
  },
  {
   "cell_type": "code",
   "execution_count": null,
   "id": "da8640e8",
   "metadata": {},
   "outputs": [],
   "source": []
  }
 ],
 "metadata": {
  "kernelspec": {
   "display_name": "Python 3",
   "language": "python",
   "name": "python3"
  },
  "language_info": {
   "codemirror_mode": {
    "name": "ipython",
    "version": 3
   },
   "file_extension": ".py",
   "mimetype": "text/x-python",
   "name": "python",
   "nbconvert_exporter": "python",
   "pygments_lexer": "ipython3",
   "version": "3.8.8"
  }
 },
 "nbformat": 4,
 "nbformat_minor": 5
}
