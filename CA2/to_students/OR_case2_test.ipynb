{
 "cells": [
  {
   "cell_type": "markdown",
   "metadata": {},
   "source": [
    "# OR case 1"
   ]
  },
  {
   "cell_type": "code",
   "execution_count": null,
   "metadata": {},
   "outputs": [],
   "source": [
    "import pandas as pd\n",
    "import openpyxl\n",
    "from gurobipy import *\n",
    "import matplotlib.pyplot as plt\n",
    "import numpy as np\n",
    "import csv"
   ]
  },
  {
   "cell_type": "code",
   "execution_count": null,
   "metadata": {},
   "outputs": [],
   "source": [
    "# which test set\n",
    "i = 7\n",
    "root = '../tests/test'\n",
    "subfileName = \".csv\"\n",
    "\n",
    "tardyamount2_2_2 = 0\n",
    "path = root+ str(i) + subfileName\n",
    "print ('path:', path)"
   ]
  },
  {
   "cell_type": "code",
   "execution_count": null,
   "metadata": {},
   "outputs": [],
   "source": [
    "import plotly.express as px\n",
    "import plotly.io as pio\n",
    "pio.renderers\n",
    "pio.renderers.default = \"notebook_connected\"\n",
    "\n",
    "# display settings\n",
    "from IPython.display import display\n",
    "pd.options.display.max_columns = None\n",
    "pd.options.display.max_rows = None\n",
    "pd.set_option('display.float_format', lambda x: '%.4f' % x)\n",
    "\n",
    "# 第二、三題的甘特圖\n",
    "def gantt_plot_2_3(x_opt, P, y_opt, problem_no, open_hour=0, open_min=0):\n",
    "    import datetime\n",
    "\n",
    "    I = len(x_opt)\n",
    "    S = len(x_opt[0])\n",
    "    M = len(y_opt[0][0])\n",
    "    schedule_df = pd.DataFrame()\n",
    "    open_time = datetime.datetime(2000, 1, 1, hour=open_hour, minute=open_min)\n",
    "    schedule_df['START_TIME'] = [(open_time + datetime.timedelta(hours=x_opt[i][s]) - datetime.timedelta(hours=P[i][s])) for i in range(I) for s in range(S)]\n",
    "    schedule_df['END_TIME'] = [(open_time + datetime.timedelta(hours=x_opt[i][s])) for i in range(I) for s in range(S)]\n",
    "\n",
    "    machine_ID = []\n",
    "    for i in range(I):\n",
    "        for s in range(S):\n",
    "            for m in range(M):\n",
    "                if y_opt[i][s][m] == 1:\n",
    "                    machine_ID.append(str(m + 1))\n",
    "    schedule_df['Machine_ID'] = machine_ID\n",
    "\n",
    "    schedule_df['Job_ID'] = [str(i + 1) for i in range(I) for s in range(S)]\n",
    "    color_list = [\"#C0392B\", \"#EC7063\", \"#1F618D\", \"#34495E\", \"#3498DB\", \"#1E8449\", \"#28B463\", \"#F1C40F\", \"#F39C12\", \"#A6ACAF\", \"#7D3C98\", \"#9B59B6\", \"#2C3E50\", \"#EF553B\", \"#636EFA\", \"#BDC3C7\", \"#F39C12\"]\n",
    "    fig = px.timeline(schedule_df, x_start=\"START_TIME\", x_end=\"END_TIME\", y=\"Machine_ID\", color=\"Job_ID\",\n",
    "                      color_discrete_sequence=color_list[0:I],\n",
    "                      category_orders={\"Job_ID\": [str(i+1) for i in range(I)], \"Machine_ID\": [str(m+1) for m in range(M)]},\n",
    "                      title=\"Instance \" + str(1) + \" Problem \" + str(problem_no) + \" Gantt Chart\")\n",
    "    fig.update_xaxes(tickformat=\"%H:%M\")\n",
    "    fig.update_layout(legend_title=\"Lot ID\")\n",
    "    fig.show()\n",
    "    fig.write_image(\"Instance \" + str(1) + \" Problem \" + str(problem_no) + \".pdf\")"
   ]
  },
  {
   "cell_type": "code",
   "execution_count": null,
   "metadata": {},
   "outputs": [],
   "source": [
    "# which test set\n",
    "i = 0"
   ]
  },
  {
   "cell_type": "markdown",
   "metadata": {},
   "source": [
    "### 3."
   ]
  },
  {
   "cell_type": "markdown",
   "metadata": {},
   "source": [
    "### Constant Data"
   ]
  },
  {
   "cell_type": "code",
   "execution_count": null,
   "metadata": {},
   "outputs": [],
   "source": [
    "from huristic1_1_2 import huristic1_1_2\n",
    "\n",
    "makespan0, tardyamount0 = huristic1_1_2(path)\n",
    "\n",
    "print('tardyamount', tardyamount0)\n",
    "print('makespan', makespan0)"
   ]
  },
  {
   "cell_type": "code",
   "execution_count": null,
   "metadata": {},
   "outputs": [],
   "source": [
    "from huristicPaperStage1insertFix import huristicPaperStage1InsertFix\n",
    "\n",
    "makespan1, tardyamount1 = huristicPaperStage1InsertFix(path)\n",
    "\n",
    "print('tardyamount', tardyamount1)\n",
    "print('makespan', makespan1)"
   ]
  },
  {
   "cell_type": "code",
   "execution_count": null,
   "metadata": {},
   "outputs": [],
   "source": [
    "# df['Stage-1 Machines']\n",
    "# df['Stage-2 Machines']"
   ]
  },
  {
   "cell_type": "code",
   "execution_count": null,
   "metadata": {
    "scrolled": true
   },
   "outputs": [],
   "source": [
    "max_amount = 0\n",
    "for index, row in df.iterrows():\n",
    "    x1 = row['Stage-1 Machines'].split(',')\n",
    "    for element in x1:\n",
    "        num = int(element)\n",
    "        if(num > max_amount):\n",
    "            max_amount = num\n",
    "            \n",
    "    temp = row['Stage-2 Machines']\n",
    "    if(pd.isna(temp) == False):\n",
    "        x2 = temp.split(',')\n",
    "        for element in x2:\n",
    "            num = int(element)\n",
    "            if(num > max_amount):\n",
    "                max_amount = num"
   ]
  },
  {
   "cell_type": "code",
   "execution_count": null,
   "metadata": {},
   "outputs": [],
   "source": [
    "max_amount"
   ]
  },
  {
   "cell_type": "code",
   "execution_count": null,
   "metadata": {},
   "outputs": [],
   "source": [
    "# instance i 中 job 的總數量\n",
    "I = len(df) # order num\n",
    "S = 2 # stage num\n",
    "\n",
    "\n",
    "orders = range(0, I)\n",
    "machines = range(0, max_amount)\n",
    "stages = range(0, S)"
   ]
  },
  {
   "cell_type": "code",
   "execution_count": null,
   "metadata": {},
   "outputs": [],
   "source": [
    "P = []\n",
    "for index, row in df.iterrows():\n",
    "    P.append([])\n",
    "    P[index].append(row['Stage-1 Processing Time'])\n",
    "    P[index].append(row['Stage-2 Processing Time'])"
   ]
  },
  {
   "cell_type": "code",
   "execution_count": null,
   "metadata": {},
   "outputs": [],
   "source": [
    "P"
   ]
  },
  {
   "cell_type": "code",
   "execution_count": null,
   "metadata": {},
   "outputs": [],
   "source": [
    "# C_ijm -> init 3 dim 都是 false 的東西\n",
    "C =  []\n",
    "for i in range(I):\n",
    "    C.append([])\n",
    "    C[i].append([0 for i in range(max_amount)])\n",
    "    C[i].append([0 for i in range(max_amount)])"
   ]
  },
  {
   "cell_type": "code",
   "execution_count": null,
   "metadata": {},
   "outputs": [],
   "source": [
    "for index, row in df.iterrows():\n",
    "    x1 = row['Stage-1 Machines'].split(',')\n",
    "    for element in x1:\n",
    "        num = int(element)\n",
    "        C[index][0][num-1] = 1\n",
    "\n",
    "        temp = row['Stage-2 Machines']\n",
    "        if(pd.isna(temp) == False):\n",
    "            x2 = temp.split(',')\n",
    "            for element in x2:\n",
    "                num = int(element)\n",
    "                C[index][1][num-1] = 1"
   ]
  },
  {
   "cell_type": "code",
   "execution_count": null,
   "metadata": {},
   "outputs": [],
   "source": [
    "C"
   ]
  },
  {
   "cell_type": "code",
   "execution_count": null,
   "metadata": {},
   "outputs": [],
   "source": [
    "D = []\n",
    "for index, row in df.iterrows():\n",
    "    D.append(row['Due Time'])\n",
    "D"
   ]
  },
  {
   "cell_type": "markdown",
   "metadata": {},
   "source": [
    "### Decision variable – Delay"
   ]
  },
  {
   "cell_type": "code",
   "execution_count": null,
   "metadata": {},
   "outputs": [],
   "source": [
    "Q3_delay = Model('Q3-delay')\n",
    "Q3_delay.setParam('TimeLimit',100)\n",
    "\n",
    "# x_is is the finish time of order i at stage s\n",
    "x = {}\n",
    "for i in orders:\n",
    "    x[i] = {}\n",
    "    for s in stages:\n",
    "        x[i][s] = Q3_delay.addVar(lb = 0, vtype = GRB.CONTINUOUS, name = \"x_\" + str(i) + \",\" + str(s))\n",
    "\n",
    "# y_ism = 1 if order i process on machine m  at stage s otherwise 0\n",
    "y = {}\n",
    "for i in orders:\n",
    "    y[i] = {}\n",
    "    for s in stages:\n",
    "        y[i][s] = {}\n",
    "        for m in machines:\n",
    "            y[i][s][m] = Q3_delay.addVar(lb = 0, vtype = GRB.BINARY, name = \"y_\" + str(i) + \",\" + str(s) + \",\" + str(m))\n",
    "        \n",
    "# z_isjt = 1 if order i's stage s process before order j's stage t and they both process on the same machine otherwise 0\n",
    "z = {}\n",
    "for i in orders:\n",
    "    z[i] = {}\n",
    "    for s in stages:\n",
    "        z[i][s] = {}\n",
    "        for j in orders:\n",
    "            z[i][s][j] = {}\n",
    "            for t in stages:\n",
    "                z[i][s][j][t] = Q3_delay.addVar(lb = 0, vtype = GRB.BINARY, name = \"z_\" + str(i) + \",\" + str(s) + \",\" + str(j) + \",\" + str(t))\n",
    "        \n",
    "# l_i = 1 if order i is late otherwise 0\n",
    "l = {}\n",
    "for i in orders:\n",
    "    l[i] = Q3_delay.addVar(lb = 0, vtype = GRB.BINARY, name = \"l_\" + str(i))\n",
    "\n",
    "Q3_delay.update()"
   ]
  },
  {
   "cell_type": "markdown",
   "metadata": {},
   "source": [
    "### Setting the objective function"
   ]
  },
  {
   "cell_type": "code",
   "execution_count": null,
   "metadata": {},
   "outputs": [],
   "source": [
    "Q3_delay.setObjective(quicksum(l[i] for i in orders), GRB.MINIMIZE)"
   ]
  },
  {
   "cell_type": "markdown",
   "metadata": {},
   "source": [
    "### Add constraints"
   ]
  },
  {
   "cell_type": "code",
   "execution_count": null,
   "metadata": {},
   "outputs": [],
   "source": [
    "Q3_delay.addConstrs((x[j][t] + P[i][s] - x[i][s] <= (quicksum(P[i][s] for i in orders for s in stages)+P[i][s]) * (z[i][s][j][t] + 2-y[i][s][m]-y[j][t][m]) for i in orders for j in range(i+1, I) for m in machines for s in stages for t in stages), 'constraints for x_is, z_isjt')\n",
    "Q3_delay.addConstrs((x[i][s] + P[j][t] - x[j][t] <= (quicksum(P[i][s] for i in orders for s in stages)+P[j][t]) * (1-z[i][s][j][t] + 2-y[i][s][m]-y[j][t][m]) for i in orders for j in range(i+1, I) for m in machines for s in stages for t in stages), 'constraints for x_is, z_isjt')\n",
    "Q3_delay.addConstrs((x[i][1] <= D[i] + quicksum(P[i][s] for s in stages for i in orders) * l[i] for i in orders), 'constraints for l_i')\n",
    "Q3_delay.addConstrs((quicksum(y[i][s][m] for m in machines) == 1 for i in orders for s in stages), 'allocate orders to machines')\n",
    "Q3_delay.addConstrs((x[i][s] >= P[i][s] for i in orders for s in stages), 'minimum x_i')\n",
    "Q3_delay.addConstrs((x[i][1] >= x[i][0] + P[i][1] for i in orders), 'stage 2 should start after stage 1 is finished')\n",
    "\n",
    "# C[i][s][m]\n",
    "Q3_delay.addConstrs((y[i][s][m] <= (1 if C[i][s][m] == 0 else 1) for i in orders for s in stages for m in machines), 'constraints for cook machines')\n",
    "\n",
    "Q3_delay.update()"
   ]
  },
  {
   "cell_type": "code",
   "execution_count": null,
   "metadata": {},
   "outputs": [],
   "source": [
    "Q3_delay.optimize()"
   ]
  },
  {
   "cell_type": "code",
   "execution_count": null,
   "metadata": {},
   "outputs": [],
   "source": [
    "a = Q3_delay.objVal\n",
    "print(\"objective value =\", a)"
   ]
  },
  {
   "cell_type": "markdown",
   "metadata": {},
   "source": [
    "### Decision variable – makespan"
   ]
  },
  {
   "cell_type": "code",
   "execution_count": null,
   "metadata": {},
   "outputs": [],
   "source": [
    "Q3_makespan = Model('Q3-makespan')\n",
    "Q3_makespan.setParam('TimeLimit',100)\n",
    "\n",
    "# x_is is the finish time of order i at stage s\n",
    "x = {}\n",
    "for i in orders:\n",
    "    x[i] = {}\n",
    "    for s in stages:\n",
    "        x[i][s] = Q3_makespan.addVar(lb = 0, vtype = GRB.CONTINUOUS, name = \"x_\" + str(i) + \",\" + str(s))\n",
    "\n",
    "# y_ism = 1 if order i process on machine m  at stage s otherwise 0\n",
    "y = {}\n",
    "for i in orders:\n",
    "    y[i] = {}\n",
    "    for s in stages:\n",
    "        y[i][s] = {}\n",
    "        for m in machines:\n",
    "            y[i][s][m] = Q3_makespan.addVar(lb = 0, vtype = GRB.BINARY, name = \"y_\" + str(i) + \",\" + str(s) + \",\" + str(m))\n",
    "        \n",
    "# z_isjt = 1 if order i's stage s process before order j's stage t and they both process on the same machine otherwise 0\n",
    "z = {}\n",
    "for i in orders:\n",
    "    z[i] = {}\n",
    "    for s in stages:\n",
    "        z[i][s] = {}\n",
    "        for j in orders:\n",
    "            z[i][s][j] = {}\n",
    "            for t in stages:\n",
    "                z[i][s][j][t] = Q3_makespan.addVar(lb = 0, vtype = GRB.BINARY, name = \"z_\" + str(i) + \",\" + str(s) + \",\" + str(j) + \",\" + str(t))\n",
    "        \n",
    "# l_i = 1 if order i is late otherwise 0\n",
    "l = {}\n",
    "for i in orders:\n",
    "    l[i] = Q3_makespan.addVar(lb = 0, vtype = GRB.BINARY, name = \"l_\" + str(i))\n",
    "\n",
    "# w is the makespan of the solution\n",
    "w = Q3_makespan.addVar(lb = 0, vtype = GRB.CONTINUOUS, name = \"w\")\n",
    "\n",
    "Q3_makespan.update()"
   ]
  },
  {
   "cell_type": "markdown",
   "metadata": {},
   "source": [
    "### Setting the objective function"
   ]
  },
  {
   "cell_type": "code",
   "execution_count": null,
   "metadata": {},
   "outputs": [],
   "source": [
    "Q3_makespan.setObjective(w, GRB.MINIMIZE)"
   ]
  },
  {
   "cell_type": "markdown",
   "metadata": {},
   "source": [
    "### Add constraints"
   ]
  },
  {
   "cell_type": "code",
   "execution_count": null,
   "metadata": {},
   "outputs": [],
   "source": [
    "Q3_makespan.addConstrs((x[j][t] + P[i][s] - x[i][s] <= (quicksum(P[i][s] for i in orders for s in stages)+P[i][s]) * (z[i][s][j][t] + 2-y[i][s][m]-y[j][t][m]) for i in orders for j in range(i+1, I) for m in machines for s in stages for t in stages), 'constraints for x_is, z_isjt')\n",
    "Q3_makespan.addConstrs((x[i][s] + P[j][t] - x[j][t] <= (quicksum(P[i][s] for i in orders for s in stages)+P[j][t]) * (1-z[i][s][j][t] + 2-y[i][s][m]-y[j][t][m]) for i in orders for j in range(i+1, I) for m in machines for s in stages for t in stages), 'constraints for x_is, z_isjt')\n",
    "Q3_makespan.addConstrs((x[i][1] <= D[i] + quicksum(P[i][s] for s in stages for i in orders) * l[i] for i in orders), 'constraints for l_i')\n",
    "Q3_makespan.addConstrs((quicksum(y[i][s][m] for m in machines) == 1 for i in orders for s in stages), 'allocate orders to machines')\n",
    "Q3_makespan.addConstrs((x[i][s] >= P[i][s] for i in orders for s in stages), 'minimum x_i')\n",
    "Q3_makespan.addConstrs((x[i][1] >= x[i][0] + P[i][1] for i in orders), 'stage 2 should start after stage 1 is finished')\n",
    "# C_ism\n",
    "Q3_makespan.addConstrs((y[i][s][m] <= (1 if C[i][s][m] == 0 else 1) for i in orders for s in stages for m in machines), 'constraints for cook machines')\n",
    "Q3_makespan.addConstrs((w >= x[i][1] for i in orders), 'makespan')\n",
    "Q3_makespan.addConstr((quicksum(l[i] for i in orders) == a), 'delay num')\n",
    "# Q3_makespan.addConstr((w == 6.1), 'delay num')\n",
    "\n",
    "Q3_makespan.update()"
   ]
  },
  {
   "cell_type": "code",
   "execution_count": null,
   "metadata": {},
   "outputs": [],
   "source": [
    "Q3_makespan.optimize()"
   ]
  },
  {
   "cell_type": "code",
   "execution_count": null,
   "metadata": {},
   "outputs": [],
   "source": [
    "print(\"objective value =\", Q3_makespan.objVal)"
   ]
  },
  {
   "cell_type": "markdown",
   "metadata": {},
   "source": [
    "## Results"
   ]
  },
  {
   "cell_type": "code",
   "execution_count": null,
   "metadata": {},
   "outputs": [],
   "source": [
    "x_opt = {}\n",
    "for i in orders:\n",
    "    x_opt[i] = {}\n",
    "    for s in stages:\n",
    "        x_opt[i][s] = {}\n",
    "\n",
    "y_opt = {}\n",
    "for i in orders:\n",
    "    y_opt[i] = {}\n",
    "    for s in stages:\n",
    "        y_opt[i][s] = {}\n",
    "        for m in machines:\n",
    "            y_opt[i][s][m] = {}\n",
    "\n",
    "for var in Q3_makespan.getVars():\n",
    "    index = [i for i in var.varName[2:].split(',')]\n",
    "    if var.varName[0] == 'x':\n",
    "        x_opt[int(index[0])][int(index[1])] = var.x\n",
    "    elif var.varName[0] == 'y':\n",
    "        y_opt[int(index[0])][int(index[1])][int(index[2])] = var.x"
   ]
  },
  {
   "cell_type": "markdown",
   "metadata": {},
   "source": [
    "## Plot Gantt Charts"
   ]
  },
  {
   "cell_type": "code",
   "execution_count": null,
   "metadata": {},
   "outputs": [],
   "source": [
    "gantt_plot_2_3(x_opt, P, y_opt, 3)"
   ]
  },
  {
   "cell_type": "code",
   "execution_count": null,
   "metadata": {},
   "outputs": [],
   "source": [
    "#optimality_gap for huristic1_1_2\n",
    "AbsoluteErrorTardy = Q3_delay.objVal - tardyamount0\n",
    "if(Q3_delay.objVal == 0):\n",
    "    PercentageErrorTardy = 0\n",
    "else:\n",
    "    PercentageErrorTardy = (Q3_delay.objVal - tardyamount0)/float(Q3_delay.objVal)\n",
    "    \n",
    "AbsoluteErrorMakespan = Q3_makespan.objVal - makespan0\n",
    "PercentageErrorMakespan = (Q3_makespan.objVal - makespan0)/float(Q3_makespan.objVal)\n",
    "print('Absolute_Error_Tardy =', AbsoluteErrorTardy)\n",
    "print('Percentage_Error_Tardy =', PercentageErrorTardy)\n",
    "print('Absolute_Error_Makespan =', AbsoluteErrorMakespan)\n",
    "print('Percentage_Error_Makespan =', PercentageErrorMakespan)\n",
    "print(AbsoluteErrorTardy)\n",
    "print(PercentageErrorTardy)\n",
    "print(AbsoluteErrorMakespan)\n",
    "print(PercentageErrorMakespan)\n"
   ]
  },
  {
   "cell_type": "code",
   "execution_count": null,
   "metadata": {},
   "outputs": [],
   "source": [
    "#optimality_gap for huristic_paper\n",
    "AbsoluteErrorTardy1 = Q3_delay.objVal - tardyamount1\n",
    "if(Q3_delay.objVal == 0):\n",
    "    PercentageErrorTardy1 = 0\n",
    "else:\n",
    "    PercentageErrorTardy1 = (Q3_delay.objVal - tardyamount1)/float(Q3_delay.objVal)\n",
    "    \n",
    "AbsoluteErrorMakespan1 = Q3_makespan.objVal - makespan1\n",
    "PercentageErrorMakespan1 = (Q3_makespan.objVal - makespan1)/float(Q3_makespan.objVal)\n",
    "print('Absolute_Error_Tardy =', AbsoluteErrorTardy1)\n",
    "print('Percentage_Error_Tardy =', PercentageErrorTardy1)\n",
    "print('Absolute_Error_Makespan =', AbsoluteErrorMakespan1)\n",
    "print('Percentage_Error_Makespan =', PercentageErrorMakespan1)\n",
    "print(AbsoluteErrorTardy1)\n",
    "print(PercentageErrorTardy1)\n",
    "print(AbsoluteErrorMakespan1)\n",
    "print(PercentageErrorMakespan1)"
   ]
  }
 ],
 "metadata": {
  "interpreter": {
   "hash": "130e1f1a223e4501cded4baf3827796373931acfd5607d834e8231cf924275b8"
  },
  "kernelspec": {
   "display_name": "Python 3.8.5 ('base')",
   "language": "python",
   "name": "python3"
  },
  "language_info": {
   "codemirror_mode": {
    "name": "ipython",
    "version": 3
   },
   "file_extension": ".py",
   "mimetype": "text/x-python",
   "name": "python",
   "nbconvert_exporter": "python",
   "pygments_lexer": "ipython3",
   "version": "3.8.5"
  }
 },
 "nbformat": 4,
 "nbformat_minor": 4
}
