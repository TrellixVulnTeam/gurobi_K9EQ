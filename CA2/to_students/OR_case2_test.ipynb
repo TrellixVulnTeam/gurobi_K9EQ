{
 "cells": [
  {
   "cell_type": "markdown",
   "metadata": {},
   "source": [
    "# OR case 1"
   ]
  },
  {
   "cell_type": "code",
   "execution_count": 9,
   "metadata": {},
   "outputs": [],
   "source": [
    "import pandas as pd\n",
    "import openpyxl\n",
    "from gurobipy import *\n",
    "import matplotlib.pyplot as plt\n",
    "import numpy as np\n",
    "import plotly.express as px\n",
    "import plotly.io as pio"
   ]
  },
  {
   "cell_type": "code",
   "execution_count": 10,
   "metadata": {},
   "outputs": [],
   "source": [
    "pio.renderers\n",
    "pio.renderers.default = \"notebook_connected\"\n",
    "\n",
    "# display settings\n",
    "from IPython.display import display\n",
    "pd.options.display.max_columns = None\n",
    "pd.options.display.max_rows = None\n",
    "pd.set_option('display.float_format', lambda x: '%.4f' % x)\n",
    "\n",
    "# 第二、三題的甘特圖\n",
    "def gantt_plot_2_3(x_opt, P, y_opt, problem_no, open_hour=0, open_min=0):\n",
    "    import datetime\n",
    "\n",
    "    I = len(x_opt)\n",
    "    S = len(x_opt[0])\n",
    "    M = len(y_opt[0][0])\n",
    "    schedule_df = pd.DataFrame()\n",
    "    open_time = datetime.datetime(2000, 1, 1, hour=open_hour, minute=open_min)\n",
    "    schedule_df['START_TIME'] = [(open_time + datetime.timedelta(hours=x_opt[i][s]) - datetime.timedelta(hours=P[i][s])) for i in range(I) for s in range(S)]\n",
    "    schedule_df['END_TIME'] = [(open_time + datetime.timedelta(hours=x_opt[i][s])) for i in range(I) for s in range(S)]\n",
    "\n",
    "    machine_ID = []\n",
    "    for i in range(I):\n",
    "        for s in range(S):\n",
    "            for m in range(M):\n",
    "                if y_opt[i][s][m] == 1:\n",
    "                    machine_ID.append(str(m + 1))\n",
    "    schedule_df['Machine_ID'] = machine_ID\n",
    "\n",
    "    schedule_df['Job_ID'] = [str(i + 1) for i in range(I) for s in range(S)]\n",
    "    color_list = [\"#C0392B\", \"#EC7063\", \"#1F618D\", \"#34495E\", \"#3498DB\", \"#1E8449\", \"#28B463\", \"#F1C40F\", \"#F39C12\", \"#A6ACAF\", \"#7D3C98\", \"#9B59B6\", \"#2C3E50\", \"#EF553B\", \"#636EFA\", \"#BDC3C7\", \"#F39C12\"]\n",
    "    fig = px.timeline(schedule_df, x_start=\"START_TIME\", x_end=\"END_TIME\", y=\"Machine_ID\", color=\"Job_ID\",\n",
    "                      color_discrete_sequence=color_list[0:I],\n",
    "                      category_orders={\"Job_ID\": [str(i+1) for i in range(I)], \"Machine_ID\": [str(m+1) for m in range(M)]},\n",
    "                      title=\"Instance \" + str(1) + \" Problem \" + str(problem_no) + \" Gantt Chart\")\n",
    "    fig.update_xaxes(tickformat=\"%H:%M\")\n",
    "    fig.update_layout(legend_title=\"Lot ID\")\n",
    "    fig.show()\n",
    "    fig.write_image(\"Instance \" + str(1) + \" Problem \" + str(problem_no) + \".pdf\")"
   ]
  },
  {
   "cell_type": "code",
   "execution_count": 11,
   "metadata": {},
   "outputs": [
    {
     "name": "stdout",
     "output_type": "stream",
     "text": [
      "path: ../tests/test0.csv\n"
     ]
    }
   ],
   "source": [
    "# which test set\n",
    "i = 0\n",
    "\n",
    "root = '../tests/test'\n",
    "subfileName = \".csv\"\n",
    "\n",
    "tardyamount2_2_2 = 0\n",
    "path = root+ str(i) + subfileName\n",
    "print ('path:', path)"
   ]
  },
  {
   "cell_type": "code",
   "execution_count": 12,
   "metadata": {},
   "outputs": [
    {
     "name": "stdout",
     "output_type": "stream",
     "text": [
      "tardyamount 0\n",
      "makespan 14.658691490160027\n"
     ]
    }
   ],
   "source": [
    "from huristic1_1_2 import huristic1_1_2\n",
    "\n",
    "makespan0, tardyamount0 = huristic1_1_2(path)\n",
    "\n",
    "print('tardyamount', tardyamount0)\n",
    "print('makespan', makespan0)"
   ]
  },
  {
   "cell_type": "code",
   "execution_count": 13,
   "metadata": {},
   "outputs": [
    {
     "data": {
      "text/html": [
       "        <script type=\"text/javascript\">\n",
       "        window.PlotlyConfig = {MathJaxConfig: 'local'};\n",
       "        if (window.MathJax) {MathJax.Hub.Config({SVG: {font: \"STIX-Web\"}});}\n",
       "        if (typeof require !== 'undefined') {\n",
       "        require.undef(\"plotly\");\n",
       "        requirejs.config({\n",
       "            paths: {\n",
       "                'plotly': ['https://cdn.plot.ly/plotly-2.4.2.min']\n",
       "            }\n",
       "        });\n",
       "        require(['plotly'], function(Plotly) {\n",
       "            window._Plotly = Plotly;\n",
       "        });\n",
       "        }\n",
       "        </script>\n",
       "        "
      ]
     },
     "metadata": {},
     "output_type": "display_data"
    },
    {
     "data": {
      "text/html": [
       "<div>                            <div id=\"c047b86e-57d0-4783-99d4-114f0194a347\" class=\"plotly-graph-div\" style=\"height:525px; width:100%;\"></div>            <script type=\"text/javascript\">                require([\"plotly\"], function(Plotly) {                    window.PLOTLYENV=window.PLOTLYENV || {};                                    if (document.getElementById(\"c047b86e-57d0-4783-99d4-114f0194a347\")) {                    Plotly.newPlot(                        \"c047b86e-57d0-4783-99d4-114f0194a347\",                        [{\"alignmentgroup\":\"True\",\"base\":[\"2000-01-01T00:00:00\",\"2000-01-01T01:17:22.580131\"],\"hovertemplate\":\"Job_ID=1<br>START_TIME=%{base}<br>END_TIME=%{x}<br>Machine_ID=%{y}<extra></extra>\",\"legendgroup\":\"1\",\"marker\":{\"color\":\"#C0392B\"},\"name\":\"1\",\"offsetgroup\":\"1\",\"orientation\":\"h\",\"showlegend\":true,\"textposition\":\"auto\",\"type\":\"bar\",\"x\":[4642580.0,1838455.0],\"xaxis\":\"x\",\"y\":[\"8\",\"13\"],\"yaxis\":\"y\"},{\"alignmentgroup\":\"True\",\"base\":[\"2000-01-01T00:00:00\",\"2000-01-01T00:53:04.594848\"],\"hovertemplate\":\"Job_ID=2<br>START_TIME=%{base}<br>END_TIME=%{x}<br>Machine_ID=%{y}<extra></extra>\",\"legendgroup\":\"2\",\"marker\":{\"color\":\"#EC7063\"},\"name\":\"2\",\"offsetgroup\":\"2\",\"orientation\":\"h\",\"showlegend\":true,\"textposition\":\"auto\",\"type\":\"bar\",\"x\":[3184594.0,1071617.0],\"xaxis\":\"x\",\"y\":[\"2\",\"4\"],\"yaxis\":\"y\"},{\"alignmentgroup\":\"True\",\"base\":[\"2000-01-01T00:00:00\",\"2000-01-01T00:49:41.730557\"],\"hovertemplate\":\"Job_ID=3<br>START_TIME=%{base}<br>END_TIME=%{x}<br>Machine_ID=%{y}<extra></extra>\",\"legendgroup\":\"3\",\"marker\":{\"color\":\"#1F618D\"},\"name\":\"3\",\"offsetgroup\":\"3\",\"orientation\":\"h\",\"showlegend\":true,\"textposition\":\"auto\",\"type\":\"bar\",\"x\":[2981730.0,13842120.0],\"xaxis\":\"x\",\"y\":[\"7\",\"12\"],\"yaxis\":\"y\"},{\"alignmentgroup\":\"True\",\"base\":[\"2000-01-01T00:00:00\",\"2000-01-01T02:28:43.109961\"],\"hovertemplate\":\"Job_ID=4<br>START_TIME=%{base}<br>END_TIME=%{x}<br>Machine_ID=%{y}<extra></extra>\",\"legendgroup\":\"4\",\"marker\":{\"color\":\"#34495E\"},\"name\":\"4\",\"offsetgroup\":\"4\",\"orientation\":\"h\",\"showlegend\":true,\"textposition\":\"auto\",\"type\":\"bar\",\"x\":[8923109.0,16714134.0],\"xaxis\":\"x\",\"y\":[\"5\",\"11\"],\"yaxis\":\"y\"},{\"alignmentgroup\":\"True\",\"base\":[\"2000-01-01T00:00:00\",\"2000-01-01T01:37:36.720778\"],\"hovertemplate\":\"Job_ID=5<br>START_TIME=%{base}<br>END_TIME=%{x}<br>Machine_ID=%{y}<extra></extra>\",\"legendgroup\":\"5\",\"marker\":{\"color\":\"#3498DB\"},\"name\":\"5\",\"offsetgroup\":\"5\",\"orientation\":\"h\",\"showlegend\":true,\"textposition\":\"auto\",\"type\":\"bar\",\"x\":[5856720.0,34349551.0],\"xaxis\":\"x\",\"y\":[\"1\",\"16\"],\"yaxis\":\"y\"},{\"alignmentgroup\":\"True\",\"base\":[\"2000-01-01T00:00:00\",\"2000-01-01T05:59:58.673697\"],\"hovertemplate\":\"Job_ID=6<br>START_TIME=%{base}<br>END_TIME=%{x}<br>Machine_ID=%{y}<extra></extra>\",\"legendgroup\":\"6\",\"marker\":{\"color\":\"#1E8449\"},\"name\":\"6\",\"offsetgroup\":\"6\",\"orientation\":\"h\",\"showlegend\":true,\"textposition\":\"auto\",\"type\":\"bar\",\"x\":[21598673.0,31172615.0],\"xaxis\":\"x\",\"y\":[\"3\",\"10\"],\"yaxis\":\"y\"},{\"alignmentgroup\":\"True\",\"base\":[\"2000-01-01T00:00:00\",\"2000-01-01T04:47:58.602117\"],\"hovertemplate\":\"Job_ID=7<br>START_TIME=%{base}<br>END_TIME=%{x}<br>Machine_ID=%{y}<extra></extra>\",\"legendgroup\":\"7\",\"marker\":{\"color\":\"#28B463\"},\"name\":\"7\",\"offsetgroup\":\"7\",\"orientation\":\"h\",\"showlegend\":true,\"textposition\":\"auto\",\"type\":\"bar\",\"x\":[17278602.0,20918204.0],\"xaxis\":\"x\",\"y\":[\"6\",\"19\"],\"yaxis\":\"y\"},{\"alignmentgroup\":\"True\",\"base\":[\"2000-01-01T00:00:00\",\"2000-01-01T02:18:25.551432\"],\"hovertemplate\":\"Job_ID=8<br>START_TIME=%{base}<br>END_TIME=%{x}<br>Machine_ID=%{y}<extra></extra>\",\"legendgroup\":\"8\",\"marker\":{\"color\":\"#F1C40F\"},\"name\":\"8\",\"offsetgroup\":\"8\",\"orientation\":\"h\",\"showlegend\":true,\"textposition\":\"auto\",\"type\":\"bar\",\"x\":[8305551.0,12631290.0],\"xaxis\":\"x\",\"y\":[\"9\",\"14\"],\"yaxis\":\"y\"},{\"alignmentgroup\":\"True\",\"base\":[\"2000-01-01T00:00:00\",\"2000-01-01T02:36:27.376723\"],\"hovertemplate\":\"Job_ID=9<br>START_TIME=%{base}<br>END_TIME=%{x}<br>Machine_ID=%{y}<extra></extra>\",\"legendgroup\":\"9\",\"marker\":{\"color\":\"#F39C12\"},\"name\":\"9\",\"offsetgroup\":\"9\",\"orientation\":\"h\",\"showlegend\":true,\"textposition\":\"auto\",\"type\":\"bar\",\"x\":[9387376.0,31619403.0],\"xaxis\":\"x\",\"y\":[\"18\",\"15\"],\"yaxis\":\"y\"}],                        {\"barmode\":\"overlay\",\"legend\":{\"title\":{\"text\":\"Lot ID\"},\"tracegroupgap\":0},\"template\":{\"data\":{\"bar\":[{\"error_x\":{\"color\":\"#2a3f5f\"},\"error_y\":{\"color\":\"#2a3f5f\"},\"marker\":{\"line\":{\"color\":\"#E5ECF6\",\"width\":0.5},\"pattern\":{\"fillmode\":\"overlay\",\"size\":10,\"solidity\":0.2}},\"type\":\"bar\"}],\"barpolar\":[{\"marker\":{\"line\":{\"color\":\"#E5ECF6\",\"width\":0.5},\"pattern\":{\"fillmode\":\"overlay\",\"size\":10,\"solidity\":0.2}},\"type\":\"barpolar\"}],\"carpet\":[{\"aaxis\":{\"endlinecolor\":\"#2a3f5f\",\"gridcolor\":\"white\",\"linecolor\":\"white\",\"minorgridcolor\":\"white\",\"startlinecolor\":\"#2a3f5f\"},\"baxis\":{\"endlinecolor\":\"#2a3f5f\",\"gridcolor\":\"white\",\"linecolor\":\"white\",\"minorgridcolor\":\"white\",\"startlinecolor\":\"#2a3f5f\"},\"type\":\"carpet\"}],\"choropleth\":[{\"colorbar\":{\"outlinewidth\":0,\"ticks\":\"\"},\"type\":\"choropleth\"}],\"contour\":[{\"colorbar\":{\"outlinewidth\":0,\"ticks\":\"\"},\"colorscale\":[[0.0,\"#0d0887\"],[0.1111111111111111,\"#46039f\"],[0.2222222222222222,\"#7201a8\"],[0.3333333333333333,\"#9c179e\"],[0.4444444444444444,\"#bd3786\"],[0.5555555555555556,\"#d8576b\"],[0.6666666666666666,\"#ed7953\"],[0.7777777777777778,\"#fb9f3a\"],[0.8888888888888888,\"#fdca26\"],[1.0,\"#f0f921\"]],\"type\":\"contour\"}],\"contourcarpet\":[{\"colorbar\":{\"outlinewidth\":0,\"ticks\":\"\"},\"type\":\"contourcarpet\"}],\"heatmap\":[{\"colorbar\":{\"outlinewidth\":0,\"ticks\":\"\"},\"colorscale\":[[0.0,\"#0d0887\"],[0.1111111111111111,\"#46039f\"],[0.2222222222222222,\"#7201a8\"],[0.3333333333333333,\"#9c179e\"],[0.4444444444444444,\"#bd3786\"],[0.5555555555555556,\"#d8576b\"],[0.6666666666666666,\"#ed7953\"],[0.7777777777777778,\"#fb9f3a\"],[0.8888888888888888,\"#fdca26\"],[1.0,\"#f0f921\"]],\"type\":\"heatmap\"}],\"heatmapgl\":[{\"colorbar\":{\"outlinewidth\":0,\"ticks\":\"\"},\"colorscale\":[[0.0,\"#0d0887\"],[0.1111111111111111,\"#46039f\"],[0.2222222222222222,\"#7201a8\"],[0.3333333333333333,\"#9c179e\"],[0.4444444444444444,\"#bd3786\"],[0.5555555555555556,\"#d8576b\"],[0.6666666666666666,\"#ed7953\"],[0.7777777777777778,\"#fb9f3a\"],[0.8888888888888888,\"#fdca26\"],[1.0,\"#f0f921\"]],\"type\":\"heatmapgl\"}],\"histogram\":[{\"marker\":{\"pattern\":{\"fillmode\":\"overlay\",\"size\":10,\"solidity\":0.2}},\"type\":\"histogram\"}],\"histogram2d\":[{\"colorbar\":{\"outlinewidth\":0,\"ticks\":\"\"},\"colorscale\":[[0.0,\"#0d0887\"],[0.1111111111111111,\"#46039f\"],[0.2222222222222222,\"#7201a8\"],[0.3333333333333333,\"#9c179e\"],[0.4444444444444444,\"#bd3786\"],[0.5555555555555556,\"#d8576b\"],[0.6666666666666666,\"#ed7953\"],[0.7777777777777778,\"#fb9f3a\"],[0.8888888888888888,\"#fdca26\"],[1.0,\"#f0f921\"]],\"type\":\"histogram2d\"}],\"histogram2dcontour\":[{\"colorbar\":{\"outlinewidth\":0,\"ticks\":\"\"},\"colorscale\":[[0.0,\"#0d0887\"],[0.1111111111111111,\"#46039f\"],[0.2222222222222222,\"#7201a8\"],[0.3333333333333333,\"#9c179e\"],[0.4444444444444444,\"#bd3786\"],[0.5555555555555556,\"#d8576b\"],[0.6666666666666666,\"#ed7953\"],[0.7777777777777778,\"#fb9f3a\"],[0.8888888888888888,\"#fdca26\"],[1.0,\"#f0f921\"]],\"type\":\"histogram2dcontour\"}],\"mesh3d\":[{\"colorbar\":{\"outlinewidth\":0,\"ticks\":\"\"},\"type\":\"mesh3d\"}],\"parcoords\":[{\"line\":{\"colorbar\":{\"outlinewidth\":0,\"ticks\":\"\"}},\"type\":\"parcoords\"}],\"pie\":[{\"automargin\":true,\"type\":\"pie\"}],\"scatter\":[{\"marker\":{\"colorbar\":{\"outlinewidth\":0,\"ticks\":\"\"}},\"type\":\"scatter\"}],\"scatter3d\":[{\"line\":{\"colorbar\":{\"outlinewidth\":0,\"ticks\":\"\"}},\"marker\":{\"colorbar\":{\"outlinewidth\":0,\"ticks\":\"\"}},\"type\":\"scatter3d\"}],\"scattercarpet\":[{\"marker\":{\"colorbar\":{\"outlinewidth\":0,\"ticks\":\"\"}},\"type\":\"scattercarpet\"}],\"scattergeo\":[{\"marker\":{\"colorbar\":{\"outlinewidth\":0,\"ticks\":\"\"}},\"type\":\"scattergeo\"}],\"scattergl\":[{\"marker\":{\"colorbar\":{\"outlinewidth\":0,\"ticks\":\"\"}},\"type\":\"scattergl\"}],\"scattermapbox\":[{\"marker\":{\"colorbar\":{\"outlinewidth\":0,\"ticks\":\"\"}},\"type\":\"scattermapbox\"}],\"scatterpolar\":[{\"marker\":{\"colorbar\":{\"outlinewidth\":0,\"ticks\":\"\"}},\"type\":\"scatterpolar\"}],\"scatterpolargl\":[{\"marker\":{\"colorbar\":{\"outlinewidth\":0,\"ticks\":\"\"}},\"type\":\"scatterpolargl\"}],\"scatterternary\":[{\"marker\":{\"colorbar\":{\"outlinewidth\":0,\"ticks\":\"\"}},\"type\":\"scatterternary\"}],\"surface\":[{\"colorbar\":{\"outlinewidth\":0,\"ticks\":\"\"},\"colorscale\":[[0.0,\"#0d0887\"],[0.1111111111111111,\"#46039f\"],[0.2222222222222222,\"#7201a8\"],[0.3333333333333333,\"#9c179e\"],[0.4444444444444444,\"#bd3786\"],[0.5555555555555556,\"#d8576b\"],[0.6666666666666666,\"#ed7953\"],[0.7777777777777778,\"#fb9f3a\"],[0.8888888888888888,\"#fdca26\"],[1.0,\"#f0f921\"]],\"type\":\"surface\"}],\"table\":[{\"cells\":{\"fill\":{\"color\":\"#EBF0F8\"},\"line\":{\"color\":\"white\"}},\"header\":{\"fill\":{\"color\":\"#C8D4E3\"},\"line\":{\"color\":\"white\"}},\"type\":\"table\"}]},\"layout\":{\"annotationdefaults\":{\"arrowcolor\":\"#2a3f5f\",\"arrowhead\":0,\"arrowwidth\":1},\"autotypenumbers\":\"strict\",\"coloraxis\":{\"colorbar\":{\"outlinewidth\":0,\"ticks\":\"\"}},\"colorscale\":{\"diverging\":[[0,\"#8e0152\"],[0.1,\"#c51b7d\"],[0.2,\"#de77ae\"],[0.3,\"#f1b6da\"],[0.4,\"#fde0ef\"],[0.5,\"#f7f7f7\"],[0.6,\"#e6f5d0\"],[0.7,\"#b8e186\"],[0.8,\"#7fbc41\"],[0.9,\"#4d9221\"],[1,\"#276419\"]],\"sequential\":[[0.0,\"#0d0887\"],[0.1111111111111111,\"#46039f\"],[0.2222222222222222,\"#7201a8\"],[0.3333333333333333,\"#9c179e\"],[0.4444444444444444,\"#bd3786\"],[0.5555555555555556,\"#d8576b\"],[0.6666666666666666,\"#ed7953\"],[0.7777777777777778,\"#fb9f3a\"],[0.8888888888888888,\"#fdca26\"],[1.0,\"#f0f921\"]],\"sequentialminus\":[[0.0,\"#0d0887\"],[0.1111111111111111,\"#46039f\"],[0.2222222222222222,\"#7201a8\"],[0.3333333333333333,\"#9c179e\"],[0.4444444444444444,\"#bd3786\"],[0.5555555555555556,\"#d8576b\"],[0.6666666666666666,\"#ed7953\"],[0.7777777777777778,\"#fb9f3a\"],[0.8888888888888888,\"#fdca26\"],[1.0,\"#f0f921\"]]},\"colorway\":[\"#636efa\",\"#EF553B\",\"#00cc96\",\"#ab63fa\",\"#FFA15A\",\"#19d3f3\",\"#FF6692\",\"#B6E880\",\"#FF97FF\",\"#FECB52\"],\"font\":{\"color\":\"#2a3f5f\"},\"geo\":{\"bgcolor\":\"white\",\"lakecolor\":\"white\",\"landcolor\":\"#E5ECF6\",\"showlakes\":true,\"showland\":true,\"subunitcolor\":\"white\"},\"hoverlabel\":{\"align\":\"left\"},\"hovermode\":\"closest\",\"mapbox\":{\"style\":\"light\"},\"paper_bgcolor\":\"white\",\"plot_bgcolor\":\"#E5ECF6\",\"polar\":{\"angularaxis\":{\"gridcolor\":\"white\",\"linecolor\":\"white\",\"ticks\":\"\"},\"bgcolor\":\"#E5ECF6\",\"radialaxis\":{\"gridcolor\":\"white\",\"linecolor\":\"white\",\"ticks\":\"\"}},\"scene\":{\"xaxis\":{\"backgroundcolor\":\"#E5ECF6\",\"gridcolor\":\"white\",\"gridwidth\":2,\"linecolor\":\"white\",\"showbackground\":true,\"ticks\":\"\",\"zerolinecolor\":\"white\"},\"yaxis\":{\"backgroundcolor\":\"#E5ECF6\",\"gridcolor\":\"white\",\"gridwidth\":2,\"linecolor\":\"white\",\"showbackground\":true,\"ticks\":\"\",\"zerolinecolor\":\"white\"},\"zaxis\":{\"backgroundcolor\":\"#E5ECF6\",\"gridcolor\":\"white\",\"gridwidth\":2,\"linecolor\":\"white\",\"showbackground\":true,\"ticks\":\"\",\"zerolinecolor\":\"white\"}},\"shapedefaults\":{\"line\":{\"color\":\"#2a3f5f\"}},\"ternary\":{\"aaxis\":{\"gridcolor\":\"white\",\"linecolor\":\"white\",\"ticks\":\"\"},\"baxis\":{\"gridcolor\":\"white\",\"linecolor\":\"white\",\"ticks\":\"\"},\"bgcolor\":\"#E5ECF6\",\"caxis\":{\"gridcolor\":\"white\",\"linecolor\":\"white\",\"ticks\":\"\"}},\"title\":{\"x\":0.05},\"xaxis\":{\"automargin\":true,\"gridcolor\":\"white\",\"linecolor\":\"white\",\"ticks\":\"\",\"title\":{\"standoff\":15},\"zerolinecolor\":\"white\",\"zerolinewidth\":2},\"yaxis\":{\"automargin\":true,\"gridcolor\":\"white\",\"linecolor\":\"white\",\"ticks\":\"\",\"title\":{\"standoff\":15},\"zerolinecolor\":\"white\",\"zerolinewidth\":2}}},\"title\":{\"text\":\"Instance 1 Problem 3 Gantt Chart\"},\"xaxis\":{\"anchor\":\"y\",\"domain\":[0.0,1.0],\"tickformat\":\"%H:%M\",\"type\":\"date\"},\"yaxis\":{\"anchor\":\"x\",\"categoryarray\":[\"19\",\"18\",\"17\",\"16\",\"15\",\"14\",\"13\",\"12\",\"11\",\"10\",\"9\",\"8\",\"7\",\"6\",\"5\",\"4\",\"3\",\"2\",\"1\"],\"categoryorder\":\"array\",\"domain\":[0.0,1.0],\"title\":{\"text\":\"Machine_ID\"}}},                        {\"responsive\": true}                    ).then(function(){\n",
       "                            \n",
       "var gd = document.getElementById('c047b86e-57d0-4783-99d4-114f0194a347');\n",
       "var x = new MutationObserver(function (mutations, observer) {{\n",
       "        var display = window.getComputedStyle(gd).display;\n",
       "        if (!display || display === 'none') {{\n",
       "            console.log([gd, 'removed!']);\n",
       "            Plotly.purge(gd);\n",
       "            observer.disconnect();\n",
       "        }}\n",
       "}});\n",
       "\n",
       "// Listen for the removal of the full notebook cells\n",
       "var notebookContainer = gd.closest('#notebook-container');\n",
       "if (notebookContainer) {{\n",
       "    x.observe(notebookContainer, {childList: true});\n",
       "}}\n",
       "\n",
       "// Listen for the clearing of the current output cell\n",
       "var outputEl = gd.closest('.output');\n",
       "if (outputEl) {{\n",
       "    x.observe(outputEl, {childList: true});\n",
       "}}\n",
       "\n",
       "                        })                };                });            </script>        </div>"
      ]
     },
     "metadata": {},
     "output_type": "display_data"
    },
    {
     "name": "stdout",
     "output_type": "stream",
     "text": [
      "tardyamount 0\n",
      "makespan 14.658691490160027\n"
     ]
    }
   ],
   "source": [
    "from huristicPaper import huristicPaper\n",
    "\n",
    "makespan, tardyamount, resultList = huristicPaper(path)\n",
    "\n",
    "print('tardyamount', tardyamount)\n",
    "print('makespan', makespan)"
   ]
  },
  {
   "cell_type": "markdown",
   "metadata": {},
   "source": [
    "### 3."
   ]
  },
  {
   "cell_type": "markdown",
   "metadata": {},
   "source": [
    "### Constant Data"
   ]
  },
  {
   "cell_type": "code",
   "execution_count": 14,
   "metadata": {},
   "outputs": [
    {
     "data": {
      "text/html": [
       "<div>\n",
       "<style scoped>\n",
       "    .dataframe tbody tr th:only-of-type {\n",
       "        vertical-align: middle;\n",
       "    }\n",
       "\n",
       "    .dataframe tbody tr th {\n",
       "        vertical-align: top;\n",
       "    }\n",
       "\n",
       "    .dataframe thead th {\n",
       "        text-align: right;\n",
       "    }\n",
       "</style>\n",
       "<table border=\"1\" class=\"dataframe\">\n",
       "  <thead>\n",
       "    <tr style=\"text-align: right;\">\n",
       "      <th></th>\n",
       "      <th>Unnamed: 0</th>\n",
       "      <th>Job ID</th>\n",
       "      <th>Stage-1 Processing Time</th>\n",
       "      <th>Stage-2 Processing Time</th>\n",
       "      <th>Stage-1 Machines</th>\n",
       "      <th>Stage-2 Machines</th>\n",
       "      <th>Due Time</th>\n",
       "    </tr>\n",
       "  </thead>\n",
       "  <tbody>\n",
       "    <tr>\n",
       "      <th>0</th>\n",
       "      <td>0</td>\n",
       "      <td>0</td>\n",
       "      <td>1.2896</td>\n",
       "      <td>0.5107</td>\n",
       "      <td>2,3,4,5,6,7,8,9,10,11,12,13,14,15,16,17,18,19</td>\n",
       "      <td>1,7,13,17</td>\n",
       "      <td>10.0029</td>\n",
       "    </tr>\n",
       "    <tr>\n",
       "      <th>1</th>\n",
       "      <td>1</td>\n",
       "      <td>1</td>\n",
       "      <td>0.8846</td>\n",
       "      <td>0.2977</td>\n",
       "      <td>2,3,4,5,6,7,8,9,11,17,18,19</td>\n",
       "      <td>1,2,4,8,9,13,14</td>\n",
       "      <td>18.4496</td>\n",
       "    </tr>\n",
       "    <tr>\n",
       "      <th>2</th>\n",
       "      <td>2</td>\n",
       "      <td>2</td>\n",
       "      <td>0.8283</td>\n",
       "      <td>3.8450</td>\n",
       "      <td>3,5,6,7,10,11,12,13,14,17</td>\n",
       "      <td>1,2,3,4,5,6,7,8,9,11,12,14,16,17,18,19</td>\n",
       "      <td>10.1672</td>\n",
       "    </tr>\n",
       "    <tr>\n",
       "      <th>3</th>\n",
       "      <td>3</td>\n",
       "      <td>3</td>\n",
       "      <td>2.4786</td>\n",
       "      <td>4.6428</td>\n",
       "      <td>2,3,5,6,8,9,11,14,16,17</td>\n",
       "      <td>2,5,8,9,10,11,14</td>\n",
       "      <td>12.5758</td>\n",
       "    </tr>\n",
       "    <tr>\n",
       "      <th>4</th>\n",
       "      <td>4</td>\n",
       "      <td>4</td>\n",
       "      <td>1.6269</td>\n",
       "      <td>9.5415</td>\n",
       "      <td>1,3,4,6,7,8,10,11,13,14,16,17,18</td>\n",
       "      <td>16</td>\n",
       "      <td>23.2470</td>\n",
       "    </tr>\n",
       "    <tr>\n",
       "      <th>5</th>\n",
       "      <td>5</td>\n",
       "      <td>5</td>\n",
       "      <td>5.9996</td>\n",
       "      <td>8.6591</td>\n",
       "      <td>2,3,10,11</td>\n",
       "      <td>1,2,3,4,6,7,8,9,10,11,12,13,14,15,16,17,18,19</td>\n",
       "      <td>21.4370</td>\n",
       "    </tr>\n",
       "    <tr>\n",
       "      <th>6</th>\n",
       "      <td>6</td>\n",
       "      <td>6</td>\n",
       "      <td>4.7996</td>\n",
       "      <td>5.8106</td>\n",
       "      <td>3,4,5,6,7,13</td>\n",
       "      <td>4,13,18,19</td>\n",
       "      <td>13.4846</td>\n",
       "    </tr>\n",
       "    <tr>\n",
       "      <th>7</th>\n",
       "      <td>7</td>\n",
       "      <td>7</td>\n",
       "      <td>2.3071</td>\n",
       "      <td>3.5087</td>\n",
       "      <td>1,7,9,10,11,12,14,16,17,18,19</td>\n",
       "      <td>1,3,4,5,6,7,8,9,11,13,14,15,16,17,18,19</td>\n",
       "      <td>9.9473</td>\n",
       "    </tr>\n",
       "    <tr>\n",
       "      <th>8</th>\n",
       "      <td>8</td>\n",
       "      <td>8</td>\n",
       "      <td>2.6076</td>\n",
       "      <td>8.7832</td>\n",
       "      <td>18</td>\n",
       "      <td>4,5,6,7,10,11,15,17,19</td>\n",
       "      <td>13.5081</td>\n",
       "    </tr>\n",
       "  </tbody>\n",
       "</table>\n",
       "</div>"
      ],
      "text/plain": [
       "   Unnamed: 0  Job ID  Stage-1 Processing Time  Stage-2 Processing Time  \\\n",
       "0           0       0                   1.2896                   0.5107   \n",
       "1           1       1                   0.8846                   0.2977   \n",
       "2           2       2                   0.8283                   3.8450   \n",
       "3           3       3                   2.4786                   4.6428   \n",
       "4           4       4                   1.6269                   9.5415   \n",
       "5           5       5                   5.9996                   8.6591   \n",
       "6           6       6                   4.7996                   5.8106   \n",
       "7           7       7                   2.3071                   3.5087   \n",
       "8           8       8                   2.6076                   8.7832   \n",
       "\n",
       "                                Stage-1 Machines  \\\n",
       "0  2,3,4,5,6,7,8,9,10,11,12,13,14,15,16,17,18,19   \n",
       "1                    2,3,4,5,6,7,8,9,11,17,18,19   \n",
       "2                      3,5,6,7,10,11,12,13,14,17   \n",
       "3                        2,3,5,6,8,9,11,14,16,17   \n",
       "4               1,3,4,6,7,8,10,11,13,14,16,17,18   \n",
       "5                                      2,3,10,11   \n",
       "6                                   3,4,5,6,7,13   \n",
       "7                  1,7,9,10,11,12,14,16,17,18,19   \n",
       "8                                             18   \n",
       "\n",
       "                                Stage-2 Machines  Due Time  \n",
       "0                                      1,7,13,17   10.0029  \n",
       "1                                1,2,4,8,9,13,14   18.4496  \n",
       "2         1,2,3,4,5,6,7,8,9,11,12,14,16,17,18,19   10.1672  \n",
       "3                               2,5,8,9,10,11,14   12.5758  \n",
       "4                                             16   23.2470  \n",
       "5  1,2,3,4,6,7,8,9,10,11,12,13,14,15,16,17,18,19   21.4370  \n",
       "6                                     4,13,18,19   13.4846  \n",
       "7        1,3,4,5,6,7,8,9,11,13,14,15,16,17,18,19    9.9473  \n",
       "8                         4,5,6,7,10,11,15,17,19   13.5081  "
      ]
     },
     "execution_count": 14,
     "metadata": {},
     "output_type": "execute_result"
    }
   ],
   "source": [
    "root1 = '../tests/test'\n",
    "subfileName1 = \".csv\"\n",
    "path = root1+ str(i) + subfileName1\n",
    "df = pd.read_csv(path)\n",
    "df"
   ]
  },
  {
   "cell_type": "code",
   "execution_count": 15,
   "metadata": {},
   "outputs": [],
   "source": [
    "# df['Stage-1 Machines']\n",
    "# df['Stage-2 Machines']"
   ]
  },
  {
   "cell_type": "code",
   "execution_count": 16,
   "metadata": {
    "scrolled": true
   },
   "outputs": [],
   "source": [
    "max_amount = 0\n",
    "for index, row in df.iterrows():\n",
    "    x1 = row['Stage-1 Machines'].split(',')\n",
    "    for element in x1:\n",
    "        num = int(element)\n",
    "        if(num > max_amount):\n",
    "            max_amount = num\n",
    "            \n",
    "    temp = row['Stage-2 Machines']\n",
    "    if(pd.isna(temp) == False):\n",
    "        x2 = temp.split(',')\n",
    "        for element in x2:\n",
    "            num = int(element)\n",
    "            if(num > max_amount):\n",
    "                max_amount = num"
   ]
  },
  {
   "cell_type": "code",
   "execution_count": 17,
   "metadata": {},
   "outputs": [
    {
     "data": {
      "text/plain": [
       "19"
      ]
     },
     "execution_count": 17,
     "metadata": {},
     "output_type": "execute_result"
    }
   ],
   "source": [
    "max_amount"
   ]
  },
  {
   "cell_type": "code",
   "execution_count": 18,
   "metadata": {},
   "outputs": [],
   "source": [
    "# instance i 中 job 的總數量\n",
    "I = len(df) # order num\n",
    "S = 2 # stage num\n",
    "\n",
    "\n",
    "orders = range(0, I)\n",
    "machines = range(0, max_amount)\n",
    "stages = range(0, S)"
   ]
  },
  {
   "cell_type": "code",
   "execution_count": 19,
   "metadata": {},
   "outputs": [],
   "source": [
    "P = []\n",
    "for index, row in df.iterrows():\n",
    "    P.append([])\n",
    "    P[index].append(row['Stage-1 Processing Time'])\n",
    "    P[index].append(row['Stage-2 Processing Time'])"
   ]
  },
  {
   "cell_type": "code",
   "execution_count": 20,
   "metadata": {},
   "outputs": [
    {
     "data": {
      "text/plain": [
       "[[1.2896055920390104, 0.5106820365657239],\n",
       " [0.8846096798429537, 0.2976714662447322],\n",
       " [0.8282584881461996, 3.845033381674608],\n",
       " [2.478641655940077, 4.6428150743957],\n",
       " [1.6268668826890764, 9.541542161515],\n",
       " [5.999631582262968, 8.65905990789706],\n",
       " [4.7996116991740125, 5.810612345832659],\n",
       " [2.3070976199463344, 3.5086918544120307],\n",
       " [2.607604645283049, 8.78316755323287]]"
      ]
     },
     "execution_count": 20,
     "metadata": {},
     "output_type": "execute_result"
    }
   ],
   "source": [
    "P"
   ]
  },
  {
   "cell_type": "code",
   "execution_count": 21,
   "metadata": {},
   "outputs": [],
   "source": [
    "# C_ijm -> init 3 dim 都是 false 的東西\n",
    "C =  []\n",
    "for i in range(I):\n",
    "    C.append([])\n",
    "    C[i].append([0 for i in range(max_amount)])\n",
    "    C[i].append([0 for i in range(max_amount)])"
   ]
  },
  {
   "cell_type": "code",
   "execution_count": 22,
   "metadata": {},
   "outputs": [],
   "source": [
    "for index, row in df.iterrows():\n",
    "    x1 = row['Stage-1 Machines'].split(',')\n",
    "    for element in x1:\n",
    "        num = int(element)\n",
    "        C[index][0][num-1] = 1\n",
    "\n",
    "        temp = row['Stage-2 Machines']\n",
    "        if(pd.isna(temp) == False):\n",
    "            x2 = temp.split(',')\n",
    "            for element in x2:\n",
    "                num = int(element)\n",
    "                C[index][1][num-1] = 1"
   ]
  },
  {
   "cell_type": "code",
   "execution_count": 23,
   "metadata": {},
   "outputs": [
    {
     "data": {
      "text/plain": [
       "[[[0, 1, 1, 1, 1, 1, 1, 1, 1, 1, 1, 1, 1, 1, 1, 1, 1, 1, 1],\n",
       "  [1, 0, 0, 0, 0, 0, 1, 0, 0, 0, 0, 0, 1, 0, 0, 0, 1, 0, 0]],\n",
       " [[0, 1, 1, 1, 1, 1, 1, 1, 1, 0, 1, 0, 0, 0, 0, 0, 1, 1, 1],\n",
       "  [1, 1, 0, 1, 0, 0, 0, 1, 1, 0, 0, 0, 1, 1, 0, 0, 0, 0, 0]],\n",
       " [[0, 0, 1, 0, 1, 1, 1, 0, 0, 1, 1, 1, 1, 1, 0, 0, 1, 0, 0],\n",
       "  [1, 1, 1, 1, 1, 1, 1, 1, 1, 0, 1, 1, 0, 1, 0, 1, 1, 1, 1]],\n",
       " [[0, 1, 1, 0, 1, 1, 0, 1, 1, 0, 1, 0, 0, 1, 0, 1, 1, 0, 0],\n",
       "  [0, 1, 0, 0, 1, 0, 0, 1, 1, 1, 1, 0, 0, 1, 0, 0, 0, 0, 0]],\n",
       " [[1, 0, 1, 1, 0, 1, 1, 1, 0, 1, 1, 0, 1, 1, 0, 1, 1, 1, 0],\n",
       "  [0, 0, 0, 0, 0, 0, 0, 0, 0, 0, 0, 0, 0, 0, 0, 1, 0, 0, 0]],\n",
       " [[0, 1, 1, 0, 0, 0, 0, 0, 0, 1, 1, 0, 0, 0, 0, 0, 0, 0, 0],\n",
       "  [1, 1, 1, 1, 0, 1, 1, 1, 1, 1, 1, 1, 1, 1, 1, 1, 1, 1, 1]],\n",
       " [[0, 0, 1, 1, 1, 1, 1, 0, 0, 0, 0, 0, 1, 0, 0, 0, 0, 0, 0],\n",
       "  [0, 0, 0, 1, 0, 0, 0, 0, 0, 0, 0, 0, 1, 0, 0, 0, 0, 1, 1]],\n",
       " [[1, 0, 0, 0, 0, 0, 1, 0, 1, 1, 1, 1, 0, 1, 0, 1, 1, 1, 1],\n",
       "  [1, 0, 1, 1, 1, 1, 1, 1, 1, 0, 1, 0, 1, 1, 1, 1, 1, 1, 1]],\n",
       " [[0, 0, 0, 0, 0, 0, 0, 0, 0, 0, 0, 0, 0, 0, 0, 0, 0, 1, 0],\n",
       "  [0, 0, 0, 1, 1, 1, 1, 0, 0, 1, 1, 0, 0, 0, 1, 0, 1, 0, 1]]]"
      ]
     },
     "execution_count": 23,
     "metadata": {},
     "output_type": "execute_result"
    }
   ],
   "source": [
    "C"
   ]
  },
  {
   "cell_type": "code",
   "execution_count": 24,
   "metadata": {},
   "outputs": [
    {
     "data": {
      "text/plain": [
       "[10.002877467903849,\n",
       " 18.44959110542398,\n",
       " 10.16718186695907,\n",
       " 12.57583850931542,\n",
       " 23.246963410667853,\n",
       " 21.43700130894092,\n",
       " 13.484570010111124,\n",
       " 9.947349837986,\n",
       " 13.508132567661516]"
      ]
     },
     "execution_count": 24,
     "metadata": {},
     "output_type": "execute_result"
    }
   ],
   "source": [
    "D = []\n",
    "for index, row in df.iterrows():\n",
    "    D.append(row['Due Time'])\n",
    "D"
   ]
  },
  {
   "cell_type": "markdown",
   "metadata": {},
   "source": [
    "### Decision variable – Delay"
   ]
  },
  {
   "cell_type": "code",
   "execution_count": 25,
   "metadata": {},
   "outputs": [
    {
     "name": "stdout",
     "output_type": "stream",
     "text": [
      "Set parameter Username\n",
      "Academic license - for non-commercial use only - expires 2023-04-27\n",
      "Set parameter TimeLimit to value 100\n"
     ]
    }
   ],
   "source": [
    "Q3_delay = Model('Q3-delay')\n",
    "Q3_delay.setParam('TimeLimit',100)\n",
    "\n",
    "# x_is is the finish time of order i at stage s\n",
    "x = {}\n",
    "for i in orders:\n",
    "    x[i] = {}\n",
    "    for s in stages:\n",
    "        x[i][s] = Q3_delay.addVar(lb = 0, vtype = GRB.CONTINUOUS, name = \"x_\" + str(i) + \",\" + str(s))\n",
    "\n",
    "# y_ism = 1 if order i process on machine m  at stage s otherwise 0\n",
    "y = {}\n",
    "for i in orders:\n",
    "    y[i] = {}\n",
    "    for s in stages:\n",
    "        y[i][s] = {}\n",
    "        for m in machines:\n",
    "            y[i][s][m] = Q3_delay.addVar(lb = 0, vtype = GRB.BINARY, name = \"y_\" + str(i) + \",\" + str(s) + \",\" + str(m))\n",
    "        \n",
    "# z_isjt = 1 if order i's stage s process before order j's stage t and they both process on the same machine otherwise 0\n",
    "z = {}\n",
    "for i in orders:\n",
    "    z[i] = {}\n",
    "    for s in stages:\n",
    "        z[i][s] = {}\n",
    "        for j in orders:\n",
    "            z[i][s][j] = {}\n",
    "            for t in stages:\n",
    "                z[i][s][j][t] = Q3_delay.addVar(lb = 0, vtype = GRB.BINARY, name = \"z_\" + str(i) + \",\" + str(s) + \",\" + str(j) + \",\" + str(t))\n",
    "        \n",
    "# l_i = 1 if order i is late otherwise 0\n",
    "l = {}\n",
    "for i in orders:\n",
    "    l[i] = Q3_delay.addVar(lb = 0, vtype = GRB.BINARY, name = \"l_\" + str(i))\n",
    "\n",
    "Q3_delay.update()"
   ]
  },
  {
   "cell_type": "markdown",
   "metadata": {},
   "source": [
    "### Setting the objective function"
   ]
  },
  {
   "cell_type": "code",
   "execution_count": 26,
   "metadata": {},
   "outputs": [],
   "source": [
    "Q3_delay.setObjective(quicksum(l[i] for i in orders), GRB.MINIMIZE)"
   ]
  },
  {
   "cell_type": "markdown",
   "metadata": {},
   "source": [
    "### Add constraints"
   ]
  },
  {
   "cell_type": "code",
   "execution_count": 27,
   "metadata": {},
   "outputs": [],
   "source": [
    "Q3_delay.addConstrs((x[j][t] + P[i][s] - x[i][s] <= (quicksum(P[i][s] for i in orders for s in stages)+P[i][s]) * (z[i][s][j][t] + 2-y[i][s][m]-y[j][t][m]) for i in orders for j in range(i+1, I) for m in machines for s in stages for t in stages), 'constraints for x_is, z_isjt')\n",
    "Q3_delay.addConstrs((x[i][s] + P[j][t] - x[j][t] <= (quicksum(P[i][s] for i in orders for s in stages)+P[j][t]) * (1-z[i][s][j][t] + 2-y[i][s][m]-y[j][t][m]) for i in orders for j in range(i+1, I) for m in machines for s in stages for t in stages), 'constraints for x_is, z_isjt')\n",
    "Q3_delay.addConstrs((x[i][1] <= D[i] + quicksum(P[i][s] for s in stages for i in orders) * l[i] for i in orders), 'constraints for l_i')\n",
    "Q3_delay.addConstrs((quicksum(y[i][s][m] for m in machines) == 1 for i in orders for s in stages), 'allocate orders to machines')\n",
    "Q3_delay.addConstrs((x[i][s] >= P[i][s] for i in orders for s in stages), 'minimum x_i')\n",
    "Q3_delay.addConstrs((x[i][1] >= x[i][0] + P[i][1] for i in orders), 'stage 2 should start after stage 1 is finished')\n",
    "\n",
    "# C[i][s][m]\n",
    "Q3_delay.addConstrs((y[i][s][m] <= (1 if C[i][s][m] == 0 else 1) for i in orders for s in stages for m in machines), 'constraints for cook machines')\n",
    "\n",
    "Q3_delay.update()"
   ]
  },
  {
   "cell_type": "code",
   "execution_count": 28,
   "metadata": {},
   "outputs": [
    {
     "name": "stdout",
     "output_type": "stream",
     "text": [
      "Gurobi Optimizer version 9.5.1 build v9.5.1rc2 (mac64[rosetta2])\n",
      "Thread count: 8 physical cores, 8 logical processors, using up to 8 threads\n",
      "Optimize a model with 5868 rows, 693 columns and 28098 nonzeros\n",
      "Model fingerprint: 0x3d3e181e\n",
      "Variable types: 18 continuous, 675 integer (675 binary)\n",
      "Coefficient statistics:\n",
      "  Matrix range     [1e+00, 8e+01]\n",
      "  Objective range  [1e+00, 1e+00]\n",
      "  Bounds range     [1e+00, 1e+00]\n",
      "  RHS range        [3e-01, 2e+02]\n",
      "Found heuristic solution: objective 0.0000000\n",
      "\n",
      "Explored 0 nodes (0 simplex iterations) in 0.01 seconds (0.00 work units)\n",
      "Thread count was 1 (of 8 available processors)\n",
      "\n",
      "Solution count 1: 0 \n",
      "\n",
      "Optimal solution found (tolerance 1.00e-04)\n",
      "Best objective 0.000000000000e+00, best bound 0.000000000000e+00, gap 0.0000%\n"
     ]
    }
   ],
   "source": [
    "Q3_delay.optimize()"
   ]
  },
  {
   "cell_type": "code",
   "execution_count": 29,
   "metadata": {},
   "outputs": [
    {
     "name": "stdout",
     "output_type": "stream",
     "text": [
      "objective value = 0.0\n"
     ]
    }
   ],
   "source": [
    "a = Q3_delay.objVal\n",
    "print(\"objective value =\", a)"
   ]
  },
  {
   "cell_type": "markdown",
   "metadata": {},
   "source": [
    "### Decision variable – makespan"
   ]
  },
  {
   "cell_type": "code",
   "execution_count": 30,
   "metadata": {},
   "outputs": [
    {
     "name": "stdout",
     "output_type": "stream",
     "text": [
      "Set parameter TimeLimit to value 100\n"
     ]
    }
   ],
   "source": [
    "Q3_makespan = Model('Q3-makespan')\n",
    "Q3_makespan.setParam('TimeLimit',100)\n",
    "\n",
    "# x_is is the finish time of order i at stage s\n",
    "x = {}\n",
    "for i in orders:\n",
    "    x[i] = {}\n",
    "    for s in stages:\n",
    "        x[i][s] = Q3_makespan.addVar(lb = 0, vtype = GRB.CONTINUOUS, name = \"x_\" + str(i) + \",\" + str(s))\n",
    "\n",
    "# y_ism = 1 if order i process on machine m  at stage s otherwise 0\n",
    "y = {}\n",
    "for i in orders:\n",
    "    y[i] = {}\n",
    "    for s in stages:\n",
    "        y[i][s] = {}\n",
    "        for m in machines:\n",
    "            y[i][s][m] = Q3_makespan.addVar(lb = 0, vtype = GRB.BINARY, name = \"y_\" + str(i) + \",\" + str(s) + \",\" + str(m))\n",
    "        \n",
    "# z_isjt = 1 if order i's stage s process before order j's stage t and they both process on the same machine otherwise 0\n",
    "z = {}\n",
    "for i in orders:\n",
    "    z[i] = {}\n",
    "    for s in stages:\n",
    "        z[i][s] = {}\n",
    "        for j in orders:\n",
    "            z[i][s][j] = {}\n",
    "            for t in stages:\n",
    "                z[i][s][j][t] = Q3_makespan.addVar(lb = 0, vtype = GRB.BINARY, name = \"z_\" + str(i) + \",\" + str(s) + \",\" + str(j) + \",\" + str(t))\n",
    "        \n",
    "# l_i = 1 if order i is late otherwise 0\n",
    "l = {}\n",
    "for i in orders:\n",
    "    l[i] = Q3_makespan.addVar(lb = 0, vtype = GRB.BINARY, name = \"l_\" + str(i))\n",
    "\n",
    "# w is the makespan of the solution\n",
    "w = Q3_makespan.addVar(lb = 0, vtype = GRB.CONTINUOUS, name = \"w\")\n",
    "\n",
    "Q3_makespan.update()"
   ]
  },
  {
   "cell_type": "markdown",
   "metadata": {},
   "source": [
    "### Setting the objective function"
   ]
  },
  {
   "cell_type": "code",
   "execution_count": 31,
   "metadata": {},
   "outputs": [],
   "source": [
    "Q3_makespan.setObjective(w, GRB.MINIMIZE)"
   ]
  },
  {
   "cell_type": "markdown",
   "metadata": {},
   "source": [
    "### Add constraints"
   ]
  },
  {
   "cell_type": "code",
   "execution_count": 32,
   "metadata": {},
   "outputs": [],
   "source": [
    "Q3_makespan.addConstrs((x[j][t] + P[i][s] - x[i][s] <= (quicksum(P[i][s] for i in orders for s in stages)+P[i][s]) * (z[i][s][j][t] + 2-y[i][s][m]-y[j][t][m]) for i in orders for j in range(i+1, I) for m in machines for s in stages for t in stages), 'constraints for x_is, z_isjt')\n",
    "Q3_makespan.addConstrs((x[i][s] + P[j][t] - x[j][t] <= (quicksum(P[i][s] for i in orders for s in stages)+P[j][t]) * (1-z[i][s][j][t] + 2-y[i][s][m]-y[j][t][m]) for i in orders for j in range(i+1, I) for m in machines for s in stages for t in stages), 'constraints for x_is, z_isjt')\n",
    "Q3_makespan.addConstrs((x[i][1] <= D[i] + quicksum(P[i][s] for s in stages for i in orders) * l[i] for i in orders), 'constraints for l_i')\n",
    "Q3_makespan.addConstrs((quicksum(y[i][s][m] for m in machines) == 1 for i in orders for s in stages), 'allocate orders to machines')\n",
    "Q3_makespan.addConstrs((x[i][s] >= P[i][s] for i in orders for s in stages), 'minimum x_i')\n",
    "Q3_makespan.addConstrs((x[i][1] >= x[i][0] + P[i][1] for i in orders), 'stage 2 should start after stage 1 is finished')\n",
    "# C_ism\n",
    "Q3_makespan.addConstrs((y[i][s][m] <= (1 if C[i][s][m] == 0 else 1) for i in orders for s in stages for m in machines), 'constraints for cook machines')\n",
    "Q3_makespan.addConstrs((w >= x[i][1] for i in orders), 'makespan')\n",
    "Q3_makespan.addConstr((quicksum(l[i] for i in orders) == a), 'delay num')\n",
    "# Q3_makespan.addConstr((w == 6.1), 'delay num')\n",
    "\n",
    "Q3_makespan.update()"
   ]
  },
  {
   "cell_type": "code",
   "execution_count": 33,
   "metadata": {},
   "outputs": [
    {
     "name": "stdout",
     "output_type": "stream",
     "text": [
      "Gurobi Optimizer version 9.5.1 build v9.5.1rc2 (mac64[rosetta2])\n",
      "Thread count: 8 physical cores, 8 logical processors, using up to 8 threads\n",
      "Optimize a model with 5878 rows, 694 columns and 28125 nonzeros\n",
      "Model fingerprint: 0xb0b7e399\n",
      "Variable types: 19 continuous, 675 integer (675 binary)\n",
      "Coefficient statistics:\n",
      "  Matrix range     [1e+00, 8e+01]\n",
      "  Objective range  [1e+00, 1e+00]\n",
      "  Bounds range     [1e+00, 1e+00]\n",
      "  RHS range        [3e-01, 2e+02]\n",
      "Found heuristic solution: objective 14.6586914\n",
      "Presolve removed 452 rows and 191 columns\n",
      "Presolve time: 0.02s\n",
      "Presolved: 5426 rows, 503 columns, 27346 nonzeros\n",
      "Variable types: 19 continuous, 484 integer (484 binary)\n",
      "\n",
      "Explored 0 nodes (0 simplex iterations) in 0.05 seconds (0.05 work units)\n",
      "Thread count was 8 (of 8 available processors)\n",
      "\n",
      "Solution count 1: 14.6587 \n",
      "\n",
      "Optimal solution found (tolerance 1.00e-04)\n",
      "Best objective 1.465869140625e+01, best bound 1.465869140625e+01, gap 0.0000%\n"
     ]
    }
   ],
   "source": [
    "Q3_makespan.optimize()"
   ]
  },
  {
   "cell_type": "code",
   "execution_count": 34,
   "metadata": {},
   "outputs": [
    {
     "name": "stdout",
     "output_type": "stream",
     "text": [
      "objective value = 14.65869140625\n"
     ]
    }
   ],
   "source": [
    "print(\"objective value =\", Q3_makespan.objVal)"
   ]
  },
  {
   "cell_type": "markdown",
   "metadata": {},
   "source": [
    "## Results"
   ]
  },
  {
   "cell_type": "code",
   "execution_count": 35,
   "metadata": {},
   "outputs": [],
   "source": [
    "x_opt = {}\n",
    "for i in orders:\n",
    "    x_opt[i] = {}\n",
    "    for s in stages:\n",
    "        x_opt[i][s] = {}\n",
    "\n",
    "y_opt = {}\n",
    "for i in orders:\n",
    "    y_opt[i] = {}\n",
    "    for s in stages:\n",
    "        y_opt[i][s] = {}\n",
    "        for m in machines:\n",
    "            y_opt[i][s][m] = {}\n",
    "\n",
    "for var in Q3_makespan.getVars():\n",
    "    index = [i for i in var.varName[2:].split(',')]\n",
    "    if var.varName[0] == 'x':\n",
    "        x_opt[int(index[0])][int(index[1])] = var.x\n",
    "    elif var.varName[0] == 'y':\n",
    "        y_opt[int(index[0])][int(index[1])][int(index[2])] = var.x"
   ]
  },
  {
   "cell_type": "markdown",
   "metadata": {},
   "source": [
    "## Plot Gantt Charts"
   ]
  },
  {
   "cell_type": "code",
   "execution_count": 36,
   "metadata": {},
   "outputs": [
    {
     "data": {
      "text/html": [
       "<div>                            <div id=\"c00c292b-ed36-46c7-899a-a4b66df8e171\" class=\"plotly-graph-div\" style=\"height:525px; width:100%;\"></div>            <script type=\"text/javascript\">                require([\"plotly\"], function(Plotly) {                    window.PLOTLYENV=window.PLOTLYENV || {};                                    if (document.getElementById(\"c00c292b-ed36-46c7-899a-a4b66df8e171\")) {                    Plotly.newPlot(                        \"c00c292b-ed36-46c7-899a-a4b66df8e171\",                        [{\"alignmentgroup\":\"True\",\"base\":[\"2000-01-01T00:00:00\",\"2000-01-01T01:37:36.720777\"],\"hovertemplate\":\"Job_ID=1<br>START_TIME=%{base}<br>END_TIME=%{x}<br>Machine_ID=%{y}<extra></extra>\",\"legendgroup\":\"1\",\"marker\":{\"color\":\"#C0392B\"},\"name\":\"1\",\"offsetgroup\":\"1\",\"orientation\":\"h\",\"showlegend\":true,\"textposition\":\"auto\",\"type\":\"bar\",\"x\":[4642580.0,1838455.0],\"xaxis\":\"x\",\"y\":[\"1\",\"6\"],\"yaxis\":\"y\"},{\"alignmentgroup\":\"True\",\"base\":[\"2000-01-01T00:00:00\",\"2000-01-01T00:53:04.594848\"],\"hovertemplate\":\"Job_ID=2<br>START_TIME=%{base}<br>END_TIME=%{x}<br>Machine_ID=%{y}<extra></extra>\",\"legendgroup\":\"2\",\"marker\":{\"color\":\"#EC7063\"},\"name\":\"2\",\"offsetgroup\":\"2\",\"orientation\":\"h\",\"showlegend\":true,\"textposition\":\"auto\",\"type\":\"bar\",\"x\":[3184594.0,1071617.0],\"xaxis\":\"x\",\"y\":[\"3\",\"7\"],\"yaxis\":\"y\"},{\"alignmentgroup\":\"True\",\"base\":[\"2000-01-01T00:00:00\",\"2000-01-01T00:49:41.730557\"],\"hovertemplate\":\"Job_ID=3<br>START_TIME=%{base}<br>END_TIME=%{x}<br>Machine_ID=%{y}<extra></extra>\",\"legendgroup\":\"3\",\"marker\":{\"color\":\"#1F618D\"},\"name\":\"3\",\"offsetgroup\":\"3\",\"orientation\":\"h\",\"showlegend\":true,\"textposition\":\"auto\",\"type\":\"bar\",\"x\":[2981730.0,13842120.0],\"xaxis\":\"x\",\"y\":[\"17\",\"10\"],\"yaxis\":\"y\"},{\"alignmentgroup\":\"True\",\"base\":[\"2000-01-01T00:30:38.455332\",\"2000-01-01T02:59:21.565293\"],\"hovertemplate\":\"Job_ID=4<br>START_TIME=%{base}<br>END_TIME=%{x}<br>Machine_ID=%{y}<extra></extra>\",\"legendgroup\":\"4\",\"marker\":{\"color\":\"#34495E\"},\"name\":\"4\",\"offsetgroup\":\"4\",\"orientation\":\"h\",\"showlegend\":true,\"textposition\":\"auto\",\"type\":\"bar\",\"x\":[8923109.0,16714134.0],\"xaxis\":\"x\",\"y\":[\"9\",\"15\"],\"yaxis\":\"y\"},{\"alignmentgroup\":\"True\",\"base\":[\"2000-01-01T00:00:00\",\"2000-01-01T01:37:36.720778\"],\"hovertemplate\":\"Job_ID=5<br>START_TIME=%{base}<br>END_TIME=%{x}<br>Machine_ID=%{y}<extra></extra>\",\"legendgroup\":\"5\",\"marker\":{\"color\":\"#3498DB\"},\"name\":\"5\",\"offsetgroup\":\"5\",\"orientation\":\"h\",\"showlegend\":true,\"textposition\":\"auto\",\"type\":\"bar\",\"x\":[5856720.0,34349551.0],\"xaxis\":\"x\",\"y\":[\"6\",\"8\"],\"yaxis\":\"y\"},{\"alignmentgroup\":\"True\",\"base\":[\"2000-01-01T00:00:00\",\"2000-01-01T05:59:58.673697\"],\"hovertemplate\":\"Job_ID=6<br>START_TIME=%{base}<br>END_TIME=%{x}<br>Machine_ID=%{y}<extra></extra>\",\"legendgroup\":\"6\",\"marker\":{\"color\":\"#1E8449\"},\"name\":\"6\",\"offsetgroup\":\"6\",\"orientation\":\"h\",\"showlegend\":true,\"textposition\":\"auto\",\"type\":\"bar\",\"x\":[21598673.0,31172615.0],\"xaxis\":\"x\",\"y\":[\"14\",\"18\"],\"yaxis\":\"y\"},{\"alignmentgroup\":\"True\",\"base\":[\"2000-01-01T00:00:00\",\"2000-01-01T04:47:58.602117\"],\"hovertemplate\":\"Job_ID=7<br>START_TIME=%{base}<br>END_TIME=%{x}<br>Machine_ID=%{y}<extra></extra>\",\"legendgroup\":\"7\",\"marker\":{\"color\":\"#28B463\"},\"name\":\"7\",\"offsetgroup\":\"7\",\"orientation\":\"h\",\"showlegend\":true,\"textposition\":\"auto\",\"type\":\"bar\",\"x\":[17278602.0,20918204.0],\"xaxis\":\"x\",\"y\":[\"11\",\"19\"],\"yaxis\":\"y\"},{\"alignmentgroup\":\"True\",\"base\":[\"2000-01-01T00:00:00\",\"2000-01-01T02:18:25.551432\"],\"hovertemplate\":\"Job_ID=8<br>START_TIME=%{base}<br>END_TIME=%{x}<br>Machine_ID=%{y}<extra></extra>\",\"legendgroup\":\"8\",\"marker\":{\"color\":\"#F1C40F\"},\"name\":\"8\",\"offsetgroup\":\"8\",\"orientation\":\"h\",\"showlegend\":true,\"textposition\":\"auto\",\"type\":\"bar\",\"x\":[8305551.0,12631290.0],\"xaxis\":\"x\",\"y\":[\"5\",\"17\"],\"yaxis\":\"y\"},{\"alignmentgroup\":\"True\",\"base\":[\"2000-01-01T00:00:00\",\"2000-01-01T02:36:27.376723\"],\"hovertemplate\":\"Job_ID=9<br>START_TIME=%{base}<br>END_TIME=%{x}<br>Machine_ID=%{y}<extra></extra>\",\"legendgroup\":\"9\",\"marker\":{\"color\":\"#F39C12\"},\"name\":\"9\",\"offsetgroup\":\"9\",\"orientation\":\"h\",\"showlegend\":true,\"textposition\":\"auto\",\"type\":\"bar\",\"x\":[9387376.0,31619403.0],\"xaxis\":\"x\",\"y\":[\"16\",\"12\"],\"yaxis\":\"y\"}],                        {\"barmode\":\"overlay\",\"legend\":{\"title\":{\"text\":\"Lot ID\"},\"tracegroupgap\":0},\"template\":{\"data\":{\"bar\":[{\"error_x\":{\"color\":\"#2a3f5f\"},\"error_y\":{\"color\":\"#2a3f5f\"},\"marker\":{\"line\":{\"color\":\"#E5ECF6\",\"width\":0.5},\"pattern\":{\"fillmode\":\"overlay\",\"size\":10,\"solidity\":0.2}},\"type\":\"bar\"}],\"barpolar\":[{\"marker\":{\"line\":{\"color\":\"#E5ECF6\",\"width\":0.5},\"pattern\":{\"fillmode\":\"overlay\",\"size\":10,\"solidity\":0.2}},\"type\":\"barpolar\"}],\"carpet\":[{\"aaxis\":{\"endlinecolor\":\"#2a3f5f\",\"gridcolor\":\"white\",\"linecolor\":\"white\",\"minorgridcolor\":\"white\",\"startlinecolor\":\"#2a3f5f\"},\"baxis\":{\"endlinecolor\":\"#2a3f5f\",\"gridcolor\":\"white\",\"linecolor\":\"white\",\"minorgridcolor\":\"white\",\"startlinecolor\":\"#2a3f5f\"},\"type\":\"carpet\"}],\"choropleth\":[{\"colorbar\":{\"outlinewidth\":0,\"ticks\":\"\"},\"type\":\"choropleth\"}],\"contour\":[{\"colorbar\":{\"outlinewidth\":0,\"ticks\":\"\"},\"colorscale\":[[0.0,\"#0d0887\"],[0.1111111111111111,\"#46039f\"],[0.2222222222222222,\"#7201a8\"],[0.3333333333333333,\"#9c179e\"],[0.4444444444444444,\"#bd3786\"],[0.5555555555555556,\"#d8576b\"],[0.6666666666666666,\"#ed7953\"],[0.7777777777777778,\"#fb9f3a\"],[0.8888888888888888,\"#fdca26\"],[1.0,\"#f0f921\"]],\"type\":\"contour\"}],\"contourcarpet\":[{\"colorbar\":{\"outlinewidth\":0,\"ticks\":\"\"},\"type\":\"contourcarpet\"}],\"heatmap\":[{\"colorbar\":{\"outlinewidth\":0,\"ticks\":\"\"},\"colorscale\":[[0.0,\"#0d0887\"],[0.1111111111111111,\"#46039f\"],[0.2222222222222222,\"#7201a8\"],[0.3333333333333333,\"#9c179e\"],[0.4444444444444444,\"#bd3786\"],[0.5555555555555556,\"#d8576b\"],[0.6666666666666666,\"#ed7953\"],[0.7777777777777778,\"#fb9f3a\"],[0.8888888888888888,\"#fdca26\"],[1.0,\"#f0f921\"]],\"type\":\"heatmap\"}],\"heatmapgl\":[{\"colorbar\":{\"outlinewidth\":0,\"ticks\":\"\"},\"colorscale\":[[0.0,\"#0d0887\"],[0.1111111111111111,\"#46039f\"],[0.2222222222222222,\"#7201a8\"],[0.3333333333333333,\"#9c179e\"],[0.4444444444444444,\"#bd3786\"],[0.5555555555555556,\"#d8576b\"],[0.6666666666666666,\"#ed7953\"],[0.7777777777777778,\"#fb9f3a\"],[0.8888888888888888,\"#fdca26\"],[1.0,\"#f0f921\"]],\"type\":\"heatmapgl\"}],\"histogram\":[{\"marker\":{\"pattern\":{\"fillmode\":\"overlay\",\"size\":10,\"solidity\":0.2}},\"type\":\"histogram\"}],\"histogram2d\":[{\"colorbar\":{\"outlinewidth\":0,\"ticks\":\"\"},\"colorscale\":[[0.0,\"#0d0887\"],[0.1111111111111111,\"#46039f\"],[0.2222222222222222,\"#7201a8\"],[0.3333333333333333,\"#9c179e\"],[0.4444444444444444,\"#bd3786\"],[0.5555555555555556,\"#d8576b\"],[0.6666666666666666,\"#ed7953\"],[0.7777777777777778,\"#fb9f3a\"],[0.8888888888888888,\"#fdca26\"],[1.0,\"#f0f921\"]],\"type\":\"histogram2d\"}],\"histogram2dcontour\":[{\"colorbar\":{\"outlinewidth\":0,\"ticks\":\"\"},\"colorscale\":[[0.0,\"#0d0887\"],[0.1111111111111111,\"#46039f\"],[0.2222222222222222,\"#7201a8\"],[0.3333333333333333,\"#9c179e\"],[0.4444444444444444,\"#bd3786\"],[0.5555555555555556,\"#d8576b\"],[0.6666666666666666,\"#ed7953\"],[0.7777777777777778,\"#fb9f3a\"],[0.8888888888888888,\"#fdca26\"],[1.0,\"#f0f921\"]],\"type\":\"histogram2dcontour\"}],\"mesh3d\":[{\"colorbar\":{\"outlinewidth\":0,\"ticks\":\"\"},\"type\":\"mesh3d\"}],\"parcoords\":[{\"line\":{\"colorbar\":{\"outlinewidth\":0,\"ticks\":\"\"}},\"type\":\"parcoords\"}],\"pie\":[{\"automargin\":true,\"type\":\"pie\"}],\"scatter\":[{\"marker\":{\"colorbar\":{\"outlinewidth\":0,\"ticks\":\"\"}},\"type\":\"scatter\"}],\"scatter3d\":[{\"line\":{\"colorbar\":{\"outlinewidth\":0,\"ticks\":\"\"}},\"marker\":{\"colorbar\":{\"outlinewidth\":0,\"ticks\":\"\"}},\"type\":\"scatter3d\"}],\"scattercarpet\":[{\"marker\":{\"colorbar\":{\"outlinewidth\":0,\"ticks\":\"\"}},\"type\":\"scattercarpet\"}],\"scattergeo\":[{\"marker\":{\"colorbar\":{\"outlinewidth\":0,\"ticks\":\"\"}},\"type\":\"scattergeo\"}],\"scattergl\":[{\"marker\":{\"colorbar\":{\"outlinewidth\":0,\"ticks\":\"\"}},\"type\":\"scattergl\"}],\"scattermapbox\":[{\"marker\":{\"colorbar\":{\"outlinewidth\":0,\"ticks\":\"\"}},\"type\":\"scattermapbox\"}],\"scatterpolar\":[{\"marker\":{\"colorbar\":{\"outlinewidth\":0,\"ticks\":\"\"}},\"type\":\"scatterpolar\"}],\"scatterpolargl\":[{\"marker\":{\"colorbar\":{\"outlinewidth\":0,\"ticks\":\"\"}},\"type\":\"scatterpolargl\"}],\"scatterternary\":[{\"marker\":{\"colorbar\":{\"outlinewidth\":0,\"ticks\":\"\"}},\"type\":\"scatterternary\"}],\"surface\":[{\"colorbar\":{\"outlinewidth\":0,\"ticks\":\"\"},\"colorscale\":[[0.0,\"#0d0887\"],[0.1111111111111111,\"#46039f\"],[0.2222222222222222,\"#7201a8\"],[0.3333333333333333,\"#9c179e\"],[0.4444444444444444,\"#bd3786\"],[0.5555555555555556,\"#d8576b\"],[0.6666666666666666,\"#ed7953\"],[0.7777777777777778,\"#fb9f3a\"],[0.8888888888888888,\"#fdca26\"],[1.0,\"#f0f921\"]],\"type\":\"surface\"}],\"table\":[{\"cells\":{\"fill\":{\"color\":\"#EBF0F8\"},\"line\":{\"color\":\"white\"}},\"header\":{\"fill\":{\"color\":\"#C8D4E3\"},\"line\":{\"color\":\"white\"}},\"type\":\"table\"}]},\"layout\":{\"annotationdefaults\":{\"arrowcolor\":\"#2a3f5f\",\"arrowhead\":0,\"arrowwidth\":1},\"autotypenumbers\":\"strict\",\"coloraxis\":{\"colorbar\":{\"outlinewidth\":0,\"ticks\":\"\"}},\"colorscale\":{\"diverging\":[[0,\"#8e0152\"],[0.1,\"#c51b7d\"],[0.2,\"#de77ae\"],[0.3,\"#f1b6da\"],[0.4,\"#fde0ef\"],[0.5,\"#f7f7f7\"],[0.6,\"#e6f5d0\"],[0.7,\"#b8e186\"],[0.8,\"#7fbc41\"],[0.9,\"#4d9221\"],[1,\"#276419\"]],\"sequential\":[[0.0,\"#0d0887\"],[0.1111111111111111,\"#46039f\"],[0.2222222222222222,\"#7201a8\"],[0.3333333333333333,\"#9c179e\"],[0.4444444444444444,\"#bd3786\"],[0.5555555555555556,\"#d8576b\"],[0.6666666666666666,\"#ed7953\"],[0.7777777777777778,\"#fb9f3a\"],[0.8888888888888888,\"#fdca26\"],[1.0,\"#f0f921\"]],\"sequentialminus\":[[0.0,\"#0d0887\"],[0.1111111111111111,\"#46039f\"],[0.2222222222222222,\"#7201a8\"],[0.3333333333333333,\"#9c179e\"],[0.4444444444444444,\"#bd3786\"],[0.5555555555555556,\"#d8576b\"],[0.6666666666666666,\"#ed7953\"],[0.7777777777777778,\"#fb9f3a\"],[0.8888888888888888,\"#fdca26\"],[1.0,\"#f0f921\"]]},\"colorway\":[\"#636efa\",\"#EF553B\",\"#00cc96\",\"#ab63fa\",\"#FFA15A\",\"#19d3f3\",\"#FF6692\",\"#B6E880\",\"#FF97FF\",\"#FECB52\"],\"font\":{\"color\":\"#2a3f5f\"},\"geo\":{\"bgcolor\":\"white\",\"lakecolor\":\"white\",\"landcolor\":\"#E5ECF6\",\"showlakes\":true,\"showland\":true,\"subunitcolor\":\"white\"},\"hoverlabel\":{\"align\":\"left\"},\"hovermode\":\"closest\",\"mapbox\":{\"style\":\"light\"},\"paper_bgcolor\":\"white\",\"plot_bgcolor\":\"#E5ECF6\",\"polar\":{\"angularaxis\":{\"gridcolor\":\"white\",\"linecolor\":\"white\",\"ticks\":\"\"},\"bgcolor\":\"#E5ECF6\",\"radialaxis\":{\"gridcolor\":\"white\",\"linecolor\":\"white\",\"ticks\":\"\"}},\"scene\":{\"xaxis\":{\"backgroundcolor\":\"#E5ECF6\",\"gridcolor\":\"white\",\"gridwidth\":2,\"linecolor\":\"white\",\"showbackground\":true,\"ticks\":\"\",\"zerolinecolor\":\"white\"},\"yaxis\":{\"backgroundcolor\":\"#E5ECF6\",\"gridcolor\":\"white\",\"gridwidth\":2,\"linecolor\":\"white\",\"showbackground\":true,\"ticks\":\"\",\"zerolinecolor\":\"white\"},\"zaxis\":{\"backgroundcolor\":\"#E5ECF6\",\"gridcolor\":\"white\",\"gridwidth\":2,\"linecolor\":\"white\",\"showbackground\":true,\"ticks\":\"\",\"zerolinecolor\":\"white\"}},\"shapedefaults\":{\"line\":{\"color\":\"#2a3f5f\"}},\"ternary\":{\"aaxis\":{\"gridcolor\":\"white\",\"linecolor\":\"white\",\"ticks\":\"\"},\"baxis\":{\"gridcolor\":\"white\",\"linecolor\":\"white\",\"ticks\":\"\"},\"bgcolor\":\"#E5ECF6\",\"caxis\":{\"gridcolor\":\"white\",\"linecolor\":\"white\",\"ticks\":\"\"}},\"title\":{\"x\":0.05},\"xaxis\":{\"automargin\":true,\"gridcolor\":\"white\",\"linecolor\":\"white\",\"ticks\":\"\",\"title\":{\"standoff\":15},\"zerolinecolor\":\"white\",\"zerolinewidth\":2},\"yaxis\":{\"automargin\":true,\"gridcolor\":\"white\",\"linecolor\":\"white\",\"ticks\":\"\",\"title\":{\"standoff\":15},\"zerolinecolor\":\"white\",\"zerolinewidth\":2}}},\"title\":{\"text\":\"Instance 1 Problem 3 Gantt Chart\"},\"xaxis\":{\"anchor\":\"y\",\"domain\":[0.0,1.0],\"tickformat\":\"%H:%M\",\"type\":\"date\"},\"yaxis\":{\"anchor\":\"x\",\"categoryarray\":[\"19\",\"18\",\"17\",\"16\",\"15\",\"14\",\"13\",\"12\",\"11\",\"10\",\"9\",\"8\",\"7\",\"6\",\"5\",\"4\",\"3\",\"2\",\"1\"],\"categoryorder\":\"array\",\"domain\":[0.0,1.0],\"title\":{\"text\":\"Machine_ID\"}}},                        {\"responsive\": true}                    ).then(function(){\n",
       "                            \n",
       "var gd = document.getElementById('c00c292b-ed36-46c7-899a-a4b66df8e171');\n",
       "var x = new MutationObserver(function (mutations, observer) {{\n",
       "        var display = window.getComputedStyle(gd).display;\n",
       "        if (!display || display === 'none') {{\n",
       "            console.log([gd, 'removed!']);\n",
       "            Plotly.purge(gd);\n",
       "            observer.disconnect();\n",
       "        }}\n",
       "}});\n",
       "\n",
       "// Listen for the removal of the full notebook cells\n",
       "var notebookContainer = gd.closest('#notebook-container');\n",
       "if (notebookContainer) {{\n",
       "    x.observe(notebookContainer, {childList: true});\n",
       "}}\n",
       "\n",
       "// Listen for the clearing of the current output cell\n",
       "var outputEl = gd.closest('.output');\n",
       "if (outputEl) {{\n",
       "    x.observe(outputEl, {childList: true});\n",
       "}}\n",
       "\n",
       "                        })                };                });            </script>        </div>"
      ]
     },
     "metadata": {},
     "output_type": "display_data"
    }
   ],
   "source": [
    "gantt_plot_2_3(x_opt, P, y_opt, 3)"
   ]
  },
  {
   "cell_type": "code",
   "execution_count": 37,
   "metadata": {},
   "outputs": [
    {
     "name": "stdout",
     "output_type": "stream",
     "text": [
      "Absolute_Error_Tardy = 0.0\n",
      "Percentage_Error_Tardy = 0\n",
      "Absolute_Error_Makespan = -8.391002737084818e-08\n",
      "Percentage_Error_Makespan = -5.724250892891545e-09\n"
     ]
    }
   ],
   "source": [
    "#optimality_gap for huristic1_1_2\n",
    "AbsoluteErrorTardy = Q3_delay.objVal - tardyamount0\n",
    "if(Q3_delay.objVal == 0):\n",
    "    PercentageErrorTardy = 0\n",
    "else:\n",
    "    PercentageErrorTardy = (Q3_delay.objVal - tardyamount0)/float(Q3_delay.objVal)\n",
    "    \n",
    "AbsoluteErrorMakespan = Q3_makespan.objVal - makespan0\n",
    "PercentageErrorMakespan = (Q3_makespan.objVal - makespan0)/float(Q3_makespan.objVal)\n",
    "print('Absolute_Error_Tardy =', AbsoluteErrorTardy)\n",
    "print('Percentage_Error_Tardy =', PercentageErrorTardy)\n",
    "print('Absolute_Error_Makespan =', AbsoluteErrorMakespan)\n",
    "print('Percentage_Error_Makespan =', PercentageErrorMakespan)"
   ]
  },
  {
   "cell_type": "code",
   "execution_count": 38,
   "metadata": {},
   "outputs": [
    {
     "name": "stdout",
     "output_type": "stream",
     "text": [
      "Absolute_Error_Tardy = 0.0\n",
      "Percentage_Error_Tardy = 0\n",
      "Absolute_Error_Makespan = -8.391002737084818e-08\n",
      "Percentage_Error_Makespan = -5.724250892891545e-09\n"
     ]
    }
   ],
   "source": [
    "#optimality_gap for huristic_paper\n",
    "AbsoluteErrorTardy = Q3_delay.objVal - tardyamount\n",
    "if(Q3_delay.objVal == 0):\n",
    "    PercentageErrorTardy = 0\n",
    "else:\n",
    "    PercentageErrorTardy = (Q3_delay.objVal - tardyamount)/float(Q3_delay.objVal)\n",
    "    \n",
    "AbsoluteErrorMakespan = Q3_makespan.objVal - makespan\n",
    "PercentageErrorMakespan = (Q3_makespan.objVal - makespan)/float(Q3_makespan.objVal)\n",
    "print('Absolute_Error_Tardy =', AbsoluteErrorTardy)\n",
    "print('Percentage_Error_Tardy =', PercentageErrorTardy)\n",
    "print('Absolute_Error_Makespan =', AbsoluteErrorMakespan)\n",
    "print('Percentage_Error_Makespan =', PercentageErrorMakespan)"
   ]
  }
 ],
 "metadata": {
  "kernelspec": {
   "display_name": "Python 3",
   "language": "python",
   "name": "python3"
  },
  "language_info": {
   "codemirror_mode": {
    "name": "ipython",
    "version": 3
   },
   "file_extension": ".py",
   "mimetype": "text/x-python",
   "name": "python",
   "nbconvert_exporter": "python",
   "pygments_lexer": "ipython3",
   "version": "3.8.5"
  }
 },
 "nbformat": 4,
 "nbformat_minor": 4
}
