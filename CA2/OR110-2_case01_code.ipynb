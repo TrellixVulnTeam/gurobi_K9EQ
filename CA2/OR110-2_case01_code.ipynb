{
 "cells": [
  {
   "cell_type": "markdown",
   "metadata": {},
   "source": [
    "# OR case 1"
   ]
  },
  {
   "cell_type": "code",
   "execution_count": 25,
   "metadata": {},
   "outputs": [],
   "source": [
    "import pandas as pd\n",
    "import openpyxl\n",
    "from gurobipy import *\n",
    "import matplotlib.pyplot as plt\n",
    "import numpy as np"
   ]
  },
  {
   "cell_type": "markdown",
   "metadata": {},
   "source": [
    "### 3."
   ]
  },
  {
   "cell_type": "markdown",
   "metadata": {},
   "source": [
    "### Constant Data"
   ]
  },
  {
   "cell_type": "code",
   "execution_count": 26,
   "metadata": {},
   "outputs": [],
   "source": [
    "df = pd.read_csv(\"data/instance 2.csv\")"
   ]
  },
  {
   "cell_type": "code",
   "execution_count": 27,
   "metadata": {
    "scrolled": true
   },
   "outputs": [],
   "source": [
    "max_amount = 0\n",
    "for index, row in df.iterrows():\n",
    "    x1 = row['Stage-1 Machines'].split(',')\n",
    "    for element in x1:\n",
    "        num = int(element)\n",
    "        if(num > max_amount):\n",
    "            max_amount = num\n",
    "            \n",
    "    temp = row['Stage-2 Machines']\n",
    "    if(pd.isna(temp) == False):\n",
    "        x2 = temp.split(',')\n",
    "        for element in x2:\n",
    "            num = int(element)\n",
    "            if(num > max_amount):\n",
    "                max_amount = num\n"
   ]
  },
  {
   "cell_type": "code",
   "execution_count": 28,
   "metadata": {},
   "outputs": [],
   "source": [
    "# max_amount\n",
    "M = max_amount"
   ]
  },
  {
   "cell_type": "code",
   "execution_count": 29,
   "metadata": {},
   "outputs": [],
   "source": [
    "# instance i 中 job 的總數量\n",
    "I = len(df) # order num\n",
    "S = 2 # stage num\n",
    "\n",
    "\n",
    "orders = range(0, I)\n",
    "machines = range(0, M)\n",
    "stages = range(0, S)\n"
   ]
  },
  {
   "cell_type": "code",
   "execution_count": 30,
   "metadata": {},
   "outputs": [],
   "source": [
    "P = []\n",
    "for index, row in df.iterrows():\n",
    "    P.append([])\n",
    "    P[index].append(row['Stage-1 Processing Time'])\n",
    "    P[index].append(row['Stage-2 Processing Time'])"
   ]
  },
  {
   "cell_type": "code",
   "execution_count": 31,
   "metadata": {},
   "outputs": [
    {
     "data": {
      "text/plain": [
       "[[2.7, 1.5],\n",
       " [1.6, 2.3],\n",
       " [1.0, 2.7],\n",
       " [2.8, 0.8],\n",
       " [0.8, 1.9],\n",
       " [2.7, 0.0],\n",
       " [1.4, 1.5],\n",
       " [2.2, 0.0],\n",
       " [0.8, 1.8],\n",
       " [2.2, 2.2],\n",
       " [2.5, 1.5]]"
      ]
     },
     "execution_count": 31,
     "metadata": {},
     "output_type": "execute_result"
    }
   ],
   "source": [
    "P"
   ]
  },
  {
   "cell_type": "code",
   "execution_count": 32,
   "metadata": {},
   "outputs": [],
   "source": [
    "# C_ijm -> init 3 dim 都是 false 的東西 I * 2 * M\n",
    "C =  []\n",
    "for i in range(I):\n",
    "    C.append([])\n",
    "    C[i].append([0 for i in range(M)])\n",
    "    C[i].append([0 for i in range(M)])"
   ]
  },
  {
   "cell_type": "code",
   "execution_count": 33,
   "metadata": {},
   "outputs": [],
   "source": [
    "for index, row in df.iterrows():\n",
    "    x1 = row['Stage-1 Machines'].split(',')\n",
    "    for element in x1:\n",
    "        num = int(element)\n",
    "        C[index][0][num-1] = 1\n",
    "\n",
    "        temp = row['Stage-2 Machines']\n",
    "        if(pd.isna(temp) == False):\n",
    "            x2 = temp.split(',')\n",
    "            for element in x2:\n",
    "                num = int(element)\n",
    "                C[index][1][num-1] = 1\n"
   ]
  },
  {
   "cell_type": "code",
   "execution_count": 34,
   "metadata": {},
   "outputs": [
    {
     "data": {
      "text/plain": [
       "[1, 1, 1, 1, 1]"
      ]
     },
     "execution_count": 34,
     "metadata": {},
     "output_type": "execute_result"
    }
   ],
   "source": [
    "C[0][0]"
   ]
  },
  {
   "cell_type": "code",
   "execution_count": 35,
   "metadata": {},
   "outputs": [
    {
     "data": {
      "text/plain": [
       "[10, 5, 5, 5, 5, 5, 5, 10, 10, 10, 10]"
      ]
     },
     "execution_count": 35,
     "metadata": {},
     "output_type": "execute_result"
    }
   ],
   "source": [
    "D = []\n",
    "for index, row in df.iterrows():\n",
    "    D.append(row['Due Time'])\n",
    "D"
   ]
  },
  {
   "cell_type": "markdown",
   "metadata": {},
   "source": [
    "### Decision variable – Delay"
   ]
  },
  {
   "cell_type": "code",
   "execution_count": 36,
   "metadata": {},
   "outputs": [],
   "source": [
    "Q3_delay = Model('Q3-delay')\n",
    "\n",
    "# x_is is the finish time of order i at stage s\n",
    "x = {}\n",
    "for i in orders:\n",
    "    x[i] = {}\n",
    "    for s in stages:\n",
    "        x[i][s] = Q3_delay.addVar(lb = 0, vtype = GRB.CONTINUOUS, name = \"x_\" + str(i) + \",\" + str(s))\n",
    "\n",
    "# y_ism = 1 if order i process on machine m  at stage s otherwise 0\n",
    "y = {}\n",
    "for i in orders:\n",
    "    y[i] = {}\n",
    "    for s in stages:\n",
    "        y[i][s] = {}\n",
    "        for m in machines:\n",
    "            y[i][s][m] = Q3_delay.addVar(lb = 0, vtype = GRB.BINARY, name = \"y_\" + str(i) + \",\" + str(s) + \",\" + str(m))\n",
    "        \n",
    "# z_isjt = 1 if order i's stage s process before order j's stage t and they both process on the same machine otherwise 0\n",
    "z = {}\n",
    "for i in orders:\n",
    "    z[i] = {}\n",
    "    for s in stages:\n",
    "        z[i][s] = {}\n",
    "        for j in orders:\n",
    "            z[i][s][j] = {}\n",
    "            for t in stages:\n",
    "                z[i][s][j][t] = Q3_delay.addVar(lb = 0, vtype = GRB.BINARY, name = \"z_\" + str(i) + \",\" + str(s) + \",\" + str(j) + \",\" + str(t))\n",
    "        \n",
    "# l_i = 1 if order i is late otherwise 0\n",
    "l = {}\n",
    "for i in orders:\n",
    "    l[i] = Q3_delay.addVar(lb = 0, vtype = GRB.BINARY, name = \"l_\" + str(i))\n",
    "\n",
    "Q3_delay.update()"
   ]
  },
  {
   "cell_type": "code",
   "execution_count": 37,
   "metadata": {},
   "outputs": [
    {
     "data": {
      "text/plain": [
       "{0: <gurobi.Var l_0>,\n",
       " 1: <gurobi.Var l_1>,\n",
       " 2: <gurobi.Var l_2>,\n",
       " 3: <gurobi.Var l_3>,\n",
       " 4: <gurobi.Var l_4>,\n",
       " 5: <gurobi.Var l_5>,\n",
       " 6: <gurobi.Var l_6>,\n",
       " 7: <gurobi.Var l_7>,\n",
       " 8: <gurobi.Var l_8>,\n",
       " 9: <gurobi.Var l_9>,\n",
       " 10: <gurobi.Var l_10>}"
      ]
     },
     "execution_count": 37,
     "metadata": {},
     "output_type": "execute_result"
    }
   ],
   "source": [
    "l"
   ]
  },
  {
   "cell_type": "markdown",
   "metadata": {},
   "source": [
    "### Setting the objective function"
   ]
  },
  {
   "cell_type": "code",
   "execution_count": 38,
   "metadata": {},
   "outputs": [],
   "source": [
    "Q3_delay.setObjective(quicksum(l[i] for i in orders), GRB.MINIMIZE)"
   ]
  },
  {
   "cell_type": "markdown",
   "metadata": {},
   "source": [
    "### Add constraints"
   ]
  },
  {
   "cell_type": "code",
   "execution_count": 39,
   "metadata": {},
   "outputs": [],
   "source": [
    "Q3_delay.addConstrs((x[j][t] + P[i][s] - x[i][s] <= (quicksum(P[i][s] for i in orders for s in stages)+P[i][s]) * (z[i][s][j][t] + 2-y[i][s][m]-y[j][t][m]) for i in orders for j in range(i+1, I) for m in machines for s in stages for t in stages), 'constraints for x_is, z_isjt')\n",
    "Q3_delay.addConstrs((x[i][s] + P[j][t] - x[j][t] <= (quicksum(P[i][s] for i in orders for s in stages)+P[j][t]) * (1-z[i][s][j][t] + 2-y[i][s][m]-y[j][t][m]) for i in orders for j in range(i+1, I) for m in machines for s in stages for t in stages), 'constraints for x_is, z_isjt')\n",
    "Q3_delay.addConstrs((x[i][1] <= D[i] + quicksum(P[i][s] for s in stages for i in orders) * l[i] for i in orders), 'constraints for l_i')\n",
    "Q3_delay.addConstrs((quicksum(y[i][s][m] for m in machines) == 1 for i in orders for s in stages), 'allocate orders to machines')\n",
    "Q3_delay.addConstrs((x[i][s] >= P[i][s] for i in orders for s in stages), 'minimum x_i')\n",
    "Q3_delay.addConstrs((x[i][1] >= x[i][0] + P[i][1] for i in orders), 'stage 2 should start after stage 1 is finished')\n",
    "\n",
    "\n",
    "Q3_delay.addConstrs((y[i][s][m] <= (1 if C[i][s][m] == 0 else 1) for i in orders for s in stages for m in machines), 'constraints machines')\n",
    "Q3_delay.update()"
   ]
  },
  {
   "cell_type": "code",
   "execution_count": 40,
   "metadata": {
    "jupyter": {
     "outputs_hidden": true
    }
   },
   "outputs": [
    {
     "name": "stdout",
     "output_type": "stream",
     "text": [
      "Gurobi Optimizer version 9.5.1 build v9.5.1rc2 (win64)\n",
      "Thread count: 2 physical cores, 4 logical processors, using up to 4 threads\n",
      "Optimize a model with 2376 rows, 627 columns and 11286 nonzeros\n",
      "Model fingerprint: 0xa01381f0\n",
      "Variable types: 22 continuous, 605 integer (605 binary)\n",
      "Coefficient statistics:\n",
      "  Matrix range     [1e+00, 4e+01]\n",
      "  Objective range  [1e+00, 1e+00]\n",
      "  Bounds range     [1e+00, 1e+00]\n",
      "  RHS range        [8e-01, 1e+02]\n",
      "Found heuristic solution: objective 4.0000000\n",
      "Presolve removed 132 rows and 264 columns\n",
      "Presolve time: 0.05s\n",
      "Presolved: 2244 rows, 363 columns, 11179 nonzeros\n",
      "Variable types: 22 continuous, 341 integer (341 binary)\n",
      "\n",
      "Root relaxation: objective 0.000000e+00, 192 iterations, 0.01 seconds (0.01 work units)\n",
      "\n",
      "    Nodes    |    Current Node    |     Objective Bounds      |     Work\n",
      " Expl Unexpl |  Obj  Depth IntInf | Incumbent    BestBd   Gap | It/Node Time\n",
      "\n",
      "H    0     0                       0.0000000    0.00000  0.00%     -    0s\n",
      "     0     0    0.00000    0  129    0.00000    0.00000  0.00%     -    0s\n",
      "\n",
      "Explored 1 nodes (192 simplex iterations) in 0.14 seconds (0.03 work units)\n",
      "Thread count was 4 (of 4 available processors)\n",
      "\n",
      "Solution count 2: 0 4 \n",
      "\n",
      "Optimal solution found (tolerance 1.00e-04)\n",
      "Best objective 0.000000000000e+00, best bound 0.000000000000e+00, gap 0.0000%\n"
     ]
    }
   ],
   "source": [
    "Q3_delay.optimize()"
   ]
  },
  {
   "cell_type": "code",
   "execution_count": 41,
   "metadata": {},
   "outputs": [
    {
     "name": "stdout",
     "output_type": "stream",
     "text": [
      "objective value = 0.0\n"
     ]
    }
   ],
   "source": [
    "a = Q3_delay.objVal\n",
    "print(\"objective value =\", a)"
   ]
  },
  {
   "cell_type": "markdown",
   "metadata": {},
   "source": [
    "### Decision variable – makespan"
   ]
  },
  {
   "cell_type": "code",
   "execution_count": 42,
   "metadata": {},
   "outputs": [],
   "source": [
    "Q3_makespan = Model('Q3-makespan')\n",
    "\n",
    "# x_is is the finish time of order i at stage s\n",
    "x = {}\n",
    "for i in orders:\n",
    "    x[i] = {}\n",
    "    for s in stages:\n",
    "        x[i][s] = Q3_makespan.addVar(lb = 0, vtype = GRB.CONTINUOUS, name = \"x_\" + str(i) + \",\" + str(s))\n",
    "\n",
    "# y_ism = 1 if order i process on machine m  at stage s otherwise 0\n",
    "y = {}\n",
    "for i in orders:\n",
    "    y[i] = {}\n",
    "    for s in stages:\n",
    "        y[i][s] = {}\n",
    "        for m in machines:\n",
    "            y[i][s][m] = Q3_makespan.addVar(lb = 0, vtype = GRB.BINARY, name = \"y_\" + str(i) + \",\" + str(s) + \",\" + str(m))\n",
    "        \n",
    "# z_isjt = 1 if order i's stage s process before order j's stage t and they both process on the same machine otherwise 0\n",
    "z = {}\n",
    "for i in orders:\n",
    "    z[i] = {}\n",
    "    for s in stages:\n",
    "        z[i][s] = {}\n",
    "        for j in orders:\n",
    "            z[i][s][j] = {}\n",
    "            for t in stages:\n",
    "                z[i][s][j][t] = Q3_makespan.addVar(lb = 0, vtype = GRB.BINARY, name = \"z_\" + str(i) + \",\" + str(s) + \",\" + str(j) + \",\" + str(t))\n",
    "        \n",
    "# l_i = 1 if order i is late otherwise 0\n",
    "l = {}\n",
    "for i in orders:\n",
    "    l[i] = Q3_makespan.addVar(lb = 0, vtype = GRB.BINARY, name = \"l_\" + str(i))\n",
    "\n",
    "# w is the makespan of the solution\n",
    "w = Q3_makespan.addVar(lb = 0, vtype = GRB.CONTINUOUS, name = \"w\")\n",
    "\n",
    "Q3_makespan.update()"
   ]
  },
  {
   "cell_type": "markdown",
   "metadata": {},
   "source": [
    "### Setting the objective function"
   ]
  },
  {
   "cell_type": "code",
   "execution_count": 43,
   "metadata": {},
   "outputs": [],
   "source": [
    "Q3_makespan.setObjective(w, GRB.MINIMIZE)"
   ]
  },
  {
   "cell_type": "markdown",
   "metadata": {},
   "source": [
    "### Add constraints"
   ]
  },
  {
   "cell_type": "code",
   "execution_count": 44,
   "metadata": {},
   "outputs": [],
   "source": [
    "Q3_makespan.addConstrs((x[j][t] + P[i][s] - x[i][s] <= (quicksum(P[i][s] for i in orders for s in stages)+P[i][s]) * (z[i][s][j][t] + 2-y[i][s][m]-y[j][t][m]) for i in orders for j in range(i+1, I) for m in machines for s in stages for t in stages), 'constraints for x_is, z_isjt')\n",
    "Q3_makespan.addConstrs((x[i][s] + P[j][t] - x[j][t] <= (quicksum(P[i][s] for i in orders for s in stages)+P[j][t]) * (1-z[i][s][j][t] + 2-y[i][s][m]-y[j][t][m]) for i in orders for j in range(i+1, I) for m in machines for s in stages for t in stages), 'constraints for x_is, z_isjt')\n",
    "Q3_makespan.addConstrs((x[i][1] <= D[i] + quicksum(P[i][s] for s in stages for i in orders) * l[i] for i in orders), 'constraints for l_i')\n",
    "Q3_makespan.addConstrs((quicksum(y[i][s][m] for m in machines) == 1 for i in orders for s in stages), 'allocate orders to machines')\n",
    "Q3_makespan.addConstrs((x[i][s] >= P[i][s] for i in orders for s in stages), 'minimum x_i')\n",
    "Q3_makespan.addConstrs((x[i][1] >= x[i][0] + P[i][1] for i in orders), 'stage 2 should start after stage 1 is finished')\n",
    "# C_ism\n",
    "Q3_makespan.addConstrs((y[i][s][m] <= (1 if C[i][s][m] == 0 else 1) for i in orders for s in stages for m in machines), 'constraints for cook machines')\n",
    "Q3_makespan.addConstrs((w >= x[i][1] for i in orders), 'makespan')\n",
    "Q3_makespan.addConstr((quicksum(l[i] for i in orders) == a), 'delay num')\n",
    "# Q3_makespan.addConstr((w == 6.1), 'delay num')\n",
    "\n",
    "Q3_makespan.update()"
   ]
  },
  {
   "cell_type": "code",
   "execution_count": 45,
   "metadata": {
    "jupyter": {
     "outputs_hidden": true
    }
   },
   "outputs": [
    {
     "name": "stdout",
     "output_type": "stream",
     "text": [
      "Gurobi Optimizer version 9.5.1 build v9.5.1rc2 (win64)\n",
      "Thread count: 2 physical cores, 4 logical processors, using up to 4 threads\n",
      "Optimize a model with 2388 rows, 628 columns and 11319 nonzeros\n",
      "Model fingerprint: 0x6e0902c4\n",
      "Variable types: 23 continuous, 605 integer (605 binary)\n",
      "Coefficient statistics:\n",
      "  Matrix range     [1e+00, 4e+01]\n",
      "  Objective range  [1e+00, 1e+00]\n",
      "  Bounds range     [1e+00, 1e+00]\n",
      "  RHS range        [8e-01, 1e+02]\n",
      "Presolve removed 214 rows and 282 columns\n",
      "Presolve time: 0.01s\n",
      "Presolved: 2174 rows, 346 columns, 10804 nonzeros\n",
      "Variable types: 23 continuous, 323 integer (323 binary)\n",
      "\n",
      "Root relaxation: objective 4.400000e+00, 148 iterations, 0.01 seconds (0.00 work units)\n",
      "\n",
      "    Nodes    |    Current Node    |     Objective Bounds      |     Work\n",
      " Expl Unexpl |  Obj  Depth IntInf | Incumbent    BestBd   Gap | It/Node Time\n",
      "\n",
      "     0     0    4.40000    0   14          -    4.40000      -     -    0s\n",
      "     0     0    4.40000    0   28          -    4.40000      -     -    0s\n",
      "H    0     0                       9.6000000    4.40000  54.2%     -    0s\n",
      "     0     0    4.40000    0   25    9.60000    4.40000  54.2%     -    0s\n",
      "     0     0    4.40000    0   17    9.60000    4.40000  54.2%     -    0s\n",
      "H    0     0                       9.5000000    4.40000  53.7%     -    0s\n",
      "H    0     0                       8.9000000    4.40000  50.6%     -    0s\n",
      "     0     0    4.40000    0   25    8.90000    4.40000  50.6%     -    0s\n",
      "     0     0    4.40000    0   15    8.90000    4.40000  50.6%     -    0s\n",
      "H    0     0                       8.7000000    4.40000  49.4%     -    0s\n",
      "     0     0    4.40000    0   19    8.70000    4.40000  49.4%     -    0s\n",
      "     0     0    4.40000    0   17    8.70000    4.40000  49.4%     -    0s\n",
      "     0     0    4.40000    0   23    8.70000    4.40000  49.4%     -    0s\n",
      "     0     0    4.40000    0   19    8.70000    4.40000  49.4%     -    0s\n",
      "     0     0    4.40000    0   25    8.70000    4.40000  49.4%     -    0s\n",
      "     0     0    4.40000    0   15    8.70000    4.40000  49.4%     -    0s\n",
      "     0     0    4.40000    0   15    8.70000    4.40000  49.4%     -    0s\n",
      "     0     2    4.40000    0   15    8.70000    4.40000  49.4%     -    0s\n",
      "H   29    44                       8.6000000    4.40000  48.8%   9.8    0s\n",
      "*  509   309              37       8.5000000    4.40000  48.2%   4.5    0s\n",
      "*  644   382              53       8.3000000    4.40000  47.0%   4.5    1s\n",
      "H  759   342                       7.9000000    4.40000  44.3%   4.4    1s\n",
      "*  953   370              24       7.8000000    4.40000  43.6%  10.6    2s\n",
      "H 1043   350                       7.6000000    4.40000  42.1%  10.2    2s\n",
      "  6604   374    7.00000   25   11    7.60000    7.00000  7.89%   8.8    5s\n",
      " 15271   145 infeasible   22         7.60000    7.10000  6.58%  10.1   10s\n",
      "*16764     5              29       7.5000000    7.50000  0.00%   9.8   10s\n",
      "\n",
      "Cutting planes:\n",
      "  Learned: 4\n",
      "  Gomory: 2\n",
      "  Cover: 1\n",
      "  Implied bound: 4\n",
      "  MIR: 4\n",
      "  StrongCG: 3\n",
      "  Flow cover: 10\n",
      "  Relax-and-lift: 4\n",
      "\n",
      "Explored 16993 nodes (167803 simplex iterations) in 10.57 seconds (6.35 work units)\n",
      "Thread count was 4 (of 4 available processors)\n",
      "\n",
      "Solution count 10: 7.5 7.6 7.8 ... 8.9\n",
      "\n",
      "Optimal solution found (tolerance 1.00e-04)\n",
      "Best objective 7.500000000000e+00, best bound 7.500000000000e+00, gap 0.0000%\n"
     ]
    }
   ],
   "source": [
    "Q3_makespan.optimize()"
   ]
  },
  {
   "cell_type": "code",
   "execution_count": 46,
   "metadata": {},
   "outputs": [
    {
     "name": "stdout",
     "output_type": "stream",
     "text": [
      "objective value = 7.500000000000009\n"
     ]
    }
   ],
   "source": [
    "print(\"objective value =\", Q3_makespan.objVal)"
   ]
  },
  {
   "cell_type": "markdown",
   "metadata": {},
   "source": [
    "## Results"
   ]
  },
  {
   "cell_type": "code",
   "execution_count": 47,
   "metadata": {},
   "outputs": [],
   "source": [
    "x_opt = {}\n",
    "for i in orders:\n",
    "    x_opt[i] = {}\n",
    "    for s in stages:\n",
    "        x_opt[i][s] = {}\n",
    "\n",
    "y_opt = {}\n",
    "for i in orders:\n",
    "    y_opt[i] = {}\n",
    "    for s in stages:\n",
    "        y_opt[i][s] = {}\n",
    "        for m in machines:\n",
    "            y_opt[i][s][m] = {}\n",
    "\n",
    "for var in Q3_makespan.getVars():\n",
    "    index = [i for i in var.varName[2:].split(',')]\n",
    "    if var.varName[0] == 'x':\n",
    "        x_opt[int(index[0])][int(index[1])] = var.x\n",
    "    elif var.varName[0] == 'y':\n",
    "        y_opt[int(index[0])][int(index[1])][int(index[2])] = var.x"
   ]
  },
  {
   "cell_type": "markdown",
   "metadata": {},
   "source": [
    "## Plot Gantt Charts"
   ]
  },
  {
   "cell_type": "code",
   "execution_count": 48,
   "metadata": {},
   "outputs": [
    {
     "ename": "NameError",
     "evalue": "name 'gantt_plot_2_3' is not defined",
     "output_type": "error",
     "traceback": [
      "\u001b[1;31m---------------------------------------------------------------------------\u001b[0m",
      "\u001b[1;31mNameError\u001b[0m                                 Traceback (most recent call last)",
      "\u001b[1;32m<ipython-input-48-3ad2b8255ed9>\u001b[0m in \u001b[0;36m<module>\u001b[1;34m\u001b[0m\n\u001b[1;32m----> 1\u001b[1;33m \u001b[0mgantt_plot_2_3\u001b[0m\u001b[1;33m(\u001b[0m\u001b[0mx_opt\u001b[0m\u001b[1;33m,\u001b[0m \u001b[0mP\u001b[0m\u001b[1;33m,\u001b[0m \u001b[0my_opt\u001b[0m\u001b[1;33m,\u001b[0m \u001b[0minstance_no\u001b[0m\u001b[1;33m,\u001b[0m \u001b[1;36m3\u001b[0m\u001b[1;33m)\u001b[0m\u001b[1;33m\u001b[0m\u001b[1;33m\u001b[0m\u001b[0m\n\u001b[0m",
      "\u001b[1;31mNameError\u001b[0m: name 'gantt_plot_2_3' is not defined"
     ]
    }
   ],
   "source": [
    "gantt_plot_2_3(x_opt, P, y_opt, instance_no, 3)"
   ]
  }
 ],
 "metadata": {
  "kernelspec": {
   "display_name": "Python 3",
   "language": "python",
   "name": "python3"
  }
 },
 "nbformat": 4,
 "nbformat_minor": 4
}
