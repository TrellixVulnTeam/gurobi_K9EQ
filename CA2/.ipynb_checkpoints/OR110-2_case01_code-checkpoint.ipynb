{
 "cells": [
  {
   "cell_type": "markdown",
   "metadata": {},
   "source": [
    "# OR case 1"
   ]
  },
  {
   "cell_type": "code",
   "execution_count": 154,
   "metadata": {},
   "outputs": [],
   "source": [
    "import pandas as pd\n",
    "import openpyxl\n",
    "from gurobipy import *\n",
    "import matplotlib.pyplot as plt\n",
    "import numpy as np"
   ]
  },
  {
   "cell_type": "markdown",
   "metadata": {},
   "source": [
    "### 3."
   ]
  },
  {
   "cell_type": "markdown",
   "metadata": {},
   "source": [
    "### Constant Data"
   ]
  },
  {
   "cell_type": "code",
   "execution_count": 155,
   "metadata": {},
   "outputs": [],
   "source": [
    "df = pd.read_csv(\"data/instance 3.csv\")"
   ]
  },
  {
   "cell_type": "code",
   "execution_count": 156,
   "metadata": {
    "scrolled": false
   },
   "outputs": [],
   "source": [
    "# df['Stage-1 Machines']\n",
    "# df['Stage-2 Machines']"
   ]
  },
  {
   "cell_type": "code",
   "execution_count": 157,
   "metadata": {
    "scrolled": true
   },
   "outputs": [],
   "source": [
    "max_amount = 0\n",
    "for index, row in df.iterrows():\n",
    "    x1 = row['Stage-1 Machines'].split(',')\n",
    "    for element in x1:\n",
    "        num = int(element)\n",
    "        if(num > max_amount):\n",
    "            max_amount = num\n",
    "            \n",
    "    temp = row['Stage-2 Machines']\n",
    "    if(pd.isna(temp) == False):\n",
    "        x2 = temp.split(',')\n",
    "        for element in x2:\n",
    "            num = int(element)\n",
    "            if(num > max_amount):\n",
    "                max_amount = num\n"
   ]
  },
  {
   "cell_type": "code",
   "execution_count": 158,
   "metadata": {},
   "outputs": [],
   "source": [
    "max_amount\n",
    "M = max_amount"
   ]
  },
  {
   "cell_type": "code",
   "execution_count": 159,
   "metadata": {},
   "outputs": [],
   "source": [
    "# instance i 中 job 的總數量\n",
    "I = len(df) # order num\n",
    "S = 2 # stage num\n",
    "\n",
    "\n",
    "orders = range(0, I)\n",
    "machines = range(0, max_amount)\n",
    "stages = range(0, S)\n"
   ]
  },
  {
   "cell_type": "code",
   "execution_count": 160,
   "metadata": {},
   "outputs": [],
   "source": [
    "P = []\n",
    "for index, row in df.iterrows():\n",
    "    P.append([])\n",
    "    P[index].append(row['Stage-1 Processing Time'])\n",
    "    P[index].append(row['Stage-2 Processing Time'])"
   ]
  },
  {
   "cell_type": "code",
   "execution_count": 161,
   "metadata": {},
   "outputs": [
    {
     "data": {
      "text/plain": [
       "[[3.0, 1.5],\n",
       " [3.0, 2.0],\n",
       " [3.0, 3.4],\n",
       " [3.0, 0.6],\n",
       " [1.2, 2.5],\n",
       " [3.3, 0.0],\n",
       " [1.7, 1.5],\n",
       " [1.3, 0.0],\n",
       " [1.8, 2.2],\n",
       " [2.6, 1.3]]"
      ]
     },
     "execution_count": 161,
     "metadata": {},
     "output_type": "execute_result"
    }
   ],
   "source": [
    "P"
   ]
  },
  {
   "cell_type": "code",
   "execution_count": 162,
   "metadata": {},
   "outputs": [],
   "source": [
    "# C_ijm -> init 3 dim 都是 false 的東西 I * 2 * M\n",
    "C =  []\n",
    "for i in range(I):\n",
    "    C.append([])\n",
    "    C[i].append([0 for i in range(max_amount)])\n",
    "    C[i].append([0 for i in range(max_amount)])"
   ]
  },
  {
   "cell_type": "code",
   "execution_count": 163,
   "metadata": {},
   "outputs": [],
   "source": [
    "for index, row in df.iterrows():\n",
    "    x1 = row['Stage-1 Machines'].split(',')\n",
    "    for element in x1:\n",
    "        num = int(element)\n",
    "        C[index][0][num-1] = 1\n",
    "\n",
    "        temp = row['Stage-2 Machines']\n",
    "        if(pd.isna(temp) == False):\n",
    "            x2 = temp.split(',')\n",
    "            for element in x2:\n",
    "                num = int(element)\n",
    "                C[index][1][num-1] = 1\n"
   ]
  },
  {
   "cell_type": "code",
   "execution_count": 164,
   "metadata": {},
   "outputs": [
    {
     "data": {
      "text/plain": [
       "[[[0, 1, 1, 1, 1], [0, 1, 1, 1, 1]],\n",
       " [[0, 1, 1, 1, 1], [1, 1, 1, 1, 1]],\n",
       " [[1, 1, 1, 1, 1], [0, 1, 1, 1, 1]],\n",
       " [[0, 1, 1, 1, 1], [1, 1, 1, 1, 1]],\n",
       " [[1, 1, 1, 1, 1], [0, 1, 1, 1, 1]],\n",
       " [[1, 1, 1, 1, 1], [0, 0, 0, 0, 0]],\n",
       " [[0, 1, 1, 1, 1], [0, 1, 1, 1, 1]],\n",
       " [[0, 1, 1, 1, 1], [0, 0, 0, 0, 0]],\n",
       " [[0, 1, 1, 1, 1], [1, 1, 1, 1, 1]],\n",
       " [[0, 1, 1, 1, 1], [0, 1, 1, 1, 1]]]"
      ]
     },
     "execution_count": 164,
     "metadata": {},
     "output_type": "execute_result"
    }
   ],
   "source": [
    "C"
   ]
  },
  {
   "cell_type": "code",
   "execution_count": 165,
   "metadata": {},
   "outputs": [
    {
     "data": {
      "text/plain": [
       "[5, 5, 5, 5, 5, 5, 10, 10, 10, 10]"
      ]
     },
     "execution_count": 165,
     "metadata": {},
     "output_type": "execute_result"
    }
   ],
   "source": [
    "D = []\n",
    "for index, row in df.iterrows():\n",
    "    D.append(row['Due Time'])\n",
    "D"
   ]
  },
  {
   "cell_type": "markdown",
   "metadata": {},
   "source": [
    "### Decision variable – Delay"
   ]
  },
  {
   "cell_type": "code",
   "execution_count": 166,
   "metadata": {},
   "outputs": [],
   "source": [
    "Q3_delay = Model('Q3-delay')\n",
    "\n",
    "# x_is is the finish time of order i at stage s\n",
    "x = {}\n",
    "for i in orders:\n",
    "    x[i] = {}\n",
    "    for s in stages:\n",
    "        x[i][s] = Q3_delay.addVar(lb = 0, vtype = GRB.CONTINUOUS, name = \"x_\" + str(i) + \",\" + str(s))\n",
    "\n",
    "# y_ism = 1 if order i process on machine m  at stage s otherwise 0\n",
    "y = {}\n",
    "for i in orders:\n",
    "    y[i] = {}\n",
    "    for s in stages:\n",
    "        y[i][s] = {}\n",
    "        for m in machines:\n",
    "            y[i][s][m] = Q3_delay.addVar(lb = 0, vtype = GRB.BINARY, name = \"y_\" + str(i) + \",\" + str(s) + \",\" + str(m))\n",
    "        \n",
    "# z_isjt = 1 if order i's stage s process before order j's stage t and they both process on the same machine otherwise 0\n",
    "z = {}\n",
    "for i in orders:\n",
    "    z[i] = {}\n",
    "    for s in stages:\n",
    "        z[i][s] = {}\n",
    "        for j in orders:\n",
    "            z[i][s][j] = {}\n",
    "            for t in stages:\n",
    "                z[i][s][j][t] = Q3_delay.addVar(lb = 0, vtype = GRB.BINARY, name = \"z_\" + str(i) + \",\" + str(s) + \",\" + str(j) + \",\" + str(t))\n",
    "        \n",
    "# l_i = 1 if order i is late otherwise 0\n",
    "l = {}\n",
    "for i in orders:\n",
    "    l[i] = Q3_delay.addVar(lb = 0, vtype = GRB.BINARY, name = \"l_\" + str(i))\n",
    "\n",
    "Q3_delay.update()"
   ]
  },
  {
   "cell_type": "markdown",
   "metadata": {},
   "source": [
    "### Setting the objective function"
   ]
  },
  {
   "cell_type": "code",
   "execution_count": 167,
   "metadata": {},
   "outputs": [],
   "source": [
    "Q3_delay.setObjective(quicksum(l[i] for i in orders), GRB.MINIMIZE)"
   ]
  },
  {
   "cell_type": "markdown",
   "metadata": {},
   "source": [
    "### Add constraints"
   ]
  },
  {
   "cell_type": "code",
   "execution_count": null,
   "metadata": {},
   "outputs": [],
   "source": []
  },
  {
   "cell_type": "code",
   "execution_count": 168,
   "metadata": {},
   "outputs": [],
   "source": [
    "Q3_delay.addConstrs((x[j][t] + P[i][s] - x[i][s] <= (quicksum(P[i][s] for i in orders for s in stages)+P[i][s]) * (z[i][s][j][t] + 2-y[i][s][m]-y[j][t][m]) for i in orders for j in range(i+1, I) for m in machines for s in stages for t in stages), 'constraints for x_is, z_isjt')\n",
    "Q3_delay.addConstrs((x[i][s] + P[j][t] - x[j][t] <= (quicksum(P[i][s] for i in orders for s in stages)+P[j][t]) * (1-z[i][s][j][t] + 2-y[i][s][m]-y[j][t][m]) for i in orders for j in range(i+1, I) for m in machines for s in stages for t in stages), 'constraints for x_is, z_isjt')\n",
    "Q3_delay.addConstrs((x[i][1] <= D[i] + quicksum(P[i][s] for s in stages for i in orders) * l[i] for i in orders), 'constraints for l_i')\n",
    "Q3_delay.addConstrs((quicksum(y[i][s][m] for m in machines) == 1 for i in orders for s in stages), 'allocate orders to machines')\n",
    "Q3_delay.addConstrs((x[i][s] >= P[i][s] for i in orders for s in stages), 'minimum x_i')\n",
    "Q3_delay.addConstrs((x[i][1] >= x[i][0] + P[i][1] for i in orders), 'stage 2 should start after stage 1 is finished')\n",
    "\n",
    "# C[i][s][m]\n",
    "Q3_delay.addConstrs((y[i][s][m] <= C[i][s][m] for i in orders for s in stages for m in machines), 'constraints for cook machines')\n",
    "\n",
    "Q3_delay.update()"
   ]
  },
  {
   "cell_type": "code",
   "execution_count": 169,
   "metadata": {
    "jupyter": {
     "outputs_hidden": true
    }
   },
   "outputs": [
    {
     "name": "stdout",
     "output_type": "stream",
     "text": [
      "Gurobi Optimizer version 9.5.1 build v9.5.1rc2 (win64)\n",
      "Thread count: 2 physical cores, 4 logical processors, using up to 4 threads\n",
      "Optimize a model with 1960 rows, 530 columns and 9260 nonzeros\n",
      "Model fingerprint: 0xc1e73f2f\n",
      "Variable types: 20 continuous, 510 integer (510 binary)\n",
      "Coefficient statistics:\n",
      "  Matrix range     [1e+00, 4e+01]\n",
      "  Objective range  [1e+00, 1e+00]\n",
      "  Bounds range     [1e+00, 1e+00]\n",
      "  RHS range        [6e-01, 1e+02]\n",
      "Presolve removed 120 rows and 242 columns\n",
      "Presolve time: 0.00s\n",
      "\n",
      "Explored 0 nodes (0 simplex iterations) in 0.02 seconds (0.00 work units)\n",
      "Thread count was 1 (of 4 available processors)\n",
      "\n",
      "Solution count 0\n",
      "\n",
      "Model is infeasible\n",
      "Best objective -, best bound -, gap -\n"
     ]
    }
   ],
   "source": [
    "Q3_delay.optimize()"
   ]
  },
  {
   "cell_type": "code",
   "execution_count": 170,
   "metadata": {},
   "outputs": [
    {
     "ename": "AttributeError",
     "evalue": "Unable to retrieve attribute 'objVal'",
     "output_type": "error",
     "traceback": [
      "\u001b[1;31m---------------------------------------------------------------------------\u001b[0m",
      "\u001b[1;31mAttributeError\u001b[0m                            Traceback (most recent call last)",
      "\u001b[1;32m<ipython-input-170-a164d7e6ee15>\u001b[0m in \u001b[0;36m<module>\u001b[1;34m\u001b[0m\n\u001b[1;32m----> 1\u001b[1;33m \u001b[0ma\u001b[0m \u001b[1;33m=\u001b[0m \u001b[0mQ3_delay\u001b[0m\u001b[1;33m.\u001b[0m\u001b[0mobjVal\u001b[0m\u001b[1;33m\u001b[0m\u001b[1;33m\u001b[0m\u001b[0m\n\u001b[0m\u001b[0;32m      2\u001b[0m \u001b[0mprint\u001b[0m\u001b[1;33m(\u001b[0m\u001b[1;34m\"objective value =\"\u001b[0m\u001b[1;33m,\u001b[0m \u001b[0ma\u001b[0m\u001b[1;33m)\u001b[0m\u001b[1;33m\u001b[0m\u001b[1;33m\u001b[0m\u001b[0m\n",
      "\u001b[1;32msrc\\gurobipy\\model.pxi\u001b[0m in \u001b[0;36mgurobipy.Model.__getattr__\u001b[1;34m()\u001b[0m\n",
      "\u001b[1;32msrc\\gurobipy\\model.pxi\u001b[0m in \u001b[0;36mgurobipy.Model.getAttr\u001b[1;34m()\u001b[0m\n",
      "\u001b[1;32msrc\\gurobipy\\attrutil.pxi\u001b[0m in \u001b[0;36mgurobipy.__getattr\u001b[1;34m()\u001b[0m\n",
      "\u001b[1;31mAttributeError\u001b[0m: Unable to retrieve attribute 'objVal'"
     ]
    }
   ],
   "source": [
    "a = Q3_delay.objVal\n",
    "print(\"objective value =\", a)"
   ]
  },
  {
   "cell_type": "markdown",
   "metadata": {},
   "source": [
    "### Decision variable – makespan"
   ]
  },
  {
   "cell_type": "code",
   "execution_count": null,
   "metadata": {},
   "outputs": [],
   "source": [
    "Q3_makespan = Model('Q3-makespan')\n",
    "\n",
    "# x_is is the finish time of order i at stage s\n",
    "x = {}\n",
    "for i in orders:\n",
    "    x[i] = {}\n",
    "    for s in stages:\n",
    "        x[i][s] = Q3_makespan.addVar(lb = 0, vtype = GRB.CONTINUOUS, name = \"x_\" + str(i) + \",\" + str(s))\n",
    "\n",
    "# y_ism = 1 if order i process on machine m  at stage s otherwise 0\n",
    "y = {}\n",
    "for i in orders:\n",
    "    y[i] = {}\n",
    "    for s in stages:\n",
    "        y[i][s] = {}\n",
    "        for m in machines:\n",
    "            y[i][s][m] = Q3_makespan.addVar(lb = 0, vtype = GRB.BINARY, name = \"y_\" + str(i) + \",\" + str(s) + \",\" + str(m))\n",
    "        \n",
    "# z_isjt = 1 if order i's stage s process before order j's stage t and they both process on the same machine otherwise 0\n",
    "z = {}\n",
    "for i in orders:\n",
    "    z[i] = {}\n",
    "    for s in stages:\n",
    "        z[i][s] = {}\n",
    "        for j in orders:\n",
    "            z[i][s][j] = {}\n",
    "            for t in stages:\n",
    "                z[i][s][j][t] = Q3_makespan.addVar(lb = 0, vtype = GRB.BINARY, name = \"z_\" + str(i) + \",\" + str(s) + \",\" + str(j) + \",\" + str(t))\n",
    "        \n",
    "# l_i = 1 if order i is late otherwise 0\n",
    "l = {}\n",
    "for i in orders:\n",
    "    l[i] = Q3_makespan.addVar(lb = 0, vtype = GRB.BINARY, name = \"l_\" + str(i))\n",
    "\n",
    "# w is the makespan of the solution\n",
    "w = Q3_makespan.addVar(lb = 0, vtype = GRB.CONTINUOUS, name = \"w\")\n",
    "\n",
    "Q3_makespan.update()"
   ]
  },
  {
   "cell_type": "markdown",
   "metadata": {},
   "source": [
    "### Setting the objective function"
   ]
  },
  {
   "cell_type": "code",
   "execution_count": null,
   "metadata": {},
   "outputs": [],
   "source": [
    "Q3_makespan.setObjective(w, GRB.MINIMIZE)"
   ]
  },
  {
   "cell_type": "markdown",
   "metadata": {},
   "source": [
    "### Add constraints"
   ]
  },
  {
   "cell_type": "code",
   "execution_count": null,
   "metadata": {},
   "outputs": [],
   "source": [
    "Q3_makespan.addConstrs((x[j][t] + P[i][s] - x[i][s] <= (quicksum(P[i][s] for i in orders for s in stages)+P[i][s]) * (z[i][s][j][t] + 2-y[i][s][m]-y[j][t][m]) for i in orders for j in range(i+1, I) for m in machines for s in stages for t in stages), 'constraints for x_is, z_isjt')\n",
    "Q3_makespan.addConstrs((x[i][s] + P[j][t] - x[j][t] <= (quicksum(P[i][s] for i in orders for s in stages)+P[j][t]) * (1-z[i][s][j][t] + 2-y[i][s][m]-y[j][t][m]) for i in orders for j in range(i+1, I) for m in machines for s in stages for t in stages), 'constraints for x_is, z_isjt')\n",
    "Q3_makespan.addConstrs((x[i][1] <= D[i] + quicksum(P[i][s] for s in stages for i in orders) * l[i] for i in orders), 'constraints for l_i')\n",
    "Q3_makespan.addConstrs((quicksum(y[i][s][m] for m in machines) == 1 for i in orders for s in stages), 'allocate orders to machines')\n",
    "Q3_makespan.addConstrs((x[i][s] >= P[i][s] for i in orders for s in stages), 'minimum x_i')\n",
    "Q3_makespan.addConstrs((x[i][1] >= x[i][0] + P[i][1] for i in orders), 'stage 2 should start after stage 1 is finished')\n",
    "# C_ism\n",
    "Q3_makespan.addConstrs((y[i][s][m] <= C[i][s][m] for i in orders for s in stages for m in machines), 'constraints for cook machines')\n",
    "Q3_makespan.addConstrs((w >= x[i][1] for i in orders), 'makespan')\n",
    "Q3_makespan.addConstr((quicksum(l[i] for i in orders) == a), 'delay num')\n",
    "# Q3_makespan.addConstr((w == 6.1), 'delay num')\n",
    "\n",
    "Q3_makespan.update()"
   ]
  },
  {
   "cell_type": "code",
   "execution_count": null,
   "metadata": {
    "jupyter": {
     "outputs_hidden": true
    }
   },
   "outputs": [],
   "source": [
    "Q3_makespan.optimize()"
   ]
  },
  {
   "cell_type": "code",
   "execution_count": null,
   "metadata": {},
   "outputs": [],
   "source": [
    "print(\"objective value =\", Q3_makespan.objVal)"
   ]
  },
  {
   "cell_type": "markdown",
   "metadata": {},
   "source": [
    "## Results"
   ]
  },
  {
   "cell_type": "code",
   "execution_count": null,
   "metadata": {},
   "outputs": [],
   "source": [
    "x_opt = {}\n",
    "for i in orders:\n",
    "    x_opt[i] = {}\n",
    "    for s in stages:\n",
    "        x_opt[i][s] = {}\n",
    "\n",
    "y_opt = {}\n",
    "for i in orders:\n",
    "    y_opt[i] = {}\n",
    "    for s in stages:\n",
    "        y_opt[i][s] = {}\n",
    "        for m in machines:\n",
    "            y_opt[i][s][m] = {}\n",
    "\n",
    "for var in Q3_makespan.getVars():\n",
    "    index = [i for i in var.varName[2:].split(',')]\n",
    "    if var.varName[0] == 'x':\n",
    "        x_opt[int(index[0])][int(index[1])] = var.x\n",
    "    elif var.varName[0] == 'y':\n",
    "        y_opt[int(index[0])][int(index[1])][int(index[2])] = var.x"
   ]
  },
  {
   "cell_type": "markdown",
   "metadata": {},
   "source": [
    "## Plot Gantt Charts"
   ]
  },
  {
   "cell_type": "code",
   "execution_count": null,
   "metadata": {},
   "outputs": [],
   "source": [
    "gantt_plot_2_3(x_opt, P, y_opt, instance_no, 3)"
   ]
  }
 ],
 "metadata": {
  "kernelspec": {
   "display_name": "Python 3",
   "language": "python",
   "name": "python3"
  },
  "language_info": {
   "codemirror_mode": {
    "name": "ipython",
    "version": 3
   },
   "file_extension": ".py",
   "mimetype": "text/x-python",
   "name": "python",
   "nbconvert_exporter": "python",
   "pygments_lexer": "ipython3",
   "version": "3.7.4"
  }
 },
 "nbformat": 4,
 "nbformat_minor": 4
}
