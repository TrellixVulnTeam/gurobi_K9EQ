{
 "cells": [
  {
   "cell_type": "code",
   "execution_count": 1,
   "id": "e385ac48",
   "metadata": {},
   "outputs": [],
   "source": [
    "import gurobipy as gp\n",
    "from gurobipy import GRB\n",
    "import numpy as np"
   ]
  },
  {
   "cell_type": "code",
   "execution_count": 2,
   "id": "fdb6f1d0",
   "metadata": {},
   "outputs": [],
   "source": [
    "from gurobipy import *"
   ]
  },
  {
   "cell_type": "code",
   "execution_count": 3,
   "id": "9d156b18",
   "metadata": {},
   "outputs": [],
   "source": [
    "import matplotlib.pyplot as plt\n",
    "import numpy as np"
   ]
  },
  {
   "cell_type": "markdown",
   "id": "ac5e5307",
   "metadata": {},
   "source": [
    "# L = 35"
   ]
  },
  {
   "cell_type": "code",
   "execution_count": 4,
   "id": "dce2f90b",
   "metadata": {},
   "outputs": [
    {
     "name": "stdout",
     "output_type": "stream",
     "text": [
      "Set parameter Username\n",
      "Academic license - for non-commercial use only - expires 2023-03-15\n"
     ]
    }
   ],
   "source": [
    "p1_35 = Model (\"p1_L=35\")\n"
   ]
  },
  {
   "cell_type": "code",
   "execution_count": 5,
   "id": "60ba3315",
   "metadata": {},
   "outputs": [],
   "source": [
    "L = 35\n",
    "#25 / 35"
   ]
  },
  {
   "cell_type": "code",
   "execution_count": 6,
   "id": "52ddf5d2",
   "metadata": {},
   "outputs": [],
   "source": [
    "x = {}\n",
    "y = {}\n",
    "for i in range(4):\n",
    "    x[i] = p1_35.addVar(lb = 0, vtype = GRB.CONTINUOUS, name = \"x\"+ str(i+1))\n",
    "    y[i] = p1_35.addVar(lb = 0, vtype = GRB.CONTINUOUS, name = \"y\"+ str(i+1))"
   ]
  },
  {
   "cell_type": "code",
   "execution_count": 7,
   "id": "a7051178",
   "metadata": {},
   "outputs": [],
   "source": [
    "p1_35.setObjective(y[0] + y[1] + y[2] + y[3], GRB.MINIMIZE)"
   ]
  },
  {
   "cell_type": "code",
   "execution_count": 8,
   "id": "579e7f89",
   "metadata": {},
   "outputs": [
    {
     "name": "stdout",
     "output_type": "stream",
     "text": [
      "0\n",
      "1\n",
      "2\n"
     ]
    }
   ],
   "source": [
    "p1_35.addConstr(x[len(x)-1] <= 100, \"width constraint between x4 and right point\")\n",
    "for i in range(3):\n",
    "    print(i)\n",
    "    p1_35.addConstr(x[i] <= x[i+1], \"width constraint between\" + str(i+1) + \" , \", str(i+2))"
   ]
  },
  {
   "cell_type": "code",
   "execution_count": 9,
   "id": "2539a484",
   "metadata": {},
   "outputs": [
    {
     "data": {
      "text/plain": [
       "<gurobi.QConstr Not Yet Added>"
      ]
     },
     "execution_count": 9,
     "metadata": {},
     "output_type": "execute_result"
    }
   ],
   "source": [
    "p1_35.addConstr(x[0] + pow((y[0]-100),2) == pow(L,2), \"distance constraint between x1 and left point\")\n"
   ]
  },
  {
   "cell_type": "code",
   "execution_count": 10,
   "id": "9f0ac7ae",
   "metadata": {},
   "outputs": [],
   "source": [
    "for i in range(3):\n",
    "    p1_35.addConstr(pow(x[i]-x[i+1], 2) + pow(y[i]-y[i+1], 2) == pow(L,2), \"height constraint between\" + str(i+1) + \" , \", str(i+2))"
   ]
  },
  {
   "cell_type": "code",
   "execution_count": 11,
   "id": "86689084",
   "metadata": {},
   "outputs": [
    {
     "data": {
      "text/plain": [
       "<gurobi.QConstr Not Yet Added>"
      ]
     },
     "execution_count": 11,
     "metadata": {},
     "output_type": "execute_result"
    }
   ],
   "source": [
    "p1_35.addConstr(pow(x[len(x)-1]-100, 2) + pow(y[len(y)-1]-150, 2) == pow(L,2), \"height constraint between x4 and right point\")"
   ]
  },
  {
   "cell_type": "code",
   "execution_count": 12,
   "id": "415e8cf6",
   "metadata": {},
   "outputs": [],
   "source": [
    "p1_35.update()"
   ]
  },
  {
   "cell_type": "code",
   "execution_count": 13,
   "id": "5fe42130",
   "metadata": {},
   "outputs": [
    {
     "name": "stdout",
     "output_type": "stream",
     "text": [
      "Set parameter NonConvex to value 2\n"
     ]
    }
   ],
   "source": [
    "p1_35.Params.NonConvex = 2"
   ]
  },
  {
   "cell_type": "code",
   "execution_count": 14,
   "id": "6c3206a0",
   "metadata": {},
   "outputs": [
    {
     "name": "stdout",
     "output_type": "stream",
     "text": [
      "Gurobi Optimizer version 9.5.1 build v9.5.1rc2 (win64)\n",
      "Thread count: 4 physical cores, 8 logical processors, using up to 8 threads\n",
      "Optimize a model with 4 rows, 8 columns and 7 nonzeros\n",
      "Model fingerprint: 0x99efaa2d\n",
      "Model has 5 quadratic constraints\n",
      "Coefficient statistics:\n",
      "  Matrix range     [1e+00, 1e+00]\n",
      "  QMatrix range    [1e+00, 2e+00]\n",
      "  QLMatrix range   [1e+00, 3e+02]\n",
      "  Objective range  [1e+00, 1e+00]\n",
      "  Bounds range     [0e+00, 0e+00]\n",
      "  RHS range        [1e+02, 1e+02]\n",
      "  QRHS range       [1e+03, 3e+04]\n",
      "Presolve removed 1 rows and 0 columns\n",
      "\n",
      "Continuous model is non-convex -- solving as a MIP\n",
      "\n",
      "Presolve removed 1 rows and 0 columns\n",
      "Presolve time: 0.00s\n",
      "Presolved: 58 rows, 22 columns, 127 nonzeros\n",
      "Presolved model has 15 bilinear constraint(s)\n",
      "Variable types: 22 continuous, 0 integer (0 binary)\n",
      "\n",
      "Root relaxation: objective 1.564611e+02, 15 iterations, 0.00 seconds (0.00 work units)\n",
      "\n",
      "    Nodes    |    Current Node    |     Objective Bounds      |     Work\n",
      " Expl Unexpl |  Obj  Depth IntInf | Incumbent    BestBd   Gap | It/Node Time\n",
      "\n",
      "     0     0  156.46111    0   10          -  156.46111      -     -    0s\n",
      "H    0     0                     427.9531896  156.46111  63.4%     -    0s\n",
      "     0     0  206.40695    0   15  427.95319  206.40695  51.8%     -    0s\n",
      "     0     0  218.60338    0   15  427.95319  218.60338  48.9%     -    0s\n",
      "     0     0  218.60338    0   15  427.95319  218.60338  48.9%     -    0s\n",
      "     0     0  229.62362    0   15  427.95319  229.62362  46.3%     -    0s\n",
      "     0     0  230.23551    0   15  427.95319  230.23551  46.2%     -    0s\n",
      "     0     0  239.60486    0   15  427.95319  239.60486  44.0%     -    0s\n",
      "     0     0  240.06050    0   15  427.95319  240.06050  43.9%     -    0s\n",
      "     0     0  240.89239    0   15  427.95319  240.89239  43.7%     -    0s\n",
      "     0     0  240.89853    0   15  427.95319  240.89853  43.7%     -    0s\n",
      "     0     0  243.01946    0   15  427.95319  243.01946  43.2%     -    0s\n",
      "     0     0  243.02999    0   15  427.95319  243.02999  43.2%     -    0s\n",
      "     0     0  252.54436    0   15  427.95319  252.54436  41.0%     -    0s\n",
      "     0     0  252.54436    0   15  427.95319  252.54436  41.0%     -    0s\n",
      "     0     0  252.79120    0   15  427.95319  252.79120  40.9%     -    0s\n",
      "     0     0  252.79120    0   15  427.95319  252.79120  40.9%     -    0s\n",
      "     0     0  252.79822    0   15  427.95319  252.79822  40.9%     -    0s\n",
      "     0     0  252.79823    0   15  427.95319  252.79823  40.9%     -    0s\n",
      "     0     0  252.79853    0   15  427.95319  252.79853  40.9%     -    0s\n",
      "     0     0  272.09538    0   15  427.95319  272.09538  36.4%     -    0s\n",
      "     0     2  272.09538    0   15  427.95319  272.09538  36.4%     -    0s\n",
      "*  364   232              42     317.3646008  304.33231  4.11%   4.6    0s\n",
      "*  461   253              56     308.4145916  304.33231  1.32%   4.2    0s\n",
      "*  750   280              75     306.0404905  304.45685  0.52%   3.8    0s\n",
      "\n",
      "Cutting planes:\n",
      "  RLT: 8\n",
      "  PSD: 15\n",
      "\n",
      "Explored 1023 nodes (3906 simplex iterations) in 0.24 seconds (0.04 work units)\n",
      "Thread count was 8 (of 8 available processors)\n",
      "\n",
      "Solution count 4: 306.04 308.415 317.365 427.953 \n",
      "\n",
      "Optimal solution found (tolerance 1.00e-04)\n",
      "Best objective 3.060404905074e+02, best bound 3.060153326184e+02, gap 0.0082%\n"
     ]
    }
   ],
   "source": [
    "p1_35.optimize()"
   ]
  },
  {
   "cell_type": "code",
   "execution_count": 15,
   "id": "0b4bd8b1",
   "metadata": {},
   "outputs": [
    {
     "name": "stdout",
     "output_type": "stream",
     "text": [
      "x1  =  71.58981478257535\n",
      "y1  =  66.03810686640946\n",
      "x2  =  99.56298033141182\n",
      "y2  =  45.002375126894385\n",
      "x3  =  99.97010008991045\n",
      "y3  =  80.00000724883604\n",
      "x4  =  99.99057549272823\n",
      "y4  =  115.00000126528475\n"
     ]
    },
    {
     "ename": "NameError",
     "evalue": "name 'p1' is not defined",
     "output_type": "error",
     "traceback": [
      "\u001b[1;31m---------------------------------------------------------------------------\u001b[0m",
      "\u001b[1;31mNameError\u001b[0m                                 Traceback (most recent call last)",
      "\u001b[1;32m<ipython-input-15-98ec23f263d7>\u001b[0m in \u001b[0;36m<module>\u001b[1;34m\u001b[0m\n\u001b[0;32m      3\u001b[0m     \u001b[0mprint\u001b[0m\u001b[1;33m(\u001b[0m\u001b[0mvar\u001b[0m\u001b[1;33m.\u001b[0m\u001b[0mvarName\u001b[0m\u001b[1;33m,\u001b[0m \u001b[1;34m\" = \"\u001b[0m\u001b[1;33m,\u001b[0m \u001b[0mvar\u001b[0m\u001b[1;33m.\u001b[0m\u001b[0mx\u001b[0m\u001b[1;33m)\u001b[0m\u001b[1;33m\u001b[0m\u001b[1;33m\u001b[0m\u001b[0m\n\u001b[0;32m      4\u001b[0m     \u001b[0mans\u001b[0m\u001b[1;33m[\u001b[0m\u001b[0mvar\u001b[0m\u001b[1;33m.\u001b[0m\u001b[0mvarName\u001b[0m\u001b[1;33m]\u001b[0m \u001b[1;33m=\u001b[0m \u001b[0mvar\u001b[0m\u001b[1;33m.\u001b[0m\u001b[0mx\u001b[0m\u001b[1;33m\u001b[0m\u001b[1;33m\u001b[0m\u001b[0m\n\u001b[1;32m----> 5\u001b[1;33m \u001b[0mprint\u001b[0m\u001b[1;33m(\u001b[0m\u001b[1;34m\"objective value =\"\u001b[0m\u001b[1;33m,\u001b[0m \u001b[0mp1\u001b[0m\u001b[1;33m.\u001b[0m\u001b[0mobjVal\u001b[0m\u001b[1;33m)\u001b[0m\u001b[1;33m\u001b[0m\u001b[1;33m\u001b[0m\u001b[0m\n\u001b[0m",
      "\u001b[1;31mNameError\u001b[0m: name 'p1' is not defined"
     ]
    }
   ],
   "source": [
    "ans = {}\n",
    "for var in p1_35.getVars():\n",
    "    print(var.varName, \" = \", var.x) \n",
    "    ans[var.varName] = var.x\n",
    "print(\"objective value =\", p1.objVal)\n"
   ]
  },
  {
   "cell_type": "code",
   "execution_count": null,
   "id": "43616ae7",
   "metadata": {
    "scrolled": true
   },
   "outputs": [],
   "source": [
    "for i in range(3):\n",
    "    val = pow(ans['x'+str(i+1)] - ans['x'+str(i+2)], 2) + pow(ans['y'+str(i+1)] - ans['y'+str(i+2)], 2)\n",
    "    print(val)"
   ]
  },
  {
   "cell_type": "code",
   "execution_count": null,
   "id": "e71c46e4",
   "metadata": {},
   "outputs": [],
   "source": [
    "x_graph = []\n",
    "y_graph = []\n",
    "x_graph.append(0)\n",
    "y_graph.append(100)"
   ]
  },
  {
   "cell_type": "code",
   "execution_count": null,
   "id": "92ba2e5b",
   "metadata": {},
   "outputs": [],
   "source": [
    "for i in range(3):\n",
    "    val = pow(ans['x'+str(i+1)] - ans['x'+str(i+2)], 2) + pow(ans['y'+str(i+1)] - ans['y'+str(i+2)], 2)\n",
    "    print(val)\n",
    "    x_graph.append(ans['x'+str(i+1)])\n",
    "    y_graph.append(ans['y'+str(i+1)])"
   ]
  },
  {
   "cell_type": "code",
   "execution_count": null,
   "id": "8eb39103",
   "metadata": {},
   "outputs": [],
   "source": [
    "x_graph.append(ans['x4'])\n",
    "y_graph.append(ans['y4'])\n",
    "x_graph.append(100)\n",
    "y_graph.append(150)"
   ]
  },
  {
   "cell_type": "code",
   "execution_count": null,
   "id": "416900f6",
   "metadata": {},
   "outputs": [],
   "source": [
    "y_graph"
   ]
  },
  {
   "cell_type": "code",
   "execution_count": null,
   "id": "2fb14ec4",
   "metadata": {},
   "outputs": [],
   "source": [
    "x = np.array(x_graph)\n",
    "y = np.array(y_graph)\n",
    "\n",
    "fig = plt.figure()\n",
    "ax = fig.gca()\n",
    "plt.scatter(x, y)\n",
    "plt.grid()\n",
    "plt.show()\n"
   ]
  },
  {
   "cell_type": "markdown",
   "id": "9eb37a4b",
   "metadata": {},
   "source": [
    "# L = 25"
   ]
  },
  {
   "cell_type": "code",
   "execution_count": null,
   "id": "3f5bd419",
   "metadata": {},
   "outputs": [],
   "source": [
    "p1_25 = Model (\"p1_L=25\")\n"
   ]
  },
  {
   "cell_type": "code",
   "execution_count": null,
   "id": "b54e4a9d",
   "metadata": {},
   "outputs": [],
   "source": [
    "L = 25\n",
    "#25 / 35"
   ]
  },
  {
   "cell_type": "code",
   "execution_count": null,
   "id": "b6559f38",
   "metadata": {},
   "outputs": [],
   "source": [
    "x = {}\n",
    "y = {}\n",
    "for i in range(4):\n",
    "    x[i] = p1_25.addVar(lb = 0, vtype = GRB.CONTINUOUS, name = \"x\"+ str(i+1))\n",
    "    y[i] = p1_25.addVar(lb = 0, vtype = GRB.CONTINUOUS, name = \"y\"+ str(i+1))"
   ]
  },
  {
   "cell_type": "code",
   "execution_count": null,
   "id": "f78e74fd",
   "metadata": {},
   "outputs": [],
   "source": [
    "p1_25.setObjective(y[0] + y[1] + y[2] + y[3], GRB.MINIMIZE)"
   ]
  },
  {
   "cell_type": "code",
   "execution_count": null,
   "id": "4f443fe9",
   "metadata": {},
   "outputs": [],
   "source": [
    "p1_25.addConstr(x[len(x)-1] <= 100, \"width constraint between x4 and right point\")\n",
    "for i in range(3):\n",
    "    print(i)\n",
    "    p1_25.addConstr(x[i] <= x[i+1], \"width constraint between\" + str(i+1) + \" , \", str(i+2))"
   ]
  },
  {
   "cell_type": "code",
   "execution_count": null,
   "id": "c5e04442",
   "metadata": {},
   "outputs": [],
   "source": [
    "p1_25.addConstr(x[0] + pow((y[0]-100),2) == pow(L,2), \"distance constraint between x1 and left point\")\n"
   ]
  },
  {
   "cell_type": "code",
   "execution_count": null,
   "id": "457a2247",
   "metadata": {},
   "outputs": [],
   "source": [
    "for i in range(3):\n",
    "    p1_25.addConstr(pow(x[i]-x[i+1], 2) + pow(y[i]-y[i+1], 2) == pow(L,2), \"height constraint between\" + str(i+1) + \" , \", str(i+2))"
   ]
  },
  {
   "cell_type": "code",
   "execution_count": null,
   "id": "c8d0a649",
   "metadata": {},
   "outputs": [],
   "source": [
    "p1_25.addConstr(pow(x[len(x)-1]-100, 2) + pow(y[len(y)-1]-150, 2) == pow(L,2), \"height constraint between x4 and right point\")"
   ]
  },
  {
   "cell_type": "code",
   "execution_count": null,
   "id": "dfd47348",
   "metadata": {},
   "outputs": [],
   "source": [
    "p1_25.update()"
   ]
  },
  {
   "cell_type": "code",
   "execution_count": null,
   "id": "9f177c32",
   "metadata": {},
   "outputs": [],
   "source": [
    "p1_25.Params.NonConvex = 2"
   ]
  },
  {
   "cell_type": "code",
   "execution_count": null,
   "id": "e54df133",
   "metadata": {},
   "outputs": [],
   "source": [
    "p1_25.optimize()"
   ]
  },
  {
   "cell_type": "code",
   "execution_count": null,
   "id": "6d994bbc",
   "metadata": {},
   "outputs": [],
   "source": [
    "\n",
    "ans = {}\n",
    "for var in p1_25.getVars():\n",
    "    print(var.varName, \" = \", var.x) \n",
    "    ans[var.varName] = var.x\n",
    "print(\"objective value =\", p1.objVal)\n"
   ]
  },
  {
   "cell_type": "code",
   "execution_count": null,
   "id": "1cc49b7c",
   "metadata": {},
   "outputs": [],
   "source": [
    "x_graph = []\n",
    "y_graph = []\n",
    "x_graph.append(0)\n",
    "y_graph.append(100)"
   ]
  },
  {
   "cell_type": "code",
   "execution_count": null,
   "id": "1fd310f7",
   "metadata": {},
   "outputs": [],
   "source": [
    "for i in range(3):\n",
    "    val = pow(ans['x'+str(i+1)] - ans['x'+str(i+2)], 2) + pow(ans['y'+str(i+1)] - ans['y'+str(i+2)], 2)\n",
    "    print(val)\n",
    "    x_graph.append(ans['x'+str(i+1)])\n",
    "    y_graph.append(ans['y'+str(i+1)])"
   ]
  },
  {
   "cell_type": "code",
   "execution_count": null,
   "id": "45dbead7",
   "metadata": {},
   "outputs": [],
   "source": [
    "x_graph.append(ans['x4'])\n",
    "y_graph.append(ans['y4'])\n",
    "x_graph.append(100)\n",
    "y_graph.append(150)"
   ]
  },
  {
   "cell_type": "code",
   "execution_count": null,
   "id": "ccc378c8",
   "metadata": {},
   "outputs": [],
   "source": [
    "y_graph"
   ]
  },
  {
   "cell_type": "code",
   "execution_count": null,
   "id": "f416f1ad",
   "metadata": {},
   "outputs": [],
   "source": [
    "x = np.array(x_graph)\n",
    "y = np.array(y_graph)\n",
    "\n",
    "fig = plt.figure()\n",
    "ax = fig.gca()\n",
    "plt.scatter(x, y)\n",
    "plt.grid()\n",
    "plt.show()\n"
   ]
  },
  {
   "cell_type": "code",
   "execution_count": null,
   "id": "43e27a62",
   "metadata": {},
   "outputs": [],
   "source": []
  }
 ],
 "metadata": {
  "kernelspec": {
   "display_name": "Python 3",
   "language": "python",
   "name": "python3"
  },
  "language_info": {
   "codemirror_mode": {
    "name": "ipython",
    "version": 3
   },
   "file_extension": ".py",
   "mimetype": "text/x-python",
   "name": "python",
   "nbconvert_exporter": "python",
   "pygments_lexer": "ipython3",
   "version": "3.8.8"
  }
 },
 "nbformat": 4,
 "nbformat_minor": 5
}
