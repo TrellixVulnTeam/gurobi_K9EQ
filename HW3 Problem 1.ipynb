{
 "cells": [
  {
   "cell_type": "code",
   "execution_count": 165,
   "id": "e385ac48",
   "metadata": {},
   "outputs": [],
   "source": [
    "import gurobipy as gp\n",
    "from gurobipy import GRB\n",
    "import numpy as np"
   ]
  },
  {
   "cell_type": "code",
   "execution_count": 166,
   "id": "fdb6f1d0",
   "metadata": {},
   "outputs": [],
   "source": [
    "from gurobipy import *"
   ]
  },
  {
   "cell_type": "markdown",
   "id": "ac5e5307",
   "metadata": {},
   "source": [
    "# L = 35"
   ]
  },
  {
   "cell_type": "code",
   "execution_count": 167,
   "id": "dce2f90b",
   "metadata": {},
   "outputs": [],
   "source": [
    "p1_35 = Model (\"p1_L=35\")\n"
   ]
  },
  {
   "cell_type": "code",
   "execution_count": 168,
   "id": "60ba3315",
   "metadata": {},
   "outputs": [],
   "source": [
    "L = 35\n",
    "#25 / 35"
   ]
  },
  {
   "cell_type": "code",
   "execution_count": 169,
   "id": "52ddf5d2",
   "metadata": {},
   "outputs": [],
   "source": [
    "x = {}\n",
    "y = {}\n",
    "for i in range(4):\n",
    "    x[i] = p1_35.addVar(lb = 0, vtype = GRB.CONTINUOUS, name = \"x\"+ str(i+1))\n",
    "    y[i] = p1_35.addVar(lb = 0, vtype = GRB.CONTINUOUS, name = \"y\"+ str(i+1))"
   ]
  },
  {
   "cell_type": "code",
   "execution_count": 170,
   "id": "a7051178",
   "metadata": {},
   "outputs": [],
   "source": [
    "p1_35.setObjective(y[0] + y[1] + y[2] + y[3], GRB.MINIMIZE)"
   ]
  },
  {
   "cell_type": "code",
   "execution_count": 171,
   "id": "579e7f89",
   "metadata": {},
   "outputs": [
    {
     "name": "stdout",
     "output_type": "stream",
     "text": [
      "0\n",
      "1\n",
      "2\n"
     ]
    }
   ],
   "source": [
    "p1_35.addConstr(x[len(x)-1] <= 100, \"width constraint between x4 and right point\")\n",
    "for i in range(3):\n",
    "    print(i)\n",
    "    p1_35.addConstr(x[i] <= x[i+1], \"width constraint between\" + str(i+1) + \" , \", str(i+2))"
   ]
  },
  {
   "cell_type": "code",
   "execution_count": 172,
   "id": "2539a484",
   "metadata": {},
   "outputs": [
    {
     "data": {
      "text/plain": [
       "<gurobi.QConstr Not Yet Added>"
      ]
     },
     "execution_count": 172,
     "metadata": {},
     "output_type": "execute_result"
    }
   ],
   "source": [
    "p1_35.addConstr(x[0] + pow((y[0]-100),2) == pow(L,2), \"distance constraint between x1 and left point\")\n"
   ]
  },
  {
   "cell_type": "code",
   "execution_count": 173,
   "id": "9f0ac7ae",
   "metadata": {},
   "outputs": [],
   "source": [
    "for i in range(3):\n",
    "    p1_35.addConstr(pow(x[i]-x[i+1], 2) + pow(y[i]-y[i+1], 2) == pow(L,2), \"height constraint between\" + str(i+1) + \" , \", str(i+2))"
   ]
  },
  {
   "cell_type": "code",
   "execution_count": 174,
   "id": "86689084",
   "metadata": {},
   "outputs": [
    {
     "data": {
      "text/plain": [
       "<gurobi.QConstr Not Yet Added>"
      ]
     },
     "execution_count": 174,
     "metadata": {},
     "output_type": "execute_result"
    }
   ],
   "source": [
    "p1_35.addConstr(pow(x[len(x)-1]-100, 2) + pow(y[len(y)-1]-150, 2) == pow(L,2), \"height constraint between x4 and right point\")"
   ]
  },
  {
   "cell_type": "code",
   "execution_count": 175,
   "id": "415e8cf6",
   "metadata": {},
   "outputs": [],
   "source": [
    "p1_35.update()"
   ]
  },
  {
   "cell_type": "code",
   "execution_count": 176,
   "id": "5fe42130",
   "metadata": {},
   "outputs": [
    {
     "name": "stdout",
     "output_type": "stream",
     "text": [
      "Set parameter NonConvex to value 2\n"
     ]
    }
   ],
   "source": [
    "p1_35.Params.NonConvex = 2"
   ]
  },
  {
   "cell_type": "code",
   "execution_count": 177,
   "id": "6c3206a0",
   "metadata": {},
   "outputs": [
    {
     "name": "stdout",
     "output_type": "stream",
     "text": [
      "Gurobi Optimizer version 9.5.1 build v9.5.1rc2 (win64)\n",
      "Thread count: 4 physical cores, 8 logical processors, using up to 8 threads\n",
      "Optimize a model with 4 rows, 8 columns and 7 nonzeros\n",
      "Model fingerprint: 0x99efaa2d\n",
      "Model has 5 quadratic constraints\n",
      "Coefficient statistics:\n",
      "  Matrix range     [1e+00, 1e+00]\n",
      "  QMatrix range    [1e+00, 2e+00]\n",
      "  QLMatrix range   [1e+00, 3e+02]\n",
      "  Objective range  [1e+00, 1e+00]\n",
      "  Bounds range     [0e+00, 0e+00]\n",
      "  RHS range        [1e+02, 1e+02]\n",
      "  QRHS range       [1e+03, 3e+04]\n",
      "Presolve removed 1 rows and 0 columns\n",
      "\n",
      "Continuous model is non-convex -- solving as a MIP\n",
      "\n",
      "Presolve removed 1 rows and 0 columns\n",
      "Presolve time: 0.00s\n",
      "Presolved: 58 rows, 22 columns, 127 nonzeros\n",
      "Presolved model has 15 bilinear constraint(s)\n",
      "Variable types: 22 continuous, 0 integer (0 binary)\n",
      "\n",
      "Root relaxation: objective 1.564611e+02, 15 iterations, 0.00 seconds (0.00 work units)\n",
      "\n",
      "    Nodes    |    Current Node    |     Objective Bounds      |     Work\n",
      " Expl Unexpl |  Obj  Depth IntInf | Incumbent    BestBd   Gap | It/Node Time\n",
      "\n",
      "     0     0  156.46111    0   10          -  156.46111      -     -    0s\n",
      "H    0     0                     427.9531896  156.46111  63.4%     -    0s\n",
      "     0     0  206.40695    0   15  427.95319  206.40695  51.8%     -    0s\n",
      "     0     0  218.60338    0   15  427.95319  218.60338  48.9%     -    0s\n",
      "     0     0  218.60338    0   15  427.95319  218.60338  48.9%     -    0s\n",
      "     0     0  229.62362    0   15  427.95319  229.62362  46.3%     -    0s\n",
      "     0     0  230.23551    0   15  427.95319  230.23551  46.2%     -    0s\n",
      "     0     0  239.60486    0   15  427.95319  239.60486  44.0%     -    0s\n",
      "     0     0  240.06050    0   15  427.95319  240.06050  43.9%     -    0s\n",
      "     0     0  240.89239    0   15  427.95319  240.89239  43.7%     -    0s\n",
      "     0     0  240.89853    0   15  427.95319  240.89853  43.7%     -    0s\n",
      "     0     0  243.01946    0   15  427.95319  243.01946  43.2%     -    0s\n",
      "     0     0  243.02999    0   15  427.95319  243.02999  43.2%     -    0s\n",
      "     0     0  252.54436    0   15  427.95319  252.54436  41.0%     -    0s\n",
      "     0     0  252.54436    0   15  427.95319  252.54436  41.0%     -    0s\n",
      "     0     0  252.79120    0   15  427.95319  252.79120  40.9%     -    0s\n",
      "     0     0  252.79120    0   15  427.95319  252.79120  40.9%     -    0s\n",
      "     0     0  252.79822    0   15  427.95319  252.79822  40.9%     -    0s\n",
      "     0     0  252.79823    0   15  427.95319  252.79823  40.9%     -    0s\n",
      "     0     0  252.79853    0   15  427.95319  252.79853  40.9%     -    0s\n",
      "     0     0  272.09538    0   15  427.95319  272.09538  36.4%     -    0s\n",
      "     0     2  272.09538    0   15  427.95319  272.09538  36.4%     -    0s\n",
      "*  364   232              42     317.3646008  304.33231  4.11%   4.6    0s\n",
      "*  461   253              56     308.4145916  304.33231  1.32%   4.2    0s\n",
      "*  750   280              75     306.0404905  304.45685  0.52%   3.8    0s\n",
      "\n",
      "Cutting planes:\n",
      "  RLT: 8\n",
      "  PSD: 15\n",
      "\n",
      "Explored 1023 nodes (3906 simplex iterations) in 0.19 seconds (0.04 work units)\n",
      "Thread count was 8 (of 8 available processors)\n",
      "\n",
      "Solution count 4: 306.04 308.415 317.365 427.953 \n",
      "\n",
      "Optimal solution found (tolerance 1.00e-04)\n",
      "Best objective 3.060404905074e+02, best bound 3.060153326184e+02, gap 0.0082%\n"
     ]
    }
   ],
   "source": [
    "p1_35.optimize()"
   ]
  },
  {
   "cell_type": "code",
   "execution_count": 178,
   "id": "0b4bd8b1",
   "metadata": {},
   "outputs": [
    {
     "name": "stdout",
     "output_type": "stream",
     "text": [
      "x1  =  71.58981478257535\n",
      "y1  =  66.03810686640946\n",
      "x2  =  99.56298033141182\n",
      "y2  =  45.002375126894385\n",
      "x3  =  99.97010008991045\n",
      "y3  =  80.00000724883604\n",
      "x4  =  99.99057549272823\n",
      "y4  =  115.00000126528475\n",
      "objective value = 376.5409098150177\n"
     ]
    }
   ],
   "source": [
    "ans = {}\n",
    "for var in p1_35.getVars():\n",
    "    print(var.varName, \" = \", var.x) \n",
    "    ans[var.varName] = var.x\n",
    "print(\"objective value =\", p1.objVal)\n"
   ]
  },
  {
   "cell_type": "code",
   "execution_count": 179,
   "id": "43616ae7",
   "metadata": {},
   "outputs": [
    {
     "name": "stdout",
     "output_type": "stream",
     "text": [
      "1225.000000639454\n",
      "1225.0000006405223\n",
      "1225.000000393566\n"
     ]
    }
   ],
   "source": [
    "for i in range(3):\n",
    "    val = pow(ans['x'+str(i+1)] - ans['x'+str(i+2)], 2) + pow(ans['y'+str(i+1)] - ans['y'+str(i+2)], 2)\n",
    "    print(val)"
   ]
  },
  {
   "cell_type": "markdown",
   "id": "9eb37a4b",
   "metadata": {},
   "source": [
    "# L = 25"
   ]
  },
  {
   "cell_type": "code",
   "execution_count": 180,
   "id": "3f5bd419",
   "metadata": {},
   "outputs": [],
   "source": [
    "p1_25 = Model (\"p1_L=25\")\n"
   ]
  },
  {
   "cell_type": "code",
   "execution_count": 181,
   "id": "b54e4a9d",
   "metadata": {},
   "outputs": [],
   "source": [
    "L = 25\n",
    "#25 / 35"
   ]
  },
  {
   "cell_type": "code",
   "execution_count": 182,
   "id": "b6559f38",
   "metadata": {},
   "outputs": [],
   "source": [
    "x = {}\n",
    "y = {}\n",
    "for i in range(4):\n",
    "    x[i] = p1_25.addVar(lb = 0, vtype = GRB.CONTINUOUS, name = \"x\"+ str(i+1))\n",
    "    y[i] = p1_25.addVar(lb = 0, vtype = GRB.CONTINUOUS, name = \"y\"+ str(i+1))"
   ]
  },
  {
   "cell_type": "code",
   "execution_count": 183,
   "id": "f78e74fd",
   "metadata": {},
   "outputs": [],
   "source": [
    "p1_25.setObjective(y[0] + y[1] + y[2] + y[3], GRB.MINIMIZE)"
   ]
  },
  {
   "cell_type": "code",
   "execution_count": 184,
   "id": "4f443fe9",
   "metadata": {},
   "outputs": [
    {
     "name": "stdout",
     "output_type": "stream",
     "text": [
      "0\n",
      "1\n",
      "2\n"
     ]
    }
   ],
   "source": [
    "p1_25.addConstr(x[len(x)-1] <= 100, \"width constraint between x4 and right point\")\n",
    "for i in range(3):\n",
    "    print(i)\n",
    "    p1_25.addConstr(x[i] <= x[i+1], \"width constraint between\" + str(i+1) + \" , \", str(i+2))"
   ]
  },
  {
   "cell_type": "code",
   "execution_count": 185,
   "id": "c5e04442",
   "metadata": {},
   "outputs": [
    {
     "data": {
      "text/plain": [
       "<gurobi.QConstr Not Yet Added>"
      ]
     },
     "execution_count": 185,
     "metadata": {},
     "output_type": "execute_result"
    }
   ],
   "source": [
    "p1_25.addConstr(x[0] + pow((y[0]-100),2) == pow(L,2), \"distance constraint between x1 and left point\")\n"
   ]
  },
  {
   "cell_type": "code",
   "execution_count": 186,
   "id": "457a2247",
   "metadata": {},
   "outputs": [],
   "source": [
    "for i in range(3):\n",
    "    p1_25.addConstr(pow(x[i]-x[i+1], 2) + pow(y[i]-y[i+1], 2) == pow(L,2), \"height constraint between\" + str(i+1) + \" , \", str(i+2))"
   ]
  },
  {
   "cell_type": "code",
   "execution_count": 187,
   "id": "c8d0a649",
   "metadata": {},
   "outputs": [
    {
     "data": {
      "text/plain": [
       "<gurobi.QConstr Not Yet Added>"
      ]
     },
     "execution_count": 187,
     "metadata": {},
     "output_type": "execute_result"
    }
   ],
   "source": [
    "p1_25.addConstr(pow(x[len(x)-1]-100, 2) + pow(y[len(y)-1]-150, 2) == pow(L,2), \"height constraint between x4 and right point\")"
   ]
  },
  {
   "cell_type": "code",
   "execution_count": 188,
   "id": "dfd47348",
   "metadata": {},
   "outputs": [],
   "source": [
    "p1_25.update()"
   ]
  },
  {
   "cell_type": "code",
   "execution_count": 189,
   "id": "9f177c32",
   "metadata": {},
   "outputs": [
    {
     "name": "stdout",
     "output_type": "stream",
     "text": [
      "Set parameter NonConvex to value 2\n"
     ]
    }
   ],
   "source": [
    "p1_25.Params.NonConvex = 2"
   ]
  },
  {
   "cell_type": "code",
   "execution_count": 190,
   "id": "e54df133",
   "metadata": {},
   "outputs": [
    {
     "name": "stdout",
     "output_type": "stream",
     "text": [
      "Gurobi Optimizer version 9.5.1 build v9.5.1rc2 (win64)\n",
      "Thread count: 4 physical cores, 8 logical processors, using up to 8 threads\n",
      "Optimize a model with 4 rows, 8 columns and 7 nonzeros\n",
      "Model fingerprint: 0xf2f22716\n",
      "Model has 5 quadratic constraints\n",
      "Coefficient statistics:\n",
      "  Matrix range     [1e+00, 1e+00]\n",
      "  QMatrix range    [1e+00, 2e+00]\n",
      "  QLMatrix range   [1e+00, 3e+02]\n",
      "  Objective range  [1e+00, 1e+00]\n",
      "  Bounds range     [0e+00, 0e+00]\n",
      "  RHS range        [1e+02, 1e+02]\n",
      "  QRHS range       [6e+02, 3e+04]\n",
      "Presolve removed 1 rows and 0 columns\n",
      "\n",
      "Continuous model is non-convex -- solving as a MIP\n",
      "\n",
      "Presolve removed 1 rows and 0 columns\n",
      "Presolve time: 0.00s\n",
      "Presolved: 58 rows, 22 columns, 127 nonzeros\n",
      "Presolved model has 15 bilinear constraint(s)\n",
      "Variable types: 22 continuous, 0 integer (0 binary)\n",
      "\n",
      "Root relaxation: objective 1.709371e+02, 15 iterations, 0.00 seconds (0.00 work units)\n",
      "\n",
      "    Nodes    |    Current Node    |     Objective Bounds      |     Work\n",
      " Expl Unexpl |  Obj  Depth IntInf | Incumbent    BestBd   Gap | It/Node Time\n",
      "\n",
      "     0     0  170.93710    0   10          -  170.93710      -     -    0s\n",
      "H    0     0                     446.9021095  170.93710  61.8%     -    0s\n",
      "     0     0  241.51095    0   14  446.90211  241.51095  46.0%     -    0s\n",
      "     0     0  271.29334    0   15  446.90211  271.29334  39.3%     -    0s\n",
      "     0     0  292.54762    0   10  446.90211  292.54762  34.5%     -    0s\n",
      "     0     0  295.87953    0   10  446.90211  295.87953  33.8%     -    0s\n",
      "     0     0  295.91072    0   15  446.90211  295.91072  33.8%     -    0s\n",
      "     0     0  296.60720    0   15  446.90211  296.60720  33.6%     -    0s\n",
      "     0     0  296.76069    0   15  446.90211  296.76069  33.6%     -    0s\n",
      "     0     0  303.15339    0   15  446.90211  303.15339  32.2%     -    0s\n",
      "     0     0  303.16440    0   15  446.90211  303.16440  32.2%     -    0s\n",
      "     0     0  303.16785    0   15  446.90211  303.16785  32.2%     -    0s\n",
      "     0     0  325.52627    0   15  446.90211  325.52627  27.2%     -    0s\n",
      "     0     2  325.52627    0   15  446.90211  325.52627  27.2%     -    0s\n",
      "H  316   198                     385.5146223  361.57351  6.21%   4.0    0s\n",
      "*  414   230              42     377.0425556  361.57351  4.10%   3.9    0s\n",
      "*  740   266              58     376.9858615  374.48129  0.66%   3.4    0s\n",
      "*  823   266              48     376.8441881  374.48129  0.63%   3.3    0s\n",
      "*  827   266              48     376.8441453  374.48129  0.63%   3.3    0s\n",
      "* 1044   305              56     376.5995786  375.43404  0.31%   3.1    0s\n",
      "* 1046   305              57     376.5995784  375.43404  0.31%   3.1    0s\n",
      "* 1053   305              60     376.5995779  375.43404  0.31%   3.1    0s\n",
      "* 1055   305              59     376.5995776  375.43404  0.31%   3.1    0s\n",
      "* 1056   305              58     376.5995773  375.43404  0.31%   3.1    0s\n",
      "* 1337   268              52     376.5995528  375.91554  0.18%   2.9    0s\n",
      "* 1339   268              53     376.5995527  375.91554  0.18%   2.9    0s\n",
      "* 1342   268              52     376.5995519  375.91554  0.18%   2.9    0s\n",
      "* 1350   268              44     376.5995488  375.91554  0.18%   2.9    0s\n",
      "* 1456   268              52     376.5910874  376.23078  0.10%   2.8    0s\n",
      "* 1457   268              52     376.5910755  376.23078  0.10%   2.8    0s\n",
      "* 1465   268              58     376.5910359  376.23078  0.10%   2.8    0s\n",
      "* 1467   268              59     376.5910349  376.23078  0.10%   2.8    0s\n",
      "* 1474   268              62     376.5910256  376.23078  0.10%   2.8    0s\n",
      "* 1476   268              61     376.5910230  376.23078  0.10%   2.8    0s\n",
      "* 1477   268              60     376.5910203  376.23078  0.10%   2.8    0s\n",
      "* 1511   324              60     376.5566628  376.23078  0.09%   2.8    0s\n",
      "* 1860   244              75     376.5566627  376.39979  0.04%   2.5    0s\n",
      "* 1919   244              66     376.5536688  376.45120  0.03%   2.5    0s\n",
      "* 2169   381              51     376.5503317  376.45724  0.02%   2.4    0s\n",
      "* 2243   381              53     376.5490218  376.46570  0.02%   2.4    0s\n",
      "* 2244   381              53     376.5490200  376.46570  0.02%   2.4    0s\n",
      "* 2252   381              59     376.5490146  376.46570  0.02%   2.4    0s\n",
      "* 2254   381              60     376.5490144  376.46570  0.02%   2.4    0s\n",
      "* 2257   381              59     376.5490128  376.46570  0.02%   2.4    0s\n",
      "* 2260   381              60     376.5490127  376.46570  0.02%   2.4    0s\n",
      "* 2600   461              75     376.5413149  376.48583  0.01%   2.3    0s\n",
      "* 2604   461              76     376.5413127  376.48583  0.01%   2.3    0s\n",
      "* 2609   461              75     376.5413098  376.48583  0.01%   2.3    0s\n",
      "* 2953   461              52     376.5409098  376.49424  0.01%   2.2    0s\n",
      "\n",
      "Cutting planes:\n",
      "  RLT: 4\n",
      "  PSD: 6\n",
      "\n",
      "Explored 3111 nodes (6900 simplex iterations) in 0.30 seconds (0.05 work units)\n",
      "Thread count was 8 (of 8 available processors)\n",
      "\n",
      "Solution count 10: 376.541 376.541 376.541 ... 376.549\n",
      "\n",
      "Optimal solution found (tolerance 1.00e-04)\n",
      "Best objective 3.765409098150e+02, best bound 3.765057221007e+02, gap 0.0093%\n"
     ]
    }
   ],
   "source": [
    "p1_25.optimize()"
   ]
  },
  {
   "cell_type": "code",
   "execution_count": 191,
   "id": "6d994bbc",
   "metadata": {},
   "outputs": [
    {
     "name": "stdout",
     "output_type": "stream",
     "text": [
      "x1  =  74.26660661687492\n",
      "y1  =  76.53229041036953\n",
      "x2  =  99.21985447979883\n",
      "y2  =  75.00408185767905\n",
      "x3  =  99.46568956572338\n",
      "y3  =  100.00287313106752\n",
      "x4  =  99.71152465164944\n",
      "y4  =  125.00166441590156\n",
      "objective value = 376.5409098150177\n"
     ]
    }
   ],
   "source": [
    "\n",
    "ans = {}\n",
    "for var in p1_25.getVars():\n",
    "    print(var.varName, \" = \", var.x) \n",
    "    ans[var.varName] = var.x\n",
    "print(\"objective value =\", p1.objVal)\n"
   ]
  },
  {
   "cell_type": "code",
   "execution_count": 192,
   "id": "3d75ee62",
   "metadata": {},
   "outputs": [
    {
     "data": {
      "text/plain": [
       "{'x1': 74.26660661687492,\n",
       " 'y1': 76.53229041036953,\n",
       " 'x2': 99.21985447979883,\n",
       " 'y2': 75.00408185767905,\n",
       " 'x3': 99.46568956572338,\n",
       " 'y3': 100.00287313106752,\n",
       " 'x4': 99.71152465164944,\n",
       " 'y4': 125.00166441590156}"
      ]
     },
     "execution_count": 192,
     "metadata": {},
     "output_type": "execute_result"
    }
   ],
   "source": [
    "ans"
   ]
  },
  {
   "cell_type": "code",
   "execution_count": 193,
   "id": "1fd310f7",
   "metadata": {},
   "outputs": [
    {
     "name": "stdout",
     "output_type": "stream",
     "text": [
      "625.0000002890326\n",
      "625.0000000199146\n",
      "625.0000005921667\n"
     ]
    }
   ],
   "source": [
    "for i in range(3):\n",
    "    val = pow(ans['x'+str(i+1)] - ans['x'+str(i+2)], 2) + pow(ans['y'+str(i+1)] - ans['y'+str(i+2)], 2)\n",
    "    print(val)"
   ]
  },
  {
   "cell_type": "code",
   "execution_count": null,
   "id": "f416f1ad",
   "metadata": {},
   "outputs": [],
   "source": []
  }
 ],
 "metadata": {
  "kernelspec": {
   "display_name": "Python 3",
   "language": "python",
   "name": "python3"
  },
  "language_info": {
   "codemirror_mode": {
    "name": "ipython",
    "version": 3
   },
   "file_extension": ".py",
   "mimetype": "text/x-python",
   "name": "python",
   "nbconvert_exporter": "python",
   "pygments_lexer": "ipython3",
   "version": "3.8.8"
  }
 },
 "nbformat": 4,
 "nbformat_minor": 5
}
