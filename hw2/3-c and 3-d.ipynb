{
 "cells": [
  {
   "cell_type": "code",
   "execution_count": 1,
   "metadata": {},
   "outputs": [],
   "source": [
    "def PercentageOptimalityGap(optimal_value, alg_value):\n",
    "    return (optimal_value - alg_value) / optimal_value"
   ]
  },
  {
   "cell_type": "code",
   "execution_count": 2,
   "metadata": {},
   "outputs": [],
   "source": [
    "def min_info(arr):\n",
    "    if(len(arr) == 0):\n",
    "        return\n",
    "    min_index = 0\n",
    "    min_value = arr[min_index]\n",
    "    for i in range(len(arr)):\n",
    "        if(arr[i] < min_value):\n",
    "            min_index = i\n",
    "            min_value = arr[min_index]\n",
    "    return min_index, min_value"
   ]
  },
  {
   "cell_type": "markdown",
   "metadata": {},
   "source": [
    "# (c) HBF"
   ]
  },
  {
   "cell_type": "markdown",
   "metadata": {},
   "source": [
    "## Define Instance"
   ]
  },
  {
   "cell_type": "code",
   "execution_count": 3,
   "metadata": {},
   "outputs": [],
   "source": [
    "# machine amount\n",
    "m = 4\n",
    "# job amount\n",
    "n = 25\n",
    "# Capacity of each machine\n",
    "k = 15\n",
    "# benefit\n",
    "b = [5,8,12,4,6,6,3,7,6,15,9,5,8,10,1,5,3,7,12,14,5,8,9,8,10]\n",
    "# processing time\n",
    "p = [3,6,7,5,4,2,6,3,5,8,10,2,4,7,1,5,8,3,6,4,12,4,8,4,7]\n",
    "\n",
    "# accumulated processing time of machine i\n",
    "P = [0 for i in range(4)]\n",
    "# accumulated benefit of machine i\n",
    "B = [0 for i in range(4)]"
   ]
  },
  {
   "cell_type": "markdown",
   "metadata": {},
   "source": [
    "## Sorting the job"
   ]
  },
  {
   "cell_type": "code",
   "execution_count": 4,
   "metadata": {},
   "outputs": [],
   "source": [
    "for i in range(n):\n",
    "    for j in range(0, n-i-1):\n",
    "        if b[j+1] > b[j]:\n",
    "            b[j], b[j+1] = b[j+1], b[j]\n",
    "            p[j], p[j+1] = p[j+1], p[j]"
   ]
  },
  {
   "cell_type": "code",
   "execution_count": 5,
   "metadata": {},
   "outputs": [
    {
     "name": "stdout",
     "output_type": "stream",
     "text": [
      "[15, 14, 12, 12, 10, 10, 9, 9, 8, 8, 8, 8, 7, 7, 6, 6, 6, 5, 5, 5, 5, 4, 3, 3, 1]\n"
     ]
    }
   ],
   "source": [
    "print(b)"
   ]
  },
  {
   "cell_type": "code",
   "execution_count": 6,
   "metadata": {},
   "outputs": [
    {
     "name": "stdout",
     "output_type": "stream",
     "text": [
      "[8, 4, 7, 6, 7, 7, 10, 8, 6, 4, 4, 4, 3, 3, 4, 2, 5, 3, 2, 5, 12, 5, 6, 8, 1]\n"
     ]
    }
   ],
   "source": [
    "print(p)"
   ]
  },
  {
   "cell_type": "markdown",
   "metadata": {},
   "source": [
    "## Main Part"
   ]
  },
  {
   "cell_type": "code",
   "execution_count": 7,
   "metadata": {},
   "outputs": [],
   "source": [
    "result = []\n",
    "for i in range(n):\n",
    "    temp_accumulated_benefit = {}\n",
    "    for j in range(m):\n",
    "        temp_accumulated_benefit[j] = B[j]\n",
    "    for j in range(m):\n",
    "        min_value = min(temp_accumulated_benefit)\n",
    "        min_index =  min(temp_accumulated_benefit, key=temp_accumulated_benefit.get)\n",
    "        if(k - P[min_index] - p[i] >= 0):\n",
    "            P[min_index] += p[i]\n",
    "            B[min_index] += b[i]\n",
    "            result.append(min_index)\n",
    "            break\n",
    "        else:\n",
    "            temp_accumulated_benefit.pop(min_index, None)\n"
   ]
  },
  {
   "cell_type": "code",
   "execution_count": 8,
   "metadata": {},
   "outputs": [
    {
     "name": "stdout",
     "output_type": "stream",
     "text": [
      "benefit of machine  1  =  23\n",
      "benefit of machine  2  =  23\n",
      "benefit of machine  3  =  23\n",
      "benefit of machine  4  =  28\n"
     ]
    }
   ],
   "source": [
    "for i in range(m):\n",
    "    print(\"benefit of machine \", i + 1, \" = \", B[i])"
   ]
  },
  {
   "cell_type": "code",
   "execution_count": 9,
   "metadata": {},
   "outputs": [
    {
     "name": "stdout",
     "output_type": "stream",
     "text": [
      "[14, 14, 15, 15]\n",
      "[0, 1, 2, 3, 2, 3, 1, 0, 3, 2]\n"
     ]
    }
   ],
   "source": [
    "print(P)\n",
    "print(result)"
   ]
  },
  {
   "cell_type": "code",
   "execution_count": 10,
   "metadata": {},
   "outputs": [
    {
     "data": {
      "text/plain": [
       "[23, 23, 23, 28]"
      ]
     },
     "execution_count": 10,
     "metadata": {},
     "output_type": "execute_result"
    }
   ],
   "source": [
    "B"
   ]
  },
  {
   "cell_type": "code",
   "execution_count": 11,
   "metadata": {},
   "outputs": [],
   "source": [
    "min_index, min_benefit = min_info(B)"
   ]
  },
  {
   "cell_type": "code",
   "execution_count": 12,
   "metadata": {
    "scrolled": false
   },
   "outputs": [
    {
     "name": "stdout",
     "output_type": "stream",
     "text": [
      "max benefit of the machine earning the least benefit is:\n",
      "machine =  1\n",
      "benefit =  23\n"
     ]
    }
   ],
   "source": [
    "print(\"max benefit of the machine earning the least benefit is:\")\n",
    "print(\"machine = \", min_index + 1)\n",
    "print(\"benefit = \", min_benefit)"
   ]
  },
  {
   "cell_type": "markdown",
   "metadata": {},
   "source": [
    "## Percentage Optimality Gap"
   ]
  },
  {
   "cell_type": "code",
   "execution_count": 13,
   "metadata": {},
   "outputs": [
    {
     "data": {
      "text/plain": [
       "0.20689655172413793"
      ]
     },
     "execution_count": 13,
     "metadata": {},
     "output_type": "execute_result"
    }
   ],
   "source": [
    "PercentageOptimalityGap(29, min_benefit)"
   ]
  },
  {
   "cell_type": "markdown",
   "metadata": {},
   "source": [
    "# (d) HRF"
   ]
  },
  {
   "cell_type": "markdown",
   "metadata": {},
   "source": [
    "## Define Instance"
   ]
  },
  {
   "cell_type": "code",
   "execution_count": 14,
   "metadata": {},
   "outputs": [],
   "source": [
    "# machine amount\n",
    "m = 4\n",
    "# job amount\n",
    "n = 25\n",
    "# Capacity of each machine\n",
    "k = 15\n",
    "# benefit\n",
    "b = [5,8,12,4,6,6,3,7,6,15,9,5,8,10,1,5,3,7,12,14,5,8,9,8,10]\n",
    "# processing time\n",
    "p = [3,6,7,5,4,2,6,3,5,8,10,2,4,7,1,5,8,3,6,4,12,4,8,4,7]\n",
    "\n",
    "# accumulated processing time of machine i\n",
    "P = [0 for i in range(4)]\n",
    "# accumulated benefit of machine i\n",
    "B = [0 for i in range(4)]"
   ]
  },
  {
   "cell_type": "markdown",
   "metadata": {},
   "source": [
    "## Sorting the job"
   ]
  },
  {
   "cell_type": "code",
   "execution_count": 15,
   "metadata": {},
   "outputs": [],
   "source": [
    "for i in range(n):\n",
    "    for j in range(0, n-i-1):\n",
    "        if (b[j+1]/p[j+1]) > (b[j]/p[j]):\n",
    "            b[j], b[j+1] = b[j+1], b[j]\n",
    "            p[j], p[j+1] = p[j+1], p[j]"
   ]
  },
  {
   "cell_type": "code",
   "execution_count": 16,
   "metadata": {},
   "outputs": [
    {
     "name": "stdout",
     "output_type": "stream",
     "text": [
      "[14, 6, 5, 7, 7, 8, 12, 8, 8, 15, 12, 5, 6, 10, 10, 8, 6, 9, 1, 5, 9, 4, 3, 5, 3]\n"
     ]
    }
   ],
   "source": [
    "print(b)"
   ]
  },
  {
   "cell_type": "code",
   "execution_count": 17,
   "metadata": {},
   "outputs": [
    {
     "name": "stdout",
     "output_type": "stream",
     "text": [
      "[4, 2, 2, 3, 3, 4, 6, 4, 4, 8, 7, 3, 4, 7, 7, 6, 5, 8, 1, 5, 10, 5, 6, 12, 8]\n"
     ]
    }
   ],
   "source": [
    "print(p)"
   ]
  },
  {
   "cell_type": "markdown",
   "metadata": {},
   "source": [
    "## Main Part"
   ]
  },
  {
   "cell_type": "code",
   "execution_count": 18,
   "metadata": {},
   "outputs": [],
   "source": [
    "for i in range(n):\n",
    "#         temp_accumulated_benefit = B\n",
    "    temp_accumulated_benefit = {}\n",
    "    for j in range(m):\n",
    "        temp_accumulated_benefit[j] = B[j]\n",
    "    for j in range(m):\n",
    "        min_value = min(temp_accumulated_benefit)\n",
    "        min_index =  min(temp_accumulated_benefit, key=temp_accumulated_benefit.get)\n",
    "        if(k - P[min_index] - p[i] >= 0):\n",
    "            P[min_index] += p[i]\n",
    "            B[min_index] += b[i]\n",
    "            break\n",
    "        else:\n",
    "            temp_accumulated_benefit.pop(min_index, None)\n"
   ]
  },
  {
   "cell_type": "code",
   "execution_count": 19,
   "metadata": {},
   "outputs": [
    {
     "name": "stdout",
     "output_type": "stream",
     "text": [
      "benefit of machine  1  =  34\n",
      "benefit of machine  2  =  29\n",
      "benefit of machine  3  =  26\n",
      "benefit of machine  4  =  25\n"
     ]
    }
   ],
   "source": [
    "for i in range(m):\n",
    "    print(\"benefit of machine \", i + 1, \" = \", B[i])"
   ]
  },
  {
   "cell_type": "code",
   "execution_count": 20,
   "metadata": {},
   "outputs": [
    {
     "data": {
      "text/plain": [
       "[15, 14, 13, 13]"
      ]
     },
     "execution_count": 20,
     "metadata": {},
     "output_type": "execute_result"
    }
   ],
   "source": [
    "P"
   ]
  },
  {
   "cell_type": "code",
   "execution_count": 21,
   "metadata": {},
   "outputs": [
    {
     "data": {
      "text/plain": [
       "[34, 29, 26, 25]"
      ]
     },
     "execution_count": 21,
     "metadata": {},
     "output_type": "execute_result"
    }
   ],
   "source": [
    "B"
   ]
  },
  {
   "cell_type": "code",
   "execution_count": 22,
   "metadata": {},
   "outputs": [],
   "source": [
    "min_index, min_benefit = min_info(B)"
   ]
  },
  {
   "cell_type": "code",
   "execution_count": 23,
   "metadata": {
    "scrolled": false
   },
   "outputs": [
    {
     "name": "stdout",
     "output_type": "stream",
     "text": [
      "max benefit of the machine earning the least benefit is:\n",
      "machine =  4\n",
      "benefit =  25\n"
     ]
    }
   ],
   "source": [
    "print(\"max benefit of the machine earning the least benefit is:\")\n",
    "print(\"machine = \", min_index + 1)\n",
    "print(\"benefit = \", min_benefit)"
   ]
  },
  {
   "cell_type": "markdown",
   "metadata": {},
   "source": [
    "## Percentage Optimality Gap"
   ]
  },
  {
   "cell_type": "code",
   "execution_count": 24,
   "metadata": {},
   "outputs": [
    {
     "data": {
      "text/plain": [
       "0.13793103448275862"
      ]
     },
     "execution_count": 24,
     "metadata": {},
     "output_type": "execute_result"
    }
   ],
   "source": [
    "PercentageOptimalityGap(29, min_benefit)"
   ]
  }
 ],
 "metadata": {
  "kernelspec": {
   "display_name": "Python 3",
   "language": "python",
   "name": "python3"
  },
  "language_info": {
   "codemirror_mode": {
    "name": "ipython",
    "version": 3
   },
   "file_extension": ".py",
   "mimetype": "text/x-python",
   "name": "python",
   "nbconvert_exporter": "python",
   "pygments_lexer": "ipython3",
   "version": "3.10.2"
  }
 },
 "nbformat": 4,
 "nbformat_minor": 2
}
