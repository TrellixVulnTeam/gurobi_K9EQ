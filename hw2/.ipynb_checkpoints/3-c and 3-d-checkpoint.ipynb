{
 "cells": [
  {
   "cell_type": "code",
   "execution_count": 3,
   "metadata": {},
   "outputs": [],
   "source": [
    "def PercentageOptimalityGap(optimal_value, alg_value):\n",
    "    return (optimal_value - alg_value) / optimal_value"
   ]
  },
  {
   "cell_type": "markdown",
   "metadata": {},
   "source": [
    "# (c) HBF"
   ]
  },
  {
   "cell_type": "markdown",
   "metadata": {},
   "source": [
    "## Define Instance"
   ]
  },
  {
   "cell_type": "code",
   "execution_count": 4,
   "metadata": {},
   "outputs": [],
   "source": [
    "# machine amount\n",
    "m = 4\n",
    "# job amount\n",
    "n = 25\n",
    "# Capacity of each machine\n",
    "K = 15\n",
    "# benefit\n",
    "b = [5,8,12,4,6,6,3,7,6,15,9,5,8,10,1,5,3,7,12,14,5,8,9,8,10]\n",
    "# processing time\n",
    "p = [3,6,7,5,4,2,6,3,5,8,10,2,4,7,1,5,8,3,6,4,12,4,8,4,7]\n",
    "\n",
    "# accumulated processing time of machine i\n",
    "P = [0 for i in range(4)]\n",
    "# accumulated benefit of machine i\n",
    "B = [0 for i in range(4)]"
   ]
  },
  {
   "cell_type": "markdown",
   "metadata": {},
   "source": [
    "## Sorting the job"
   ]
  },
  {
   "cell_type": "code",
   "execution_count": 5,
   "metadata": {},
   "outputs": [],
   "source": [
    "for i in range(n):\n",
    "    for j in range(0, n-i-1):\n",
    "        if b[j+1] > b[j]:\n",
    "            b[j], b[j+1] = b[j+1], b[j]\n",
    "            p[j], p[j+1] = p[j+1], p[j]"
   ]
  },
  {
   "cell_type": "code",
   "execution_count": 6,
   "metadata": {},
   "outputs": [
    {
     "name": "stdout",
     "output_type": "stream",
     "text": [
      "[15, 14, 12, 12, 10, 10, 9, 9, 8, 8, 8, 8, 7, 7, 6, 6, 6, 5, 5, 5, 5, 4, 3, 3, 1]\n"
     ]
    }
   ],
   "source": [
    "print(b)"
   ]
  },
  {
   "cell_type": "code",
   "execution_count": 7,
   "metadata": {},
   "outputs": [
    {
     "name": "stdout",
     "output_type": "stream",
     "text": [
      "[8, 4, 7, 6, 7, 7, 10, 8, 6, 4, 4, 4, 3, 3, 4, 2, 5, 3, 2, 5, 12, 5, 6, 8, 1]\n"
     ]
    }
   ],
   "source": [
    "print(p)"
   ]
  },
  {
   "cell_type": "markdown",
   "metadata": {},
   "source": [
    "## Main Part"
   ]
  },
  {
   "cell_type": "code",
   "execution_count": 8,
   "metadata": {},
   "outputs": [],
   "source": [
    "for i in range(n):\n",
    "    for j in range(m):\n",
    "        if(K - P[j] - p[i] >= 0):\n",
    "            P[j] += p[i]\n",
    "            B[j] += b[i]\n",
    "            break"
   ]
  },
  {
   "cell_type": "code",
   "execution_count": 9,
   "metadata": {},
   "outputs": [
    {
     "name": "stdout",
     "output_type": "stream",
     "text": [
      "benefit of machine  1  =  36\n",
      "benefit of machine  2  =  30\n",
      "benefit of machine  3  =  21\n",
      "benefit of machine  4  =  17\n"
     ]
    }
   ],
   "source": [
    "for i in range(m):\n",
    "    print(\"benefit of machine \", i + 1, \" = \", B[i])"
   ]
  },
  {
   "cell_type": "code",
   "execution_count": 10,
   "metadata": {},
   "outputs": [
    {
     "data": {
      "text/plain": [
       "[15, 15, 15, 14]"
      ]
     },
     "execution_count": 10,
     "metadata": {},
     "output_type": "execute_result"
    }
   ],
   "source": [
    "P"
   ]
  },
  {
   "cell_type": "code",
   "execution_count": 11,
   "metadata": {},
   "outputs": [
    {
     "data": {
      "text/plain": [
       "[36, 30, 21, 17]"
      ]
     },
     "execution_count": 11,
     "metadata": {},
     "output_type": "execute_result"
    }
   ],
   "source": [
    "B"
   ]
  },
  {
   "cell_type": "code",
   "execution_count": 12,
   "metadata": {},
   "outputs": [],
   "source": [
    "min_index =  0\n",
    "min_amount = B[min_index]\n",
    "for i in range(m):\n",
    "    if(B[i] < min_amount):\n",
    "        min_index = i\n",
    "        min_amount = B[i]"
   ]
  },
  {
   "cell_type": "code",
   "execution_count": 13,
   "metadata": {
    "scrolled": false
   },
   "outputs": [
    {
     "name": "stdout",
     "output_type": "stream",
     "text": [
      "max benefit of the machine earning the least benefit is:\n",
      "machine =  4\n",
      "benefit =  17\n"
     ]
    }
   ],
   "source": [
    "print(\"max benefit of the machine earning the least benefit is:\")\n",
    "print(\"machine = \", min_index + 1)\n",
    "print(\"benefit = \", min_amount)"
   ]
  },
  {
   "cell_type": "markdown",
   "metadata": {},
   "source": [
    "## Percentage Optimality Gap"
   ]
  },
  {
   "cell_type": "code",
   "execution_count": 14,
   "metadata": {},
   "outputs": [
    {
     "data": {
      "text/plain": [
       "0.41379310344827586"
      ]
     },
     "execution_count": 14,
     "metadata": {},
     "output_type": "execute_result"
    }
   ],
   "source": [
    "PercentageOptimalityGap(29, min_amount)"
   ]
  },
  {
   "cell_type": "markdown",
   "metadata": {},
   "source": [
    "# (d) HRF"
   ]
  },
  {
   "cell_type": "markdown",
   "metadata": {},
   "source": [
    "## Define Instance"
   ]
  },
  {
   "cell_type": "code",
   "execution_count": 15,
   "metadata": {},
   "outputs": [],
   "source": [
    "# machine amount\n",
    "m = 4\n",
    "# job amount\n",
    "n = 25\n",
    "# Capacity of each machine\n",
    "K = 15\n",
    "# benefit\n",
    "b = [5,8,12,4,6,6,3,7,6,15,9,5,8,10,1,5,3,7,12,14,5,8,9,8,10]\n",
    "# processing time\n",
    "p = [3,6,7,5,4,2,6,3,5,8,10,2,4,7,1,5,8,3,6,4,12,4,8,4,7]\n",
    "\n",
    "# accumulated processing time of machine i\n",
    "P = [0 for i in range(4)]\n",
    "# accumulated benefit of machine i\n",
    "B = [0 for i in range(4)]"
   ]
  },
  {
   "cell_type": "markdown",
   "metadata": {},
   "source": [
    "## Sorting the job"
   ]
  },
  {
   "cell_type": "code",
   "execution_count": 16,
   "metadata": {},
   "outputs": [],
   "source": [
    "for i in range(n):\n",
    "    for j in range(0, n-i-1):\n",
    "        if b[j+1]/p[j+1] > b[j]/p[j]:\n",
    "            b[j], b[j+1] = b[j+1], b[j]\n",
    "            p[j], p[j+1] = p[j+1], p[j]"
   ]
  },
  {
   "cell_type": "code",
   "execution_count": 17,
   "metadata": {},
   "outputs": [
    {
     "name": "stdout",
     "output_type": "stream",
     "text": [
      "[14, 6, 5, 7, 7, 8, 12, 8, 8, 15, 12, 5, 6, 10, 10, 8, 6, 9, 1, 5, 9, 4, 3, 5, 3]\n"
     ]
    }
   ],
   "source": [
    "print(b)"
   ]
  },
  {
   "cell_type": "code",
   "execution_count": 18,
   "metadata": {},
   "outputs": [
    {
     "name": "stdout",
     "output_type": "stream",
     "text": [
      "[4, 2, 2, 3, 3, 4, 6, 4, 4, 8, 7, 3, 4, 7, 7, 6, 5, 8, 1, 5, 10, 5, 6, 12, 8]\n"
     ]
    }
   ],
   "source": [
    "print(p)"
   ]
  },
  {
   "cell_type": "markdown",
   "metadata": {},
   "source": [
    "## Main Part"
   ]
  },
  {
   "cell_type": "code",
   "execution_count": 19,
   "metadata": {},
   "outputs": [],
   "source": [
    "for i in range(n):\n",
    "#     print(b[i])\n",
    "    for j in range(m):\n",
    "        if(K - P[j] - p[i] >= 0):\n",
    "#             print(\"current capacity of machine\", j+1, \" = \", K - P[j])\n",
    "            P[j] += p[i]\n",
    "            B[j] += b[i]\n",
    "            break"
   ]
  },
  {
   "cell_type": "code",
   "execution_count": 20,
   "metadata": {},
   "outputs": [
    {
     "name": "stdout",
     "output_type": "stream",
     "text": [
      "benefit of machine  1  =  40\n",
      "benefit of machine  2  =  28\n",
      "benefit of machine  3  =  28\n",
      "benefit of machine  4  =  18\n"
     ]
    }
   ],
   "source": [
    "for i in range(m):\n",
    "    print(\"benefit of machine \", i + 1, \" = \", B[i])"
   ]
  },
  {
   "cell_type": "code",
   "execution_count": 21,
   "metadata": {},
   "outputs": [
    {
     "data": {
      "text/plain": [
       "[15, 14, 15, 11]"
      ]
     },
     "execution_count": 21,
     "metadata": {},
     "output_type": "execute_result"
    }
   ],
   "source": [
    "P"
   ]
  },
  {
   "cell_type": "code",
   "execution_count": 22,
   "metadata": {},
   "outputs": [
    {
     "data": {
      "text/plain": [
       "[40, 28, 28, 18]"
      ]
     },
     "execution_count": 22,
     "metadata": {},
     "output_type": "execute_result"
    }
   ],
   "source": [
    "B"
   ]
  },
  {
   "cell_type": "code",
   "execution_count": 23,
   "metadata": {},
   "outputs": [],
   "source": [
    "min_index =  0\n",
    "min_amount = B[min_index]\n",
    "for i in range(m):\n",
    "    if(B[i] < min_amount):\n",
    "        min_index = i\n",
    "        min_amount = B[i]"
   ]
  },
  {
   "cell_type": "code",
   "execution_count": 24,
   "metadata": {
    "scrolled": false
   },
   "outputs": [
    {
     "name": "stdout",
     "output_type": "stream",
     "text": [
      "max benefit of the machine earning the least benefit is:\n",
      "machine =  4\n",
      "benefit =  18\n"
     ]
    }
   ],
   "source": [
    "print(\"max benefit of the machine earning the least benefit is:\")\n",
    "print(\"machine = \", min_index + 1)\n",
    "print(\"benefit = \", min_amount)"
   ]
  },
  {
   "cell_type": "markdown",
   "metadata": {},
   "source": [
    "## Percentage Optimality Gap"
   ]
  },
  {
   "cell_type": "code",
   "execution_count": 25,
   "metadata": {},
   "outputs": [
    {
     "data": {
      "text/plain": [
       "0.3793103448275862"
      ]
     },
     "execution_count": 25,
     "metadata": {},
     "output_type": "execute_result"
    }
   ],
   "source": [
    "PercentageOptimalityGap(29, min_amount)"
   ]
  }
 ],
 "metadata": {
  "kernelspec": {
   "display_name": "Python 3",
   "language": "python",
   "name": "python3"
  },
  "language_info": {
   "codemirror_mode": {
    "name": "ipython",
    "version": 3
   },
   "file_extension": ".py",
   "mimetype": "text/x-python",
   "name": "python",
   "nbconvert_exporter": "python",
   "pygments_lexer": "ipython3",
   "version": "3.7.4"
  }
 },
 "nbformat": 4,
 "nbformat_minor": 2
}
