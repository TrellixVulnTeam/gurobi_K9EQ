{
 "cells": [
  {
   "cell_type": "code",
   "execution_count": 1,
   "metadata": {},
   "outputs": [],
   "source": [
    "import gurobipy as gp\n",
    "from gurobipy import GRB\n",
    "import numpy as np\n",
    "from gurobipy import *"
   ]
  },
  {
   "cell_type": "code",
   "execution_count": 2,
   "metadata": {},
   "outputs": [],
   "source": [
    "K = 15\n",
    "N = 25\n",
    "M = 4\n",
    "P = [3,6,7,5,4,2,6,3,5,8,10,2,4,7,1,5,8,3,6,4,12,4,8,4,7]\n",
    "B =[5,8,12,4,6,6,3,7,6,15,9,5,8,10,1,5,3,7,12,14,5,8,9,8,10]"
   ]
  },
  {
   "cell_type": "code",
   "execution_count": 3,
   "metadata": {},
   "outputs": [
    {
     "name": "stdout",
     "output_type": "stream",
     "text": [
      "Set parameter Username\n",
      "Academic license - for non-commercial use only - expires 2023-03-31\n"
     ]
    }
   ],
   "source": [
    "p3_b = Model(\"p3_b\")"
   ]
  },
  {
   "cell_type": "code",
   "execution_count": 4,
   "metadata": {},
   "outputs": [],
   "source": [
    "# a_jm\n",
    "a = {}\n",
    "\n",
    "for j in range(N):\n",
    "    for m in range(M):\n",
    "        a[j,m] = p3_b.addVar(lb = 0, ub= 1, vtype = GRB.CONTINUOUS, name = \"a_\" + str(j+1) + \"_\" + str(m+1))\n",
    "\n",
    "# w \n",
    "w = p3_b.addVar(lb = 0, vtype= GRB.CONTINUOUS, name = \"w\")"
   ]
  },
  {
   "cell_type": "code",
   "execution_count": 5,
   "metadata": {},
   "outputs": [],
   "source": [
    "# obj\n",
    "p3_b.setObjective(w, GRB.MAXIMIZE)"
   ]
  },
  {
   "cell_type": "code",
   "execution_count": 6,
   "metadata": {},
   "outputs": [
    {
     "data": {
      "text/plain": [
       "{0: <gurobi.Constr *Awaiting Model Update*>,\n",
       " 1: <gurobi.Constr *Awaiting Model Update*>,\n",
       " 2: <gurobi.Constr *Awaiting Model Update*>,\n",
       " 3: <gurobi.Constr *Awaiting Model Update*>}"
      ]
     },
     "execution_count": 6,
     "metadata": {},
     "output_type": "execute_result"
    }
   ],
   "source": [
    "#constraints\n",
    "\n",
    "#1\n",
    "p3_b.addConstrs(((quicksum(a[j,m] for m in range(M)) <= 1) for j in range(N)), \"1 job asigned to 1 machine\" )\n",
    "\n",
    "#2\n",
    "p3_b.addConstrs(((quicksum(a[j,m]*P[j] for j in range(N)) <= K) for m in range(M)), \"not exceed capacity\")\n",
    "\n",
    "#3\n",
    "p3_b.addConstrs(((quicksum(B[j]*a[j,m] for j in range(N)) >= w) for m in range(M)), \"w is the min\")\n"
   ]
  },
  {
   "cell_type": "code",
   "execution_count": 7,
   "metadata": {},
   "outputs": [
    {
     "name": "stdout",
     "output_type": "stream",
     "text": [
      "Gurobi Optimizer version 9.5.1 build v9.5.1rc2 (win64)\n",
      "Thread count: 2 physical cores, 4 logical processors, using up to 4 threads\n",
      "Optimize a model with 33 rows, 101 columns and 304 nonzeros\n",
      "Model fingerprint: 0x1f118831\n",
      "Coefficient statistics:\n",
      "  Matrix range     [1e+00, 2e+01]\n",
      "  Objective range  [1e+00, 1e+00]\n",
      "  Bounds range     [1e+00, 1e+00]\n",
      "  RHS range        [1e+00, 2e+01]\n",
      "Presolve time: 0.04s\n",
      "Presolved: 33 rows, 101 columns, 304 nonzeros\n",
      "\n",
      "Iteration    Objective       Primal Inf.    Dual Inf.      Time\n",
      "       0    8.0000000e+30   4.000000e+30   8.000000e+00      0s\n",
      "      56    3.0392857e+01   0.000000e+00   0.000000e+00      0s\n",
      "\n",
      "Solved in 56 iterations and 0.08 seconds (0.00 work units)\n",
      "Optimal objective  3.039285714e+01\n"
     ]
    }
   ],
   "source": [
    "\n",
    "p3_b.optimize()"
   ]
  },
  {
   "cell_type": "code",
   "execution_count": 8,
   "metadata": {},
   "outputs": [
    {
     "name": "stdout",
     "output_type": "stream",
     "text": [
      "a_1_1  =  0.0\n",
      "a_1_2  =  0.7467532467532467\n",
      "a_1_3  =  0.0\n",
      "a_1_4  =  0.2532467532467533\n",
      "a_2_1  =  0.0\n",
      "a_2_2  =  0.0\n",
      "a_2_3  =  0.0\n",
      "a_2_4  =  0.0\n",
      "a_3_1  =  0.0\n",
      "a_3_2  =  0.0\n",
      "a_3_3  =  0.0\n",
      "a_3_4  =  1.0\n",
      "a_4_1  =  0.0\n",
      "a_4_2  =  0.0\n",
      "a_4_3  =  0.0\n",
      "a_4_4  =  0.0\n",
      "a_5_1  =  0.029761904761905156\n",
      "a_5_2  =  0.0\n",
      "a_5_3  =  0.0\n",
      "a_5_4  =  0.9702380952380949\n",
      "a_6_1  =  0.44047619047618963\n",
      "a_6_2  =  0.0\n",
      "a_6_3  =  0.10714285714285661\n",
      "a_6_4  =  0.45238095238095377\n",
      "a_7_1  =  0.0\n",
      "a_7_2  =  0.0\n",
      "a_7_3  =  0.0\n",
      "a_7_4  =  0.0\n",
      "a_8_1  =  1.0\n",
      "a_8_2  =  0.0\n",
      "a_8_3  =  0.0\n",
      "a_8_4  =  0.0\n",
      "a_9_1  =  0.0\n",
      "a_9_2  =  0.0\n",
      "a_9_3  =  0.0\n",
      "a_9_4  =  0.0\n",
      "a_10_1  =  0.0\n",
      "a_10_2  =  0.0\n",
      "a_10_3  =  1.0\n",
      "a_10_4  =  0.0\n",
      "a_11_1  =  0.0\n",
      "a_11_2  =  0.0\n",
      "a_11_3  =  0.0\n",
      "a_11_4  =  0.0\n",
      "a_12_1  =  1.0\n",
      "a_12_2  =  0.0\n",
      "a_12_3  =  0.0\n",
      "a_12_4  =  0.0\n",
      "a_13_1  =  0.0\n",
      "a_13_2  =  1.0\n",
      "a_13_3  =  0.0\n",
      "a_13_4  =  0.0\n",
      "a_14_1  =  0.8571428571428571\n",
      "a_14_2  =  0.0\n",
      "a_14_3  =  0.0\n",
      "a_14_4  =  0.0\n",
      "a_15_1  =  0.0\n",
      "a_15_2  =  0.0\n",
      "a_15_3  =  0.0\n",
      "a_15_4  =  0.0\n",
      "a_16_1  =  0.0\n",
      "a_16_2  =  0.0\n",
      "a_16_3  =  0.0\n",
      "a_16_4  =  0.0\n",
      "a_17_1  =  0.0\n",
      "a_17_2  =  0.0\n",
      "a_17_3  =  0.0\n",
      "a_17_4  =  0.0\n",
      "a_18_1  =  1.0\n",
      "a_18_2  =  0.0\n",
      "a_18_3  =  0.0\n",
      "a_18_4  =  0.0\n",
      "a_19_1  =  0.0\n",
      "a_19_2  =  0.0\n",
      "a_19_3  =  1.0\n",
      "a_19_4  =  0.0\n",
      "a_20_1  =  0.0\n",
      "a_20_2  =  0.18993506493506496\n",
      "a_20_3  =  0.1964285714285717\n",
      "a_20_4  =  0.6136363636363633\n",
      "a_21_1  =  0.0\n",
      "a_21_2  =  0.0\n",
      "a_21_3  =  0.0\n",
      "a_21_4  =  0.0\n",
      "a_22_1  =  0.0\n",
      "a_22_2  =  1.0\n",
      "a_22_3  =  0.0\n",
      "a_22_4  =  0.0\n",
      "a_23_1  =  0.0\n",
      "a_23_2  =  0.0\n",
      "a_23_3  =  0.0\n",
      "a_23_4  =  0.0\n",
      "a_24_1  =  0.0\n",
      "a_24_2  =  1.0\n",
      "a_24_3  =  0.0\n",
      "a_24_4  =  0.0\n",
      "a_25_1  =  0.0\n",
      "a_25_2  =  0.0\n",
      "a_25_3  =  0.0\n",
      "a_25_4  =  0.0\n",
      "w  =  30.392857142857142\n",
      "objective value = 30.392857142857142\n"
     ]
    }
   ],
   "source": [
    "for var in p3_b.getVars():\n",
    "    print(var.varName, \" = \", var.x)  \n",
    "print(\"objective value =\", p3_b.objVal)"
   ]
  }
 ],
 "metadata": {
  "interpreter": {
   "hash": "2be5faf79681da6f2a61fdfdd5405d65d042280f7fba6178067603e3a2925119"
  },
  "kernelspec": {
   "display_name": "Python 3",
   "language": "python",
   "name": "python3"
  },
  "language_info": {
   "codemirror_mode": {
    "name": "ipython",
    "version": 3
   },
   "file_extension": ".py",
   "mimetype": "text/x-python",
   "name": "python",
   "nbconvert_exporter": "python",
   "pygments_lexer": "ipython3",
   "version": "3.7.4"
  }
 },
 "nbformat": 4,
 "nbformat_minor": 2
}
