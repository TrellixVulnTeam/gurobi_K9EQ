{
 "cells": [
  {
   "cell_type": "code",
   "execution_count": 1,
   "metadata": {},
   "outputs": [],
   "source": [
    "import gurobipy as gp\n",
    "from gurobipy import GRB\n",
    "import numpy as np\n",
    "from gurobipy import *"
   ]
  },
  {
   "cell_type": "code",
   "execution_count": 2,
   "metadata": {},
   "outputs": [],
   "source": [
    "K = 15\n",
    "N = 10\n",
    "M = 3\n",
    "P = [3, 6, 5, 4, 1, 8, 5, 12, 7, 6]\n",
    "B = [5, 8, 4, 6, 3, 7, 6, 9, 5, 8]"
   ]
  },
  {
   "cell_type": "code",
   "execution_count": 3,
   "metadata": {},
   "outputs": [
    {
     "name": "stdout",
     "output_type": "stream",
     "text": [
      "Set parameter Username\n",
      "Academic license - for non-commercial use only - expires 2023-03-28\n"
     ]
    }
   ],
   "source": [
    "p3_b = Model(\"p3_b\")"
   ]
  },
  {
   "cell_type": "code",
   "execution_count": 4,
   "metadata": {},
   "outputs": [],
   "source": [
    "# a_jm\n",
    "a = {}\n",
    "\n",
    "for j in range(N):\n",
    "    for m in range(M):\n",
    "        a[j,m] = p3_b.addVar(lb = 0, ub= 1, vtype = GRB.CONTINUOUS, name = \"a_\" + str(j+1) + \"_\" + str(m+1))\n",
    "\n",
    "# w \n",
    "w = p3_b.addVar(lb = 0, vtype= GRB.CONTINUOUS, name = \"w\")"
   ]
  },
  {
   "cell_type": "code",
   "execution_count": 5,
   "metadata": {},
   "outputs": [],
   "source": [
    "# obj\n",
    "p3_b.setObjective(w, GRB.MAXIMIZE)"
   ]
  },
  {
   "cell_type": "code",
   "execution_count": 6,
   "metadata": {},
   "outputs": [
    {
     "data": {
      "text/plain": [
       "{0: <gurobi.Constr *Awaiting Model Update*>,\n",
       " 1: <gurobi.Constr *Awaiting Model Update*>,\n",
       " 2: <gurobi.Constr *Awaiting Model Update*>}"
      ]
     },
     "execution_count": 6,
     "metadata": {},
     "output_type": "execute_result"
    }
   ],
   "source": [
    "#constraints\n",
    "\n",
    "#1\n",
    "p3_b.addConstrs(((quicksum(a[j,m] for m in range(M)) <= 1) for j in range(N)), \"1 job asigned to 1 machine\" )\n",
    "\n",
    "#2\n",
    "p3_b.addConstrs(((quicksum(a[j,m]*P[j] for j in range(N)) <= K) for m in range(M)), \"not exceed capacity\")\n",
    "\n",
    "#3\n",
    "p3_b.addConstrs(((quicksum(B[j]*a[j,m] for j in range(N)) >= w) for m in range(M)), \"w is the min\")\n"
   ]
  },
  {
   "cell_type": "code",
   "execution_count": 7,
   "metadata": {},
   "outputs": [
    {
     "name": "stdout",
     "output_type": "stream",
     "text": [
      "Gurobi Optimizer version 9.5.1 build v9.5.1rc2 (win64)\n",
      "Thread count: 4 physical cores, 8 logical processors, using up to 8 threads\n",
      "Optimize a model with 16 rows, 31 columns and 93 nonzeros\n",
      "Model fingerprint: 0x0bc04511\n",
      "Coefficient statistics:\n",
      "  Matrix range     [1e+00, 1e+01]\n",
      "  Objective range  [1e+00, 1e+00]\n",
      "  Bounds range     [1e+00, 1e+00]\n",
      "  RHS range        [1e+00, 2e+01]\n",
      "Presolve time: 0.04s\n",
      "Presolved: 16 rows, 31 columns, 93 nonzeros\n",
      "\n",
      "Iteration    Objective       Primal Inf.    Dual Inf.      Time\n",
      "       0    8.0000000e+30   3.000000e+30   8.000000e+00      0s\n",
      "      26    1.7416667e+01   0.000000e+00   0.000000e+00      0s\n",
      "\n",
      "Solved in 26 iterations and 0.07 seconds (0.00 work units)\n",
      "Optimal objective  1.741666667e+01\n"
     ]
    }
   ],
   "source": [
    "\n",
    "p3_b.optimize()"
   ]
  },
  {
   "cell_type": "code",
   "execution_count": 8,
   "metadata": {},
   "outputs": [
    {
     "name": "stdout",
     "output_type": "stream",
     "text": [
      "a_1_1  =  0.0\n",
      "a_1_2  =  0.0\n",
      "a_1_3  =  1.0\n",
      "a_2_1  =  0.11904761904761896\n",
      "a_2_2  =  0.880952380952381\n",
      "a_2_3  =  0.0\n",
      "a_3_1  =  0.0\n",
      "a_3_2  =  0.0\n",
      "a_3_3  =  1.0\n",
      "a_4_1  =  0.0\n",
      "a_4_2  =  0.0833333333333334\n",
      "a_4_3  =  0.9166666666666666\n",
      "a_5_1  =  0.0\n",
      "a_5_2  =  1.0\n",
      "a_5_3  =  0.0\n",
      "a_6_1  =  0.0\n",
      "a_6_2  =  0.5833333333333333\n",
      "a_6_3  =  0.4166666666666667\n",
      "a_7_1  =  1.0\n",
      "a_7_2  =  0.0\n",
      "a_7_3  =  0.0\n",
      "a_8_1  =  0.2738095238095239\n",
      "a_8_2  =  0.3095238095238095\n",
      "a_8_3  =  0.0\n",
      "a_9_1  =  0.0\n",
      "a_9_2  =  0.0\n",
      "a_9_3  =  0.0\n",
      "a_10_1  =  1.0\n",
      "a_10_2  =  0.0\n",
      "a_10_3  =  0.0\n",
      "w  =  17.416666666666668\n",
      "objective value = 17.416666666666668\n"
     ]
    }
   ],
   "source": [
    "for var in p3_b.getVars():\n",
    "  print(var.varName, \" = \", var.x)  \n",
    "print(\"objective value =\", p3_b.objVal)"
   ]
  }
 ],
 "metadata": {
  "interpreter": {
   "hash": "2be5faf79681da6f2a61fdfdd5405d65d042280f7fba6178067603e3a2925119"
  },
  "kernelspec": {
   "display_name": "Python 3.10.2 64-bit",
   "language": "python",
   "name": "python3"
  },
  "language_info": {
   "codemirror_mode": {
    "name": "ipython",
    "version": 3
   },
   "file_extension": ".py",
   "mimetype": "text/x-python",
   "name": "python",
   "nbconvert_exporter": "python",
   "pygments_lexer": "ipython3",
   "version": "3.9.7"
  },
  "orig_nbformat": 4
 },
 "nbformat": 4,
 "nbformat_minor": 2
}
