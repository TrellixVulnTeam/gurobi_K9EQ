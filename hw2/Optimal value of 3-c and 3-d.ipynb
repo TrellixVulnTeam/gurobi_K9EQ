{
 "cells": [
  {
   "cell_type": "code",
   "execution_count": 1,
   "metadata": {},
   "outputs": [],
   "source": [
    "import gurobipy as gp\n",
    "from gurobipy import GRB\n",
    "import numpy as np\n",
    "from gurobipy import *"
   ]
  },
  {
   "cell_type": "code",
   "execution_count": 2,
   "metadata": {},
   "outputs": [],
   "source": [
    "K = 15\n",
    "N = 25\n",
    "M = 4\n",
    "P = [3,6,7,5,4,2,6,3,5,8,10,2,4,7,1,5,8,3,6,4,12,4,8,4,7]\n",
    "B =[5,8,12,4,6,6,3,7,6,15,9,5,8,10,1,5,3,7,12,14,5,8,9,8,10]"
   ]
  },
  {
   "cell_type": "code",
   "execution_count": 3,
   "metadata": {},
   "outputs": [
    {
     "name": "stdout",
     "output_type": "stream",
     "text": [
      "Set parameter Username\n",
      "Academic license - for non-commercial use only - expires 2023-03-31\n"
     ]
    }
   ],
   "source": [
    "p3_b = Model(\"p3_b\")"
   ]
  },
  {
   "cell_type": "code",
   "execution_count": 4,
   "metadata": {},
   "outputs": [],
   "source": [
    "# a_jm\n",
    "a = {}\n",
    "\n",
    "for j in range(N):\n",
    "    for m in range(M):\n",
    "        a[j,m] = p3_b.addVar(lb = 0, vtype = GRB.BINARY, name = \"a_\" + str(j+1) + \"_\" + str(m+1))\n",
    "\n",
    "# w \n",
    "w = p3_b.addVar(lb = 0, vtype= GRB.CONTINUOUS, name = \"w\")"
   ]
  },
  {
   "cell_type": "code",
   "execution_count": 5,
   "metadata": {},
   "outputs": [],
   "source": [
    "# obj\n",
    "p3_b.setObjective(w, GRB.MAXIMIZE)"
   ]
  },
  {
   "cell_type": "code",
   "execution_count": 6,
   "metadata": {},
   "outputs": [
    {
     "data": {
      "text/plain": [
       "{0: <gurobi.Constr *Awaiting Model Update*>,\n",
       " 1: <gurobi.Constr *Awaiting Model Update*>,\n",
       " 2: <gurobi.Constr *Awaiting Model Update*>,\n",
       " 3: <gurobi.Constr *Awaiting Model Update*>}"
      ]
     },
     "execution_count": 6,
     "metadata": {},
     "output_type": "execute_result"
    }
   ],
   "source": [
    "#constraints\n",
    "\n",
    "#1\n",
    "p3_b.addConstrs(((quicksum(a[j,m] for m in range(M)) <= 1) for j in range(N)), \"1 job asigned to 1 machine\" )\n",
    "\n",
    "#2\n",
    "p3_b.addConstrs(((quicksum(a[j,m]*P[j] for j in range(N)) <= K) for m in range(M)), \"not exceed capacity\")\n",
    "\n",
    "#3\n",
    "p3_b.addConstrs(((quicksum(B[j]*a[j,m] for j in range(N)) >= w) for m in range(M)), \"w is the min\")\n"
   ]
  },
  {
   "cell_type": "code",
   "execution_count": 7,
   "metadata": {},
   "outputs": [
    {
     "name": "stdout",
     "output_type": "stream",
     "text": [
      "Gurobi Optimizer version 9.5.1 build v9.5.1rc2 (win64)\n",
      "Thread count: 2 physical cores, 4 logical processors, using up to 4 threads\n",
      "Optimize a model with 33 rows, 101 columns and 304 nonzeros\n",
      "Model fingerprint: 0x512b1066\n",
      "Variable types: 1 continuous, 100 integer (100 binary)\n",
      "Coefficient statistics:\n",
      "  Matrix range     [1e+00, 2e+01]\n",
      "  Objective range  [1e+00, 1e+00]\n",
      "  Bounds range     [1e+00, 1e+00]\n",
      "  RHS range        [1e+00, 2e+01]\n",
      "Found heuristic solution: objective -0.0000000\n",
      "Presolve time: 0.01s\n",
      "Presolved: 33 rows, 101 columns, 304 nonzeros\n",
      "Variable types: 0 continuous, 101 integer (100 binary)\n",
      "Found heuristic solution: objective 1.0000000\n",
      "\n",
      "Root relaxation: objective 3.039286e+01, 54 iterations, 0.01 seconds (0.00 work units)\n",
      "\n",
      "    Nodes    |    Current Node    |     Objective Bounds      |     Work\n",
      " Expl Unexpl |  Obj  Depth IntInf | Incumbent    BestBd   Gap | It/Node Time\n",
      "\n",
      "     0     0   30.39286    0   12    1.00000   30.39286  2939%     -    0s\n",
      "H    0     0                      17.0000000   30.39286  78.8%     -    0s\n",
      "H    0     0                      27.0000000   30.39286  12.6%     -    0s\n",
      "H    0     0                      28.0000000   30.39286  8.55%     -    0s\n",
      "     0     0   30.00000    0   12   28.00000   30.00000  7.14%     -    0s\n",
      "     0     0   30.00000    0   12   28.00000   30.00000  7.14%     -    0s\n",
      "     0     0   30.00000    0   12   28.00000   30.00000  7.14%     -    0s\n",
      "H    0     0                      29.0000000   30.00000  3.45%     -    0s\n",
      "     0     0   30.00000    0   13   29.00000   30.00000  3.45%     -    0s\n",
      "     0     0   30.00000    0    9   29.00000   30.00000  3.45%     -    0s\n",
      "     0     0   30.00000    0    6   29.00000   30.00000  3.45%     -    0s\n",
      "     0     0   30.00000    0   13   29.00000   30.00000  3.45%     -    0s\n",
      "     0     0   30.00000    0    8   29.00000   30.00000  3.45%     -    0s\n",
      "     0     0   30.00000    0    6   29.00000   30.00000  3.45%     -    0s\n",
      "     0     0   30.00000    0   14   29.00000   30.00000  3.45%     -    0s\n",
      "     0     0   30.00000    0    9   29.00000   30.00000  3.45%     -    0s\n",
      "     0     0   30.00000    0    4   29.00000   30.00000  3.45%     -    0s\n",
      "     0     0   30.00000    0   10   29.00000   30.00000  3.45%     -    0s\n",
      "     0     0   30.00000    0    6   29.00000   30.00000  3.45%     -    0s\n",
      "     0     0   30.00000    0    6   29.00000   30.00000  3.45%     -    0s\n",
      "     0     0   30.00000    0    7   29.00000   30.00000  3.45%     -    0s\n",
      "     0     0   30.00000    0   10   29.00000   30.00000  3.45%     -    0s\n",
      "     0     0   30.00000    0    4   29.00000   30.00000  3.45%     -    0s\n",
      "     0     0   30.00000    0    6   29.00000   30.00000  3.45%     -    0s\n",
      "     0     0   30.00000    0    1   29.00000   30.00000  3.45%     -    0s\n",
      "     0     0   30.00000    0   12   29.00000   30.00000  3.45%     -    0s\n",
      "     0     0   30.00000    0   10   29.00000   30.00000  3.45%     -    0s\n",
      "     0     0   30.00000    0    4   29.00000   30.00000  3.45%     -    0s\n",
      "     0     0   30.00000    0    5   29.00000   30.00000  3.45%     -    0s\n",
      "     0     0   30.00000    0    6   29.00000   30.00000  3.45%     -    0s\n",
      "     0     0   30.00000    0    9   29.00000   30.00000  3.45%     -    0s\n",
      "     0     0   30.00000    0    4   29.00000   30.00000  3.45%     -    0s\n",
      "     0     0   30.00000    0    4   29.00000   30.00000  3.45%     -    0s\n",
      "     0     2   30.00000    0    4   29.00000   30.00000  3.45%     -    0s\n",
      "\n",
      "Cutting planes:\n",
      "  Gomory: 1\n",
      "  Cover: 12\n",
      "  MIR: 5\n",
      "  StrongCG: 2\n",
      "  Zero half: 1\n",
      "\n",
      "Explored 60 nodes (1678 simplex iterations) in 0.49 seconds (0.03 work units)\n",
      "Thread count was 4 (of 4 available processors)\n",
      "\n",
      "Solution count 6: 29 28 27 ... -0\n",
      "\n",
      "Optimal solution found (tolerance 1.00e-04)\n",
      "Best objective 2.900000000000e+01, best bound 2.900000000000e+01, gap 0.0000%\n"
     ]
    }
   ],
   "source": [
    "\n",
    "p3_b.optimize()"
   ]
  },
  {
   "cell_type": "code",
   "execution_count": 9,
   "metadata": {},
   "outputs": [
    {
     "name": "stdout",
     "output_type": "stream",
     "text": [
      "objective value = 29.0\n"
     ]
    }
   ],
   "source": [
    "# for var in p3_b.getVars():\n",
    "#   print(var.varName, \" = \", var.x)  \n",
    "print(\"objective value =\", p3_b.objVal)"
   ]
  },
  {
   "cell_type": "code",
   "execution_count": null,
   "metadata": {},
   "outputs": [],
   "source": []
  }
 ],
 "metadata": {
  "interpreter": {
   "hash": "2be5faf79681da6f2a61fdfdd5405d65d042280f7fba6178067603e3a2925119"
  },
  "kernelspec": {
   "display_name": "Python 3",
   "language": "python",
   "name": "python3"
  },
  "language_info": {
   "codemirror_mode": {
    "name": "ipython",
    "version": 3
   },
   "file_extension": ".py",
   "mimetype": "text/x-python",
   "name": "python",
   "nbconvert_exporter": "python",
   "pygments_lexer": "ipython3",
   "version": "3.7.4"
  }
 },
 "nbformat": 4,
 "nbformat_minor": 2
}
